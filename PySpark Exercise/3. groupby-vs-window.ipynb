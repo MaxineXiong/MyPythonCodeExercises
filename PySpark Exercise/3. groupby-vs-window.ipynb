{
 "cells": [
  {
   "cell_type": "code",
   "execution_count": 1,
   "metadata": {},
   "outputs": [],
   "source": [
    "import findspark\n",
    "import os\n",
    "\n",
    "findspark.init(os.environ['SPARK_HOME'])"
   ]
  },
  {
   "cell_type": "code",
   "execution_count": 2,
   "metadata": {},
   "outputs": [],
   "source": [
    "from pyspark.sql import SparkSession, Window\n",
    "import pyspark.sql.functions as F"
   ]
  },
  {
   "cell_type": "code",
   "execution_count": 3,
   "metadata": {},
   "outputs": [],
   "source": [
    "spark = SparkSession.builder.appName('groupby-n-window').getOrCreate()"
   ]
  },
  {
   "cell_type": "code",
   "execution_count": 4,
   "metadata": {},
   "outputs": [
    {
     "name": "stdout",
     "output_type": "stream",
     "text": [
      "AAPL.csv\n",
      "GOOG.csv\n",
      "IBM.csv\n",
      "INTC.csv\n",
      "MSFT.csv\n"
     ]
    }
   ],
   "source": [
    "!ls ./data/stocks/"
   ]
  },
  {
   "cell_type": "code",
   "execution_count": 5,
   "metadata": {},
   "outputs": [],
   "source": [
    "df_apple = spark.read.csv('./data/stocks/AAPL.csv', header=True, sep=',', inferSchema=True)\n",
    "df_google = spark.read.csv('./data/stocks/GOOG.csv', header=True, sep=',', inferSchema=True)\n",
    "df_ibm = spark.read.csv('./data/stocks/IBM.csv', header=True, sep=',', inferSchema=True)\n",
    "df_intel = spark.read.csv('./data/stocks/INTC.csv', header=True, sep=',', inferSchema=True)\n",
    "df_ms = spark.read.csv('./data/stocks/MSFT.csv', header=True, sep=',', inferSchema=True)"
   ]
  },
  {
   "cell_type": "code",
   "execution_count": 6,
   "metadata": {},
   "outputs": [
    {
     "name": "stdout",
     "output_type": "stream",
     "text": [
      "Apple: 253\n",
      "Google: 253\n",
      "IBM: 253\n",
      "Intel: 253\n",
      "Microsoft: 253\n"
     ]
    }
   ],
   "source": [
    "print(\"Apple: \" + str(df_apple.count()))\n",
    "print(\"Google: \" + str(df_google.count()))\n",
    "print(\"IBM: \" + str(df_ibm.count()))\n",
    "print(\"Intel: \" + str(df_intel.count()))\n",
    "print(\"Microsoft: \" + str(df_ms.count()))"
   ]
  },
  {
   "cell_type": "code",
   "execution_count": 7,
   "metadata": {
    "scrolled": true
   },
   "outputs": [
    {
     "name": "stdout",
     "output_type": "stream",
     "text": [
      "+-------------------+----------+----------+----------+----------+----------+-------+\n",
      "|               Date|      Open|      High|       Low|     Close| Adj Close| Volume|\n",
      "+-------------------+----------+----------+----------+----------+----------+-------+\n",
      "|2019-04-25 00:00:00|139.699997|    139.75|137.710007|138.630005|132.443527|2910100|\n",
      "|2019-04-26 00:00:00|139.339996|139.889999|138.809998|139.440002|133.217377|2319800|\n",
      "|2019-04-29 00:00:00|139.149994|139.630005|138.809998|139.050003|132.844788|2958300|\n",
      "|2019-04-30 00:00:00|139.110001|140.440002|138.679993|140.270004|134.010345|4638800|\n",
      "|2019-05-01 00:00:00|140.550003|141.809998|140.169998|140.559998|134.287384|3053700|\n",
      "+-------------------+----------+----------+----------+----------+----------+-------+\n",
      "only showing top 5 rows\n",
      "\n"
     ]
    }
   ],
   "source": [
    "df_ibm.show(5)"
   ]
  },
  {
   "cell_type": "code",
   "execution_count": 11,
   "metadata": {},
   "outputs": [],
   "source": [
    "# lit(): assign a constant value to a new column\n",
    "df_apple = df_apple.withColumn('name', F.lit('AAPL'))\n",
    "df_google = df_google.withColumn('name', F.lit('GOOG'))\n",
    "df_ibm = df_ibm.withColumn('name', F.lit('IBM'))\n",
    "df_intel = df_intel.withColumn('name', F.lit('INTC'))\n",
    "df_ms = df_ms.withColumn('name', F.lit('MSFT'))"
   ]
  },
  {
   "cell_type": "code",
   "execution_count": 12,
   "metadata": {},
   "outputs": [
    {
     "name": "stdout",
     "output_type": "stream",
     "text": [
      "+-------------------+----------+----------+----------+----------+----------+-------+----+\n",
      "|               Date|      Open|      High|       Low|     Close| Adj Close| Volume|name|\n",
      "+-------------------+----------+----------+----------+----------+----------+-------+----+\n",
      "|2019-04-25 00:00:00|139.699997|    139.75|137.710007|138.630005|132.443527|2910100| IBM|\n",
      "|2019-04-26 00:00:00|139.339996|139.889999|138.809998|139.440002|133.217377|2319800| IBM|\n",
      "|2019-04-29 00:00:00|139.149994|139.630005|138.809998|139.050003|132.844788|2958300| IBM|\n",
      "|2019-04-30 00:00:00|139.110001|140.440002|138.679993|140.270004|134.010345|4638800| IBM|\n",
      "|2019-05-01 00:00:00|140.550003|141.809998|140.169998|140.559998|134.287384|3053700| IBM|\n",
      "+-------------------+----------+----------+----------+----------+----------+-------+----+\n",
      "only showing top 5 rows\n",
      "\n"
     ]
    }
   ],
   "source": [
    "df_ibm.show(5)"
   ]
  },
  {
   "cell_type": "code",
   "execution_count": 13,
   "metadata": {},
   "outputs": [],
   "source": [
    "df = df_apple.union(df_google).union(df_ibm).union(df_intel).union(df_ms)"
   ]
  },
  {
   "cell_type": "code",
   "execution_count": 14,
   "metadata": {},
   "outputs": [
    {
     "data": {
      "text/plain": [
       "1265"
      ]
     },
     "execution_count": 14,
     "metadata": {},
     "output_type": "execute_result"
    }
   ],
   "source": [
    "df.count()"
   ]
  },
  {
   "cell_type": "markdown",
   "metadata": {},
   "source": [
    "## Group By"
   ]
  },
  {
   "cell_type": "code",
   "execution_count": 17,
   "metadata": {},
   "outputs": [
    {
     "name": "stdout",
     "output_type": "stream",
     "text": [
      "+----+-----------+-----------+------------------+---------+\n",
      "|name|        max|        min|              diff|fluctuate|\n",
      "+----+-----------+-----------+------------------+---------+\n",
      "|AAPL| 327.850006| 170.270004|        157.580002|    92.55|\n",
      "| IBM|     158.75|  90.559998|         68.190002|     75.3|\n",
      "|INTC|  69.290001|  42.860001|26.430000000000007|    61.67|\n",
      "|MSFT| 190.699997| 119.010002|         71.689995|    60.24|\n",
      "|GOOG|1532.105957|1013.536011|        518.569946|    51.16|\n",
      "+----+-----------+-----------+------------------+---------+\n",
      "\n"
     ]
    }
   ],
   "source": [
    "df.groupBy('name').agg(\n",
    "    F.max(F.col('High')).alias('max'),\n",
    "    F.min(F.col('Low')).alias('min'),\n",
    ").withColumn(\n",
    "    'diff', F.col('max') - F.col('min')\n",
    ").withColumn(\n",
    "    'fluctuate', F.round(F.col('diff') / F.col('min') * 100, 2)\n",
    ").sort(F.desc('fluctuate')).show()"
   ]
  },
  {
   "cell_type": "markdown",
   "metadata": {},
   "source": [
    "## Window"
   ]
  },
  {
   "cell_type": "code",
   "execution_count": 18,
   "metadata": {
    "scrolled": true
   },
   "outputs": [
    {
     "name": "stdout",
     "output_type": "stream",
     "text": [
      "+-------------------+----------+----------+----------+----------+----------+--------+----+\n",
      "|               Date|      Open|      High|       Low|     Close| Adj Close|  Volume|name|\n",
      "+-------------------+----------+----------+----------+----------+----------+--------+----+\n",
      "|2019-04-25 00:00:00|206.830002|207.759995|205.119995|205.279999|202.627808|18543200|AAPL|\n",
      "|2019-04-26 00:00:00|204.899994|     205.0|202.119995|204.300003|201.660461|18649100|AAPL|\n",
      "|2019-04-29 00:00:00|204.399994|205.970001|203.860001|204.610001|201.966461|22204700|AAPL|\n",
      "|2019-04-30 00:00:00|203.059998|203.399994|199.110001|200.669998|198.077362|46534900|AAPL|\n",
      "|2019-05-01 00:00:00|209.880005|215.309998|209.229996|210.520004| 207.80011|64827300|AAPL|\n",
      "+-------------------+----------+----------+----------+----------+----------+--------+----+\n",
      "only showing top 5 rows\n",
      "\n"
     ]
    }
   ],
   "source": [
    "df.show(5)"
   ]
  },
  {
   "cell_type": "code",
   "execution_count": 19,
   "metadata": {},
   "outputs": [
    {
     "name": "stdout",
     "output_type": "stream",
     "text": [
      "+-------------------+----------+----------+----------+----------+----------+--------+----+---------------------+\n",
      "|               Date|      Open|      High|       Low|     Close| Adj Close|  Volume|name|MovingAvg_5days_Close|\n",
      "+-------------------+----------+----------+----------+----------+----------+--------+----+---------------------+\n",
      "|2020-04-24 00:00:00|277.200012| 283.01001|     277.0|282.970001|282.970001|31540300|AAPL|          275.8799988|\n",
      "|2020-04-23 00:00:00|275.869995|    281.75|274.869995|275.029999|275.029999|31203600|AAPL|          275.8459962|\n",
      "|2020-04-22 00:00:00|273.609985|277.899994|272.200012|276.100006|276.100006|29264300|AAPL|          278.1779968|\n",
      "|2020-04-21 00:00:00|276.279999|    277.25|265.429993|268.369995|268.369995|45247900|AAPL|          279.8439942|\n",
      "|2020-04-20 00:00:00|277.950012|281.679993|276.850006|276.929993|276.929993|32503800|AAPL|          283.5799928|\n",
      "|2020-04-17 00:00:00|284.690002|286.950012|276.859985|282.799988|282.799988|53812500|AAPL|          282.8439942|\n",
      "|2020-04-16 00:00:00|287.380005|288.200012|282.350006|286.690002|286.690002|39281300|AAPL|          279.8819946|\n",
      "|2020-04-15 00:00:00|282.399994|286.329987|280.630005|284.429993|284.429993|32788600|AAPL|          275.7579956|\n",
      "|2020-04-14 00:00:00|     280.0|    288.25|278.049988|287.049988|287.049988|48748700|AAPL|          270.7579956|\n",
      "|2020-04-13 00:00:00|268.309998|273.700012|265.829987|    273.25|    273.25|32755700|AAPL|   265.84199820000003|\n",
      "|2020-04-09 00:00:00|268.700012|270.070007|264.700012| 267.98999| 267.98999|40529100|AAPL|   259.47399900000005|\n",
      "|2020-04-08 00:00:00| 262.73999|267.369995|261.230011|266.070007|266.070007|42223800|AAPL|          254.8619996|\n",
      "|2020-04-07 00:00:00|270.799988|271.700012|     259.0|259.429993|259.429993|50721800|AAPL|           249.829999|\n",
      "|2020-04-06 00:00:00|250.899994|263.109985|249.380005|262.470001|262.470001|50455100|AAPL|   248.80199899999997|\n",
      "|2020-04-03 00:00:00|242.800003|245.699997|238.970001|241.410004|241.410004|32470000|AAPL|          247.2699984|\n",
      "|2020-04-02 00:00:00|240.339996|245.149994|236.899994|244.929993|244.929993|41483500|AAPL|   248.53599860000003|\n",
      "|2020-04-01 00:00:00|     246.5|248.720001|239.130005|240.910004|240.910004|44054600|AAPL|          251.2380004|\n",
      "|2020-03-31 00:00:00|255.600006| 262.48999|     252.0|254.289993|254.289993|49250500|AAPL|          252.1600004|\n",
      "|2020-03-30 00:00:00|250.740005|255.520004|249.399994|254.809998|254.809998|41994100|AAPL|          250.6780028|\n",
      "|2020-03-27 00:00:00|    252.75|255.869995|247.050003|247.740005|247.740005|51054200|AAPL|          244.5900022|\n",
      "+-------------------+----------+----------+----------+----------+----------+--------+----+---------------------+\n",
      "only showing top 20 rows\n",
      "\n"
     ]
    }
   ],
   "source": [
    "df.withColumn(\n",
    "    'MovingAvg_5days_Close', \n",
    "    F.avg(F.col('Close')).over(\n",
    "        Window.partitionBy('name').orderBy(F.desc('Date'))\n",
    "              .rowsBetween(0, 4)\n",
    "    ),\n",
    ").show()"
   ]
  },
  {
   "cell_type": "markdown",
   "metadata": {},
   "source": [
    "## Challenge\n",
    "\n",
    "* Which stock's latest Adj Close has the largest rise compared to historical low?\n",
    "* which stock's latest Adj Close has the largest fall compared to historical high?"
   ]
  },
  {
   "cell_type": "code",
   "execution_count": 36,
   "metadata": {},
   "outputs": [],
   "source": [
    "df_1 = df.join(\n",
    "    df.groupBy('name').agg(F.max(F.col('Date')).alias('Date')),\n",
    "    how='inner',\n",
    "    on=['name', 'Date'],\n",
    ").select(['name', 'Adj Close']).withColumnRenamed('Adj Close', 'Recent')\n",
    "\n",
    "df_2 = df.groupBy('name').agg(\n",
    "    F.max(F.col('Adj Close')).alias('Highest'),\n",
    "    F.min(F.col('Adj Close')).alias('Lowest'),\n",
    ")\n",
    "\n",
    "df_3 = df_1.join(df_2, how='inner', on='name') \\\n",
    "           .withColumn('Rise', F.col('Recent') - F.col('Lowest')) \\\n",
    "           .withColumn('Fall', F.col('Highest') - F.col('Recent'))"
   ]
  },
  {
   "cell_type": "code",
   "execution_count": 43,
   "metadata": {},
   "outputs": [
    {
     "data": {
      "text/html": [
       "<div>\n",
       "<style scoped>\n",
       "    .dataframe tbody tr th:only-of-type {\n",
       "        vertical-align: middle;\n",
       "    }\n",
       "\n",
       "    .dataframe tbody tr th {\n",
       "        vertical-align: top;\n",
       "    }\n",
       "\n",
       "    .dataframe thead th {\n",
       "        text-align: right;\n",
       "    }\n",
       "</style>\n",
       "<table border=\"1\" class=\"dataframe\">\n",
       "  <thead>\n",
       "    <tr style=\"text-align: right;\">\n",
       "      <th></th>\n",
       "      <th>name</th>\n",
       "      <th>Recent</th>\n",
       "      <th>Highest</th>\n",
       "      <th>Lowest</th>\n",
       "      <th>Rise</th>\n",
       "      <th>Fall</th>\n",
       "    </tr>\n",
       "  </thead>\n",
       "  <tbody>\n",
       "    <tr>\n",
       "      <th>0</th>\n",
       "      <td>AAPL</td>\n",
       "      <td>282.970001</td>\n",
       "      <td>327.200012</td>\n",
       "      <td>171.719727</td>\n",
       "      <td>111.250274</td>\n",
       "      <td>44.230011</td>\n",
       "    </tr>\n",
       "    <tr>\n",
       "      <th>1</th>\n",
       "      <td>GOOG</td>\n",
       "      <td>1279.310059</td>\n",
       "      <td>1526.689941</td>\n",
       "      <td>1036.229980</td>\n",
       "      <td>243.080079</td>\n",
       "      <td>247.379882</td>\n",
       "    </tr>\n",
       "    <tr>\n",
       "      <th>2</th>\n",
       "      <td>IBM</td>\n",
       "      <td>124.720001</td>\n",
       "      <td>155.309998</td>\n",
       "      <td>94.769997</td>\n",
       "      <td>29.950004</td>\n",
       "      <td>30.589997</td>\n",
       "    </tr>\n",
       "    <tr>\n",
       "      <th>3</th>\n",
       "      <td>INTC</td>\n",
       "      <td>59.259998</td>\n",
       "      <td>68.134460</td>\n",
       "      <td>42.721867</td>\n",
       "      <td>16.538131</td>\n",
       "      <td>8.874462</td>\n",
       "    </tr>\n",
       "    <tr>\n",
       "      <th>4</th>\n",
       "      <td>MSFT</td>\n",
       "      <td>174.550003</td>\n",
       "      <td>188.185989</td>\n",
       "      <td>118.712952</td>\n",
       "      <td>55.837051</td>\n",
       "      <td>13.635986</td>\n",
       "    </tr>\n",
       "  </tbody>\n",
       "</table>\n",
       "</div>"
      ],
      "text/plain": [
       "   name       Recent      Highest       Lowest        Rise        Fall\n",
       "0  AAPL   282.970001   327.200012   171.719727  111.250274   44.230011\n",
       "1  GOOG  1279.310059  1526.689941  1036.229980  243.080079  247.379882\n",
       "2   IBM   124.720001   155.309998    94.769997   29.950004   30.589997\n",
       "3  INTC    59.259998    68.134460    42.721867   16.538131    8.874462\n",
       "4  MSFT   174.550003   188.185989   118.712952   55.837051   13.635986"
      ]
     },
     "execution_count": 43,
     "metadata": {},
     "output_type": "execute_result"
    }
   ],
   "source": [
    "df_3.toPandas()"
   ]
  },
  {
   "cell_type": "code",
   "execution_count": 40,
   "metadata": {
    "scrolled": true
   },
   "outputs": [
    {
     "name": "stdout",
     "output_type": "stream",
     "text": [
      "+----+------------------+\n",
      "|name|              Rise|\n",
      "+----+------------------+\n",
      "|GOOG|243.08007899999984|\n",
      "+----+------------------+\n",
      "only showing top 1 row\n",
      "\n"
     ]
    }
   ],
   "source": [
    "df_3.sort(F.desc('Rise')).select(['name', 'Rise']).show(1)"
   ]
  },
  {
   "cell_type": "code",
   "execution_count": 42,
   "metadata": {},
   "outputs": [
    {
     "name": "stdout",
     "output_type": "stream",
     "text": [
      "+----+------------------+\n",
      "|name|              Fall|\n",
      "+----+------------------+\n",
      "|GOOG|247.37988200000018|\n",
      "+----+------------------+\n",
      "only showing top 1 row\n",
      "\n"
     ]
    }
   ],
   "source": [
    "df_3.sort(F.desc('Fall')).select(['name', 'Fall']).show(1)"
   ]
  }
 ],
 "metadata": {
  "kernelspec": {
   "display_name": "Python 3 (ipykernel)",
   "language": "python",
   "name": "python3"
  },
  "language_info": {
   "codemirror_mode": {
    "name": "ipython",
    "version": 3
   },
   "file_extension": ".py",
   "mimetype": "text/x-python",
   "name": "python",
   "nbconvert_exporter": "python",
   "pygments_lexer": "ipython3",
   "version": "3.8.17"
  },
  "toc": {
   "base_numbering": 1,
   "nav_menu": {},
   "number_sections": false,
   "sideBar": true,
   "skip_h1_title": false,
   "title_cell": "Table of Contents",
   "title_sidebar": "Contents",
   "toc_cell": false,
   "toc_position": {},
   "toc_section_display": true,
   "toc_window_display": false
  }
 },
 "nbformat": 4,
 "nbformat_minor": 2
}
