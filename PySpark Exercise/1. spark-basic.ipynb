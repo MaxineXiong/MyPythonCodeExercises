{
 "cells": [
  {
   "cell_type": "markdown",
   "metadata": {},
   "source": [
    "# <center> spark-basic </center>"
   ]
  },
  {
   "cell_type": "markdown",
   "metadata": {},
   "source": [
    "## What can Spark do\n",
    "* **SQL-like operation. Traditional data analytics.**\n",
    "* Machine learning. Advanced data analytics.\n",
    "* Distributed / Parallel computing which can deal with big data "
   ]
  },
  {
   "cell_type": "markdown",
   "metadata": {},
   "source": [
    "## Below capabilities will be demoed in this section\n",
    "* create dataframe from python data structure\n",
    "* read/write csv data file\n",
    "* select & filter\n",
    "* add and drop columns\n",
    "* join (all types)\n",
    "* groupby\n",
    "* fill null/missing value\n",
    "* data schema\n",
    "* change column name"
   ]
  },
  {
   "cell_type": "code",
   "execution_count": 1,
   "metadata": {},
   "outputs": [],
   "source": [
    "import os\n",
    "import findspark\n",
    "\n",
    "findspark.init(os.environ['SPARK_HOME'])"
   ]
  },
  {
   "cell_type": "code",
   "execution_count": 2,
   "metadata": {},
   "outputs": [],
   "source": [
    "from pyspark.sql import SparkSession"
   ]
  },
  {
   "cell_type": "markdown",
   "metadata": {},
   "source": [
    "## Create a spark session\n",
    "\n",
    "This is the entry point of spark operations"
   ]
  },
  {
   "cell_type": "code",
   "execution_count": 3,
   "metadata": {},
   "outputs": [],
   "source": [
    "spark = SparkSession.builder.appName('spark').getOrCreate()"
   ]
  },
  {
   "cell_type": "markdown",
   "metadata": {},
   "source": [
    "## Create dataframe from Python array of tuples"
   ]
  },
  {
   "cell_type": "code",
   "execution_count": 9,
   "metadata": {},
   "outputs": [],
   "source": [
    "name = spark.createDataFrame(\n",
    "    [(0, \"Alex\"), (1, \"Bob\"), (2, \"Cherry\"), (3, \"Dan\"), (4, \"Ethan\"), (5, \"Flynn\")],\n",
    "    [\"id\", \"name\"],\n",
    ")\n",
    "\n",
    "math = spark.createDataFrame(\n",
    "    [(0, 95), (1, 98), (2, 73), (3, 54), (4, 68), (5, 98)],\n",
    "    [\"id\", \"math\"],\n",
    ")\n",
    "\n",
    "english = spark.createDataFrame(\n",
    "    [(0, 90), (1, 80), (2, 85), (3, 68), (4, 65), (5, 97)],\n",
    "    [\"id\", \"english\"],\n",
    ")\n",
    "\n",
    "chinese = spark.createDataFrame(\n",
    "    [(0, 79), (1, 89), (2, 86), (3, 57), (4, 86), (5, 99)],\n",
    "    [\"id\", \"chinese\"],\n",
    ")\n",
    "\n",
    "physics = spark.createDataFrame(\n",
    "    [(0, 86), (1, 95), (2, 88), (3, 96), (4, 68), (5, 96)],\n",
    "    [\"id\", \"physics\"],\n",
    ")\n",
    "\n",
    "chemistry = spark.createDataFrame(\n",
    "    [(0, 67), (1, 71), (2, 85), (3, 68), (4, 95), (5, 95)],\n",
    "    [\"id\", \"chemistry\"],\n",
    ")\n",
    "\n",
    "history = spark.createDataFrame(\n",
    "    [(0, 73), (1, 80), (2, 91), (3, 57), (4, 78), (5, 99)],\n",
    "    [\"id\", \"history\"],\n",
    ")"
   ]
  },
  {
   "cell_type": "markdown",
   "metadata": {},
   "source": [
    "## Basic Spark operations"
   ]
  },
  {
   "cell_type": "code",
   "execution_count": 10,
   "metadata": {},
   "outputs": [
    {
     "name": "stdout",
     "output_type": "stream",
     "text": [
      "+---+------+\n",
      "| id|  name|\n",
      "+---+------+\n",
      "|  0|  Alex|\n",
      "|  1|   Bob|\n",
      "|  2|Cherry|\n",
      "|  3|   Dan|\n",
      "|  4| Ethan|\n",
      "|  5| Flynn|\n",
      "+---+------+\n",
      "\n"
     ]
    }
   ],
   "source": [
    "# print first 20 rows\n",
    "name.show()"
   ]
  },
  {
   "cell_type": "code",
   "execution_count": 12,
   "metadata": {},
   "outputs": [
    {
     "name": "stdout",
     "output_type": "stream",
     "text": [
      "+---+-------+\n",
      "| id|english|\n",
      "+---+-------+\n",
      "|  0|     90|\n",
      "|  1|     80|\n",
      "|  2|     85|\n",
      "|  3|     68|\n",
      "+---+-------+\n",
      "only showing top 4 rows\n",
      "\n"
     ]
    }
   ],
   "source": [
    "english.show(4)"
   ]
  },
  {
   "cell_type": "code",
   "execution_count": 11,
   "metadata": {},
   "outputs": [
    {
     "name": "stdout",
     "output_type": "stream",
     "text": [
      "+---+----+\n",
      "| id|math|\n",
      "+---+----+\n",
      "|  0|  95|\n",
      "|  1|  98|\n",
      "+---+----+\n",
      "only showing top 2 rows\n",
      "\n"
     ]
    }
   ],
   "source": [
    "math.show(2)"
   ]
  },
  {
   "cell_type": "code",
   "execution_count": 14,
   "metadata": {},
   "outputs": [
    {
     "name": "stdout",
     "output_type": "stream",
     "text": [
      "+---+------+----+\n",
      "| id|  name|math|\n",
      "+---+------+----+\n",
      "|  0|  Alex|  95|\n",
      "|  1|   Bob|  98|\n",
      "|  2|Cherry|  73|\n",
      "|  3|   Dan|  54|\n",
      "|  5| Flynn|  98|\n",
      "|  4| Ethan|  68|\n",
      "+---+------+----+\n",
      "\n"
     ]
    }
   ],
   "source": [
    "result = name.join(math, how='left', on='id')\n",
    "result.show()"
   ]
  },
  {
   "cell_type": "code",
   "execution_count": 15,
   "metadata": {},
   "outputs": [],
   "source": [
    "for x in [english, chinese, physics, chemistry, history]:\n",
    "    result = result.join(x, how='left', on='id')"
   ]
  },
  {
   "cell_type": "code",
   "execution_count": 16,
   "metadata": {},
   "outputs": [
    {
     "name": "stdout",
     "output_type": "stream",
     "text": [
      "+---+------+----+-------+-------+-------+---------+-------+\n",
      "| id|  name|math|english|chinese|physics|chemistry|history|\n",
      "+---+------+----+-------+-------+-------+---------+-------+\n",
      "|  0|  Alex|  95|     90|     79|     86|       67|     73|\n",
      "|  1|   Bob|  98|     80|     89|     95|       71|     80|\n",
      "|  2|Cherry|  73|     85|     86|     88|       85|     91|\n",
      "|  3|   Dan|  54|     68|     57|     96|       68|     57|\n",
      "|  5| Flynn|  98|     97|     99|     96|       95|     99|\n",
      "|  4| Ethan|  68|     65|     86|     68|       95|     78|\n",
      "+---+------+----+-------+-------+-------+---------+-------+\n",
      "\n"
     ]
    }
   ],
   "source": [
    "result.show()"
   ]
  },
  {
   "cell_type": "markdown",
   "metadata": {},
   "source": [
    "<hr/>"
   ]
  },
  {
   "cell_type": "markdown",
   "metadata": {},
   "source": [
    "## Joins"
   ]
  },
  {
   "cell_type": "markdown",
   "metadata": {},
   "source": [
    "![join_types](./pics/join_types.png)"
   ]
  },
  {
   "cell_type": "code",
   "execution_count": 17,
   "metadata": {},
   "outputs": [],
   "source": [
    "biology = spark.createDataFrame(\n",
    "    [(0, 89), (1, 87), (3, 88), (5, 95)], ['id', 'biology']\n",
    ")"
   ]
  },
  {
   "cell_type": "code",
   "execution_count": 18,
   "metadata": {},
   "outputs": [
    {
     "name": "stdout",
     "output_type": "stream",
     "text": [
      "+---+-------+\n",
      "| id|biology|\n",
      "+---+-------+\n",
      "|  0|     89|\n",
      "|  1|     87|\n",
      "|  3|     88|\n",
      "|  5|     95|\n",
      "+---+-------+\n",
      "\n"
     ]
    }
   ],
   "source": [
    "biology.show()"
   ]
  },
  {
   "cell_type": "code",
   "execution_count": 19,
   "metadata": {},
   "outputs": [],
   "source": [
    "french = spark.createDataFrame([(0, 75), (2, 86), (5, 99)], ['id', 'french'])"
   ]
  },
  {
   "cell_type": "code",
   "execution_count": 20,
   "metadata": {},
   "outputs": [
    {
     "name": "stdout",
     "output_type": "stream",
     "text": [
      "+---+------+\n",
      "| id|french|\n",
      "+---+------+\n",
      "|  0|    75|\n",
      "|  2|    86|\n",
      "|  5|    99|\n",
      "+---+------+\n",
      "\n"
     ]
    }
   ],
   "source": [
    "french.show()"
   ]
  },
  {
   "cell_type": "markdown",
   "metadata": {},
   "source": [
    "### inner"
   ]
  },
  {
   "cell_type": "code",
   "execution_count": 21,
   "metadata": {},
   "outputs": [
    {
     "name": "stdout",
     "output_type": "stream",
     "text": [
      "+---+-------+------+\n",
      "| id|biology|french|\n",
      "+---+-------+------+\n",
      "|  0|     89|    75|\n",
      "|  5|     95|    99|\n",
      "+---+-------+------+\n",
      "\n"
     ]
    }
   ],
   "source": [
    "biology.join(french, on='id', how='inner').show()"
   ]
  },
  {
   "cell_type": "markdown",
   "metadata": {},
   "source": [
    "### outer, full, fullouter, full_outer"
   ]
  },
  {
   "cell_type": "code",
   "execution_count": 22,
   "metadata": {},
   "outputs": [
    {
     "name": "stdout",
     "output_type": "stream",
     "text": [
      "+---+-------+------+\n",
      "| id|biology|french|\n",
      "+---+-------+------+\n",
      "|  0|     89|    75|\n",
      "|  1|     87|  null|\n",
      "|  2|   null|    86|\n",
      "|  3|     88|  null|\n",
      "|  5|     95|    99|\n",
      "+---+-------+------+\n",
      "\n"
     ]
    }
   ],
   "source": [
    "biology.join(french, on='id', how='outer').show()\n",
    "#biology.join(french, on='id', how='full').show()\n",
    "#biology.join(french, on='id', how='fullouter').show()\n",
    "#biology.join(french, on='id', how='full_outer').show()"
   ]
  },
  {
   "cell_type": "markdown",
   "metadata": {},
   "source": [
    "### left, leftouter, left_outer"
   ]
  },
  {
   "cell_type": "code",
   "execution_count": 23,
   "metadata": {},
   "outputs": [
    {
     "name": "stdout",
     "output_type": "stream",
     "text": [
      "+---+-------+------+\n",
      "| id|biology|french|\n",
      "+---+-------+------+\n",
      "|  0|     89|    75|\n",
      "|  1|     87|  null|\n",
      "|  3|     88|  null|\n",
      "|  5|     95|    99|\n",
      "+---+-------+------+\n",
      "\n"
     ]
    }
   ],
   "source": [
    "biology.join(french, on='id', how='left').show()\n",
    "#biology.join(french, on='id', how='leftouter').show()\n",
    "#biology.join(french, on='id', how='left_outer').show()"
   ]
  },
  {
   "cell_type": "markdown",
   "metadata": {},
   "source": [
    "### right, rightouter, right_outer"
   ]
  },
  {
   "cell_type": "code",
   "execution_count": 24,
   "metadata": {},
   "outputs": [
    {
     "name": "stdout",
     "output_type": "stream",
     "text": [
      "+---+-------+------+\n",
      "| id|biology|french|\n",
      "+---+-------+------+\n",
      "|  0|     89|    75|\n",
      "|  2|   null|    86|\n",
      "|  5|     95|    99|\n",
      "+---+-------+------+\n",
      "\n"
     ]
    }
   ],
   "source": [
    "biology.join(french, on='id', how='right').show()\n",
    "#biology.join(french, on='id', how='rightouter').show()\n",
    "#biology.join(french, on='id', how='right_outer').show()"
   ]
  },
  {
   "cell_type": "markdown",
   "metadata": {},
   "source": [
    "### leftanti, left_anti"
   ]
  },
  {
   "cell_type": "code",
   "execution_count": 25,
   "metadata": {},
   "outputs": [
    {
     "name": "stdout",
     "output_type": "stream",
     "text": [
      "+---+-------+\n",
      "| id|biology|\n",
      "+---+-------+\n",
      "|  1|     87|\n",
      "|  3|     88|\n",
      "+---+-------+\n",
      "\n"
     ]
    }
   ],
   "source": [
    "# in left table, not in right table\n",
    "biology.join(french, on='id', how='leftanti').show()\n",
    "#biology.join(french, on='id', how='left_anti').show()"
   ]
  },
  {
   "cell_type": "markdown",
   "metadata": {},
   "source": [
    "### leftsemi, left_semi"
   ]
  },
  {
   "cell_type": "code",
   "execution_count": 26,
   "metadata": {
    "scrolled": true
   },
   "outputs": [
    {
     "name": "stdout",
     "output_type": "stream",
     "text": [
      "+---+-------+\n",
      "| id|biology|\n",
      "+---+-------+\n",
      "|  0|     89|\n",
      "|  5|     95|\n",
      "+---+-------+\n",
      "\n"
     ]
    }
   ],
   "source": [
    "# only get columns from the left table\n",
    "biology.join(french, on='id', how='leftsemi').show()\n",
    "#biology.join(french, on='id', how='left_semi').show()"
   ]
  },
  {
   "cell_type": "markdown",
   "metadata": {},
   "source": [
    "### end of join section.. continue.. "
   ]
  },
  {
   "cell_type": "code",
   "execution_count": 28,
   "metadata": {},
   "outputs": [],
   "source": [
    "result = result.cache()  # .cache(): cache the dataframe in memory"
   ]
  },
  {
   "cell_type": "code",
   "execution_count": 29,
   "metadata": {},
   "outputs": [
    {
     "data": {
      "text/plain": [
       "6"
      ]
     },
     "execution_count": 29,
     "metadata": {},
     "output_type": "execute_result"
    }
   ],
   "source": [
    "result.count()"
   ]
  },
  {
   "cell_type": "code",
   "execution_count": 30,
   "metadata": {},
   "outputs": [
    {
     "name": "stdout",
     "output_type": "stream",
     "text": [
      "+---+------+----+-------+-------+-------+---------+-------+\n",
      "| id|  name|math|english|chinese|physics|chemistry|history|\n",
      "+---+------+----+-------+-------+-------+---------+-------+\n",
      "|  0|  Alex|  95|     90|     79|     86|       67|     73|\n",
      "|  5| Flynn|  98|     97|     99|     96|       95|     99|\n",
      "|  1|   Bob|  98|     80|     89|     95|       71|     80|\n",
      "|  3|   Dan|  54|     68|     57|     96|       68|     57|\n",
      "|  2|Cherry|  73|     85|     86|     88|       85|     91|\n",
      "|  4| Ethan|  68|     65|     86|     68|       95|     78|\n",
      "+---+------+----+-------+-------+-------+---------+-------+\n",
      "\n"
     ]
    }
   ],
   "source": [
    "result.show()"
   ]
  },
  {
   "cell_type": "code",
   "execution_count": 31,
   "metadata": {
    "scrolled": true
   },
   "outputs": [
    {
     "name": "stdout",
     "output_type": "stream",
     "text": [
      "+-------+------------------+-----+------------------+------------------+------------------+------------------+------------------+------------------+\n",
      "|summary|                id| name|              math|           english|           chinese|           physics|         chemistry|           history|\n",
      "+-------+------------------+-----+------------------+------------------+------------------+------------------+------------------+------------------+\n",
      "|  count|                 6|    6|                 6|                 6|                 6|                 6|                 6|                 6|\n",
      "|   mean|               2.5| null|              81.0| 80.83333333333333| 82.66666666666667| 88.16666666666667| 80.16666666666667| 79.66666666666667|\n",
      "| stddev|1.8708286933869707| null|18.633303518163384|12.480651692386365|14.151560573543353|10.778064142816497|13.182058514005567|14.583095236151571|\n",
      "|    min|                 0| Alex|                54|                65|                57|                68|                67|                57|\n",
      "|    max|                 5|Flynn|                98|                97|                99|                96|                95|                99|\n",
      "+-------+------------------+-----+------------------+------------------+------------------+------------------+------------------+------------------+\n",
      "\n"
     ]
    }
   ],
   "source": [
    "# Show statistics of all columns\n",
    "result.describe().show()"
   ]
  },
  {
   "cell_type": "code",
   "execution_count": 32,
   "metadata": {},
   "outputs": [
    {
     "name": "stdout",
     "output_type": "stream",
     "text": [
      "+-------+------------------+------------------+------------------+\n",
      "|summary|              math|           english|           chinese|\n",
      "+-------+------------------+------------------+------------------+\n",
      "|  count|                 6|                 6|                 6|\n",
      "|   mean|              81.0| 80.83333333333333| 82.66666666666667|\n",
      "| stddev|18.633303518163384|12.480651692386365|14.151560573543353|\n",
      "|    min|                54|                65|                57|\n",
      "|    max|                98|                97|                99|\n",
      "+-------+------------------+------------------+------------------+\n",
      "\n"
     ]
    }
   ],
   "source": [
    "# Show statistics of specified columns\n",
    "result.describe(['math', 'english', 'chinese']).show()"
   ]
  },
  {
   "cell_type": "code",
   "execution_count": 34,
   "metadata": {},
   "outputs": [
    {
     "name": "stdout",
     "output_type": "stream",
     "text": [
      "+-------+------------------+-----+------------------+\n",
      "|summary|                id| name|              math|\n",
      "+-------+------------------+-----+------------------+\n",
      "|  count|                 6|    6|                 6|\n",
      "|   mean|               2.5| null|              81.0|\n",
      "| stddev|1.8708286933869707| null|18.633303518163384|\n",
      "|    min|                 0| Alex|                54|\n",
      "|    max|                 5|Flynn|                98|\n",
      "+-------+------------------+-----+------------------+\n",
      "\n"
     ]
    }
   ],
   "source": [
    "summary = result.describe()\n",
    "summary.select(['summary', 'id', 'name', 'math']).show()"
   ]
  },
  {
   "cell_type": "code",
   "execution_count": 35,
   "metadata": {},
   "outputs": [
    {
     "name": "stdout",
     "output_type": "stream",
     "text": [
      "+---+-------+\n",
      "| id|biology|\n",
      "+---+-------+\n",
      "|  0|     89|\n",
      "|  1|     87|\n",
      "|  3|     88|\n",
      "|  5|     95|\n",
      "+---+-------+\n",
      "\n"
     ]
    }
   ],
   "source": [
    "biology = spark.createDataFrame(\n",
    "    [(0, 89), (1, 87), (3, 88), (5, 95)],\n",
    "    [\"id\", \"biology\"]\n",
    ")\n",
    "biology.show()"
   ]
  },
  {
   "cell_type": "code",
   "execution_count": 36,
   "metadata": {},
   "outputs": [
    {
     "name": "stdout",
     "output_type": "stream",
     "text": [
      "+---+------+----+-------+-------+-------+---------+-------+\n",
      "| id|  name|math|english|chinese|physics|chemistry|history|\n",
      "+---+------+----+-------+-------+-------+---------+-------+\n",
      "|  0|  Alex|  95|     90|     79|     86|       67|     73|\n",
      "|  5| Flynn|  98|     97|     99|     96|       95|     99|\n",
      "|  1|   Bob|  98|     80|     89|     95|       71|     80|\n",
      "|  3|   Dan|  54|     68|     57|     96|       68|     57|\n",
      "|  2|Cherry|  73|     85|     86|     88|       85|     91|\n",
      "|  4| Ethan|  68|     65|     86|     68|       95|     78|\n",
      "+---+------+----+-------+-------+-------+---------+-------+\n",
      "\n"
     ]
    }
   ],
   "source": [
    "result.show()"
   ]
  },
  {
   "cell_type": "code",
   "execution_count": 37,
   "metadata": {},
   "outputs": [
    {
     "name": "stdout",
     "output_type": "stream",
     "text": [
      "+---+-----+----+-------+-------+-------+---------+-------+-------+\n",
      "| id| name|math|english|chinese|physics|chemistry|history|biology|\n",
      "+---+-----+----+-------+-------+-------+---------+-------+-------+\n",
      "|  0| Alex|  95|     90|     79|     86|       67|     73|     89|\n",
      "|  1|  Bob|  98|     80|     89|     95|       71|     80|     87|\n",
      "|  3|  Dan|  54|     68|     57|     96|       68|     57|     88|\n",
      "|  5|Flynn|  98|     97|     99|     96|       95|     99|     95|\n",
      "+---+-----+----+-------+-------+-------+---------+-------+-------+\n",
      "\n"
     ]
    }
   ],
   "source": [
    "result_with_biology = result.join(biology, how='inner', on='id')\n",
    "result_with_biology.show()"
   ]
  },
  {
   "cell_type": "code",
   "execution_count": 38,
   "metadata": {},
   "outputs": [
    {
     "name": "stdout",
     "output_type": "stream",
     "text": [
      "+---+------+----+-------+-------+-------+---------+-------+-------+\n",
      "| id|  name|math|english|chinese|physics|chemistry|history|biology|\n",
      "+---+------+----+-------+-------+-------+---------+-------+-------+\n",
      "|  0|  Alex|  95|     90|     79|     86|       67|     73|     89|\n",
      "|  5| Flynn|  98|     97|     99|     96|       95|     99|     95|\n",
      "|  1|   Bob|  98|     80|     89|     95|       71|     80|     87|\n",
      "|  3|   Dan|  54|     68|     57|     96|       68|     57|     88|\n",
      "|  2|Cherry|  73|     85|     86|     88|       85|     91|   null|\n",
      "|  4| Ethan|  68|     65|     86|     68|       95|     78|   null|\n",
      "+---+------+----+-------+-------+-------+---------+-------+-------+\n",
      "\n"
     ]
    }
   ],
   "source": [
    "result_with_biology2 = result.join(biology, how='left', on='id')\n",
    "result_with_biology2.show()"
   ]
  },
  {
   "cell_type": "code",
   "execution_count": 39,
   "metadata": {},
   "outputs": [
    {
     "name": "stdout",
     "output_type": "stream",
     "text": [
      "+---+------+\n",
      "| id|french|\n",
      "+---+------+\n",
      "|  0|    75|\n",
      "|  2|    86|\n",
      "|  5|    99|\n",
      "+---+------+\n",
      "\n"
     ]
    }
   ],
   "source": [
    "french = spark.createDataFrame(\n",
    "    [(0, 75), (2, 86), (5, 99)],\n",
    "    [\"id\", \"french\"]\n",
    ")\n",
    "french.show()"
   ]
  },
  {
   "cell_type": "code",
   "execution_count": 40,
   "metadata": {},
   "outputs": [
    {
     "name": "stdout",
     "output_type": "stream",
     "text": [
      "+---+------+----+-------+-------+-------+---------+-------+-------+------+\n",
      "| id|  name|math|english|chinese|physics|chemistry|history|biology|french|\n",
      "+---+------+----+-------+-------+-------+---------+-------+-------+------+\n",
      "|  0|  Alex|  95|     90|     79|     86|       67|     73|     89|    75|\n",
      "|  5| Flynn|  98|     97|     99|     96|       95|     99|     95|    99|\n",
      "|  1|   Bob|  98|     80|     89|     95|       71|     80|     87|  null|\n",
      "|  3|   Dan|  54|     68|     57|     96|       68|     57|     88|  null|\n",
      "|  2|Cherry|  73|     85|     86|     88|       85|     91|   null|    86|\n",
      "|  4| Ethan|  68|     65|     86|     68|       95|     78|   null|  null|\n",
      "+---+------+----+-------+-------+-------+---------+-------+-------+------+\n",
      "\n"
     ]
    }
   ],
   "source": [
    "result3 = result_with_biology2.join(french, how='left', on='id')\n",
    "result3.show()"
   ]
  },
  {
   "cell_type": "code",
   "execution_count": 44,
   "metadata": {},
   "outputs": [
    {
     "name": "stdout",
     "output_type": "stream",
     "text": [
      "+---+------+----+-------+-------+-------+---------+-------+-------+------+\n",
      "| id|  name|math|english|chinese|physics|chemistry|history|biology|french|\n",
      "+---+------+----+-------+-------+-------+---------+-------+-------+------+\n",
      "|  0|  Alex|  95|     90|     79|     86|       67|     73|     89|    75|\n",
      "|  5| Flynn|  98|     97|     99|     96|       95|     99|     95|    99|\n",
      "|  1|   Bob|  98|     80|     89|     95|       71|     80|     87|     0|\n",
      "|  3|   Dan|  54|     68|     57|     96|       68|     57|     88|     0|\n",
      "|  2|Cherry|  73|     85|     86|     88|       85|     91|      0|    86|\n",
      "|  4| Ethan|  68|     65|     86|     68|       95|     78|      0|     0|\n",
      "+---+------+----+-------+-------+-------+---------+-------+-------+------+\n",
      "\n"
     ]
    }
   ],
   "source": [
    "result4 = result3.na.fill(0)\n",
    "#result4 = result3.fillna(0)\n",
    "result4.show()"
   ]
  },
  {
   "cell_type": "code",
   "execution_count": 48,
   "metadata": {},
   "outputs": [
    {
     "name": "stdout",
     "output_type": "stream",
     "text": [
      "+---+------+----+-------+-------+-------+---------+-------+-------+------+\n",
      "| id|  name|math|english|chinese|physics|chemistry|history|biology|french|\n",
      "+---+------+----+-------+-------+-------+---------+-------+-------+------+\n",
      "|  0|  Alex|  95|     90|     79|     86|       67|     73|     89|    75|\n",
      "|  5| Flynn|  98|     97|     99|     96|       95|     99|     95|    99|\n",
      "|  1|   Bob|  98|     80|     89|     95|       71|     80|     87|  null|\n",
      "|  3|   Dan|  54|     68|     57|     96|       68|     57|     88|  null|\n",
      "|  2|Cherry|  73|     85|     86|     88|       85|     91|      0|    86|\n",
      "|  4| Ethan|  68|     65|     86|     68|       95|     78|      0|  null|\n",
      "+---+------+----+-------+-------+-------+---------+-------+-------+------+\n",
      "\n"
     ]
    }
   ],
   "source": [
    "result4 = result3.na.fill(0, subset=['biology'])\n",
    "# result4 = result3.fillna(0, subset=['biology'])\n",
    "result4.show()"
   ]
  },
  {
   "cell_type": "code",
   "execution_count": 51,
   "metadata": {},
   "outputs": [
    {
     "name": "stdout",
     "output_type": "stream",
     "text": [
      "+---+-----+----+-------+-------+-------+---------+-------+-------+------+\n",
      "| id| name|math|english|chinese|physics|chemistry|history|biology|french|\n",
      "+---+-----+----+-------+-------+-------+---------+-------+-------+------+\n",
      "|  0| Alex|  95|     90|     79|     86|       67|     73|     89|    75|\n",
      "|  5|Flynn|  98|     97|     99|     96|       95|     99|     95|    99|\n",
      "+---+-----+----+-------+-------+-------+---------+-------+-------+------+\n",
      "\n"
     ]
    }
   ],
   "source": [
    "result4 = result3.na.drop(how='any')\n",
    "# result4 = result3.dropna(how='any')\n",
    "result4.show()"
   ]
  },
  {
   "cell_type": "code",
   "execution_count": 52,
   "metadata": {},
   "outputs": [
    {
     "name": "stdout",
     "output_type": "stream",
     "text": [
      "+---+-----+----+-------+-------+-------+---------+-------+-------+------+\n",
      "| id| name|math|english|chinese|physics|chemistry|history|biology|french|\n",
      "+---+-----+----+-------+-------+-------+---------+-------+-------+------+\n",
      "|  0| Alex|  95|     90|     79|     86|       67|     73|     89|    75|\n",
      "|  1|  Bob|  98|     80|     89|     95|       71|     80|     87|  null|\n",
      "|  3|  Dan|  54|     68|     57|     96|       68|     57|     88|  null|\n",
      "|  5|Flynn|  98|     97|     99|     96|       95|     99|     95|    99|\n",
      "+---+-----+----+-------+-------+-------+---------+-------+-------+------+\n",
      "\n"
     ]
    }
   ],
   "source": [
    "result4 = result3.na.drop(subset=['biology'])\n",
    "# result4 = result3.dropna(subset=['biology'])\n",
    "result4.show()"
   ]
  },
  {
   "cell_type": "code",
   "execution_count": 53,
   "metadata": {},
   "outputs": [
    {
     "name": "stdout",
     "output_type": "stream",
     "text": [
      "+---+------+----+-------+-------+-------+---------+-------+-------+------+\n",
      "| id|  name|math|english|chinese|physics|chemistry|history|biology|french|\n",
      "+---+------+----+-------+-------+-------+---------+-------+-------+------+\n",
      "|  0|  Alex|  95|     90|     79|     86|       67|     73|     89|    75|\n",
      "|  5| Flynn|  98|     97|     99|     96|       95|     99|     95|    99|\n",
      "|  1|   Bob|  98|     80|     89|     95|       71|     80|     87|  null|\n",
      "|  3|   Dan|  54|     68|     57|     96|       68|     57|     88|  null|\n",
      "|  2|Cherry|  73|     85|     86|     88|       85|     91|   null|    86|\n",
      "+---+------+----+-------+-------+-------+---------+-------+-------+------+\n",
      "\n"
     ]
    }
   ],
   "source": [
    "result4 = result3.na.drop(how='all', subset=['biology', 'french'])\n",
    "# result4 = result3.dropna(how='all', subset=['biology', 'french'])\n",
    "result4.show()"
   ]
  },
  {
   "cell_type": "code",
   "execution_count": 54,
   "metadata": {},
   "outputs": [],
   "source": [
    "import pyspark.sql.functions as F"
   ]
  },
  {
   "cell_type": "code",
   "execution_count": 58,
   "metadata": {},
   "outputs": [],
   "source": [
    "result5 = result3.na.fill(0)"
   ]
  },
  {
   "cell_type": "code",
   "execution_count": 59,
   "metadata": {},
   "outputs": [],
   "source": [
    "result5 = result5.withColumn(\n",
    "    'average',\n",
    "    (\n",
    "        F.col('math') + F.col('english') + F.col('chinese')\n",
    "        + F.col('physics') + F.col('chemistry') + F.col('history')\n",
    "        + F.col('biology') + F.col('french')\n",
    "    )/8\n",
    ")"
   ]
  },
  {
   "cell_type": "code",
   "execution_count": 60,
   "metadata": {},
   "outputs": [
    {
     "name": "stdout",
     "output_type": "stream",
     "text": [
      "+---+------+----+-------+-------+-------+---------+-------+-------+------+-------+\n",
      "| id|  name|math|english|chinese|physics|chemistry|history|biology|french|average|\n",
      "+---+------+----+-------+-------+-------+---------+-------+-------+------+-------+\n",
      "|  0|  Alex|  95|     90|     79|     86|       67|     73|     89|    75|  81.75|\n",
      "|  5| Flynn|  98|     97|     99|     96|       95|     99|     95|    99|  97.25|\n",
      "|  1|   Bob|  98|     80|     89|     95|       71|     80|     87|     0|   75.0|\n",
      "|  3|   Dan|  54|     68|     57|     96|       68|     57|     88|     0|   61.0|\n",
      "|  2|Cherry|  73|     85|     86|     88|       85|     91|      0|    86|  74.25|\n",
      "|  4| Ethan|  68|     65|     86|     68|       95|     78|      0|     0|   57.5|\n",
      "+---+------+----+-------+-------+-------+---------+-------+-------+------+-------+\n",
      "\n"
     ]
    }
   ],
   "source": [
    "result5.show()"
   ]
  },
  {
   "cell_type": "code",
   "execution_count": 75,
   "metadata": {},
   "outputs": [],
   "source": [
    "result6 = result5.withColumn(\n",
    "    'rating',\n",
    "    F.when(F.col('average') >= 90, 'A').otherwise(\n",
    "        F.when(F.col('average') >= 80, 'B').otherwise(\n",
    "            F.when(F.col('average') >= 60, 'C').otherwise(\n",
    "                'D'\n",
    "            )\n",
    "        )\n",
    "    )\n",
    ")"
   ]
  },
  {
   "cell_type": "code",
   "execution_count": 87,
   "metadata": {},
   "outputs": [
    {
     "name": "stdout",
     "output_type": "stream",
     "text": [
      "+---+------+----+-------+-------+-------+---------+-------+-------+------+-------+------+\n",
      "| id|  name|math|english|chinese|physics|chemistry|history|biology|french|average|rating|\n",
      "+---+------+----+-------+-------+-------+---------+-------+-------+------+-------+------+\n",
      "|  0|  Alex|  95|     90|     79|     86|       67|     73|     89|    75|  81.75|     B|\n",
      "|  5| Flynn|  98|     97|     99|     96|       95|     99|     95|    99|  97.25|     A|\n",
      "|  1|   Bob|  98|     80|     89|     95|       71|     80|     87|     0|   75.0|     C|\n",
      "|  3|   Dan|  54|     68|     57|     96|       68|     57|     88|     0|   61.0|     C|\n",
      "|  2|Cherry|  73|     85|     86|     88|       85|     91|      0|    86|  74.25|     C|\n",
      "|  4| Ethan|  68|     65|     86|     68|       95|     78|      0|     0|   57.5|     D|\n",
      "+---+------+----+-------+-------+-------+---------+-------+-------+------+-------+------+\n",
      "\n"
     ]
    }
   ],
   "source": [
    "result6.show()"
   ]
  },
  {
   "cell_type": "code",
   "execution_count": 88,
   "metadata": {},
   "outputs": [
    {
     "name": "stdout",
     "output_type": "stream",
     "text": [
      "+------+-----+\n",
      "|rating|count|\n",
      "+------+-----+\n",
      "|     B|    1|\n",
      "|     A|    1|\n",
      "|     C|    3|\n",
      "|     D|    1|\n",
      "+------+-----+\n",
      "\n"
     ]
    }
   ],
   "source": [
    "result6.groupBy('rating').count().show()"
   ]
  },
  {
   "cell_type": "code",
   "execution_count": 89,
   "metadata": {},
   "outputs": [],
   "source": [
    "group_by_result = result6.groupBy('rating').count()"
   ]
  },
  {
   "cell_type": "code",
   "execution_count": 101,
   "metadata": {},
   "outputs": [
    {
     "data": {
      "text/plain": [
       "0.8333333333333334"
      ]
     },
     "execution_count": 101,
     "metadata": {},
     "output_type": "execute_result"
    }
   ],
   "source": [
    "pass_rate = group_by_result.filter(F.col('rating') != 'D').agg(F.sum(F.col('count'))).collect()[0][0] \\\n",
    "            / group_by_result.agg(F.sum(F.col('count'))).collect()[0][0]\n",
    "pass_rate"
   ]
  },
  {
   "cell_type": "code",
   "execution_count": 102,
   "metadata": {},
   "outputs": [
    {
     "name": "stdout",
     "output_type": "stream",
     "text": [
      "pass rate = 83.33\n"
     ]
    }
   ],
   "source": [
    "print(\"pass rate = {}\".format(round(pass_rate * 100, 2)))"
   ]
  },
  {
   "cell_type": "markdown",
   "metadata": {},
   "source": [
    "### use average to fill null"
   ]
  },
  {
   "cell_type": "code",
   "execution_count": 113,
   "metadata": {},
   "outputs": [
    {
     "data": {
      "text/plain": [
       "87"
      ]
     },
     "execution_count": 113,
     "metadata": {},
     "output_type": "execute_result"
    }
   ],
   "source": [
    "french_avg = round(result3.select('french').agg(F.avg(F.col('french'))).collect()[0][0])\n",
    "french_avg"
   ]
  },
  {
   "cell_type": "code",
   "execution_count": 114,
   "metadata": {},
   "outputs": [
    {
     "data": {
      "text/plain": [
       "90"
      ]
     },
     "execution_count": 114,
     "metadata": {},
     "output_type": "execute_result"
    }
   ],
   "source": [
    "biology_avg = round(result3.select('biology').agg(F.avg(F.col('biology'))).collect()[0][0])\n",
    "biology_avg"
   ]
  },
  {
   "cell_type": "code",
   "execution_count": 110,
   "metadata": {
    "scrolled": true
   },
   "outputs": [
    {
     "data": {
      "text/html": [
       "<div>\n",
       "<style scoped>\n",
       "    .dataframe tbody tr th:only-of-type {\n",
       "        vertical-align: middle;\n",
       "    }\n",
       "\n",
       "    .dataframe tbody tr th {\n",
       "        vertical-align: top;\n",
       "    }\n",
       "\n",
       "    .dataframe thead th {\n",
       "        text-align: right;\n",
       "    }\n",
       "</style>\n",
       "<table border=\"1\" class=\"dataframe\">\n",
       "  <thead>\n",
       "    <tr style=\"text-align: right;\">\n",
       "      <th></th>\n",
       "      <th>id</th>\n",
       "      <th>name</th>\n",
       "      <th>math</th>\n",
       "      <th>english</th>\n",
       "      <th>chinese</th>\n",
       "      <th>physics</th>\n",
       "      <th>chemistry</th>\n",
       "      <th>history</th>\n",
       "      <th>biology</th>\n",
       "      <th>french</th>\n",
       "    </tr>\n",
       "  </thead>\n",
       "  <tbody>\n",
       "    <tr>\n",
       "      <th>0</th>\n",
       "      <td>0</td>\n",
       "      <td>Alex</td>\n",
       "      <td>95</td>\n",
       "      <td>90</td>\n",
       "      <td>79</td>\n",
       "      <td>86</td>\n",
       "      <td>67</td>\n",
       "      <td>73</td>\n",
       "      <td>89.0</td>\n",
       "      <td>75.0</td>\n",
       "    </tr>\n",
       "    <tr>\n",
       "      <th>1</th>\n",
       "      <td>5</td>\n",
       "      <td>Flynn</td>\n",
       "      <td>98</td>\n",
       "      <td>97</td>\n",
       "      <td>99</td>\n",
       "      <td>96</td>\n",
       "      <td>95</td>\n",
       "      <td>99</td>\n",
       "      <td>95.0</td>\n",
       "      <td>99.0</td>\n",
       "    </tr>\n",
       "    <tr>\n",
       "      <th>2</th>\n",
       "      <td>1</td>\n",
       "      <td>Bob</td>\n",
       "      <td>98</td>\n",
       "      <td>80</td>\n",
       "      <td>89</td>\n",
       "      <td>95</td>\n",
       "      <td>71</td>\n",
       "      <td>80</td>\n",
       "      <td>87.0</td>\n",
       "      <td>NaN</td>\n",
       "    </tr>\n",
       "    <tr>\n",
       "      <th>3</th>\n",
       "      <td>3</td>\n",
       "      <td>Dan</td>\n",
       "      <td>54</td>\n",
       "      <td>68</td>\n",
       "      <td>57</td>\n",
       "      <td>96</td>\n",
       "      <td>68</td>\n",
       "      <td>57</td>\n",
       "      <td>88.0</td>\n",
       "      <td>NaN</td>\n",
       "    </tr>\n",
       "    <tr>\n",
       "      <th>4</th>\n",
       "      <td>2</td>\n",
       "      <td>Cherry</td>\n",
       "      <td>73</td>\n",
       "      <td>85</td>\n",
       "      <td>86</td>\n",
       "      <td>88</td>\n",
       "      <td>85</td>\n",
       "      <td>91</td>\n",
       "      <td>NaN</td>\n",
       "      <td>86.0</td>\n",
       "    </tr>\n",
       "    <tr>\n",
       "      <th>5</th>\n",
       "      <td>4</td>\n",
       "      <td>Ethan</td>\n",
       "      <td>68</td>\n",
       "      <td>65</td>\n",
       "      <td>86</td>\n",
       "      <td>68</td>\n",
       "      <td>95</td>\n",
       "      <td>78</td>\n",
       "      <td>NaN</td>\n",
       "      <td>NaN</td>\n",
       "    </tr>\n",
       "  </tbody>\n",
       "</table>\n",
       "</div>"
      ],
      "text/plain": [
       "   id    name  math  english  chinese  physics  chemistry  history  biology  \\\n",
       "0   0    Alex    95       90       79       86         67       73     89.0   \n",
       "1   5   Flynn    98       97       99       96         95       99     95.0   \n",
       "2   1     Bob    98       80       89       95         71       80     87.0   \n",
       "3   3     Dan    54       68       57       96         68       57     88.0   \n",
       "4   2  Cherry    73       85       86       88         85       91      NaN   \n",
       "5   4   Ethan    68       65       86       68         95       78      NaN   \n",
       "\n",
       "   french  \n",
       "0    75.0  \n",
       "1    99.0  \n",
       "2     NaN  \n",
       "3     NaN  \n",
       "4    86.0  \n",
       "5     NaN  "
      ]
     },
     "execution_count": 110,
     "metadata": {},
     "output_type": "execute_result"
    }
   ],
   "source": [
    "result3.toPandas()"
   ]
  },
  {
   "cell_type": "code",
   "execution_count": 116,
   "metadata": {},
   "outputs": [
    {
     "name": "stdout",
     "output_type": "stream",
     "text": [
      "+---+------+----+-------+-------+-------+---------+-------+-------+------+\n",
      "| id|  name|math|english|chinese|physics|chemistry|history|biology|french|\n",
      "+---+------+----+-------+-------+-------+---------+-------+-------+------+\n",
      "|  0|  Alex|  95|     90|     79|     86|       67|     73|     89|    75|\n",
      "|  5| Flynn|  98|     97|     99|     96|       95|     99|     95|    99|\n",
      "|  1|   Bob|  98|     80|     89|     95|       71|     80|     87|    87|\n",
      "|  3|   Dan|  54|     68|     57|     96|       68|     57|     88|    87|\n",
      "|  2|Cherry|  73|     85|     86|     88|       85|     91|     90|    86|\n",
      "|  4| Ethan|  68|     65|     86|     68|       95|     78|     90|    87|\n",
      "+---+------+----+-------+-------+-------+---------+-------+-------+------+\n",
      "\n"
     ]
    }
   ],
   "source": [
    "result4_fill_na = result3.na.fill({'biology': biology_avg, 'french': french_avg})\n",
    "result4_fill_na.show()"
   ]
  },
  {
   "cell_type": "markdown",
   "metadata": {},
   "source": [
    "### Spark filters"
   ]
  },
  {
   "cell_type": "code",
   "execution_count": 117,
   "metadata": {},
   "outputs": [
    {
     "name": "stdout",
     "output_type": "stream",
     "text": [
      "+---+------+----+-------+-------+-------+---------+-------+-------+------+-------+------+\n",
      "| id|  name|math|english|chinese|physics|chemistry|history|biology|french|average|rating|\n",
      "+---+------+----+-------+-------+-------+---------+-------+-------+------+-------+------+\n",
      "|  0|  Alex|  95|     90|     79|     86|       67|     73|     89|    75|  81.75|     B|\n",
      "|  5| Flynn|  98|     97|     99|     96|       95|     99|     95|    99|  97.25|     A|\n",
      "|  1|   Bob|  98|     80|     89|     95|       71|     80|     87|     0|   75.0|     C|\n",
      "|  3|   Dan|  54|     68|     57|     96|       68|     57|     88|     0|   61.0|     C|\n",
      "|  2|Cherry|  73|     85|     86|     88|       85|     91|      0|    86|  74.25|     C|\n",
      "|  4| Ethan|  68|     65|     86|     68|       95|     78|      0|     0|   57.5|     D|\n",
      "+---+------+----+-------+-------+-------+---------+-------+-------+------+-------+------+\n",
      "\n"
     ]
    }
   ],
   "source": [
    "result6.show()"
   ]
  },
  {
   "cell_type": "code",
   "execution_count": 118,
   "metadata": {},
   "outputs": [
    {
     "name": "stdout",
     "output_type": "stream",
     "text": [
      "+---+-----+----+-------+-------+-------+---------+-------+-------+------+-------+------+\n",
      "| id| name|math|english|chinese|physics|chemistry|history|biology|french|average|rating|\n",
      "+---+-----+----+-------+-------+-------+---------+-------+-------+------+-------+------+\n",
      "|  5|Flynn|  98|     97|     99|     96|       95|     99|     95|    99|  97.25|     A|\n",
      "+---+-----+----+-------+-------+-------+---------+-------+-------+------+-------+------+\n",
      "\n"
     ]
    }
   ],
   "source": [
    "result6.filter(F.col('rating') == 'A').show()"
   ]
  },
  {
   "cell_type": "code",
   "execution_count": 119,
   "metadata": {},
   "outputs": [
    {
     "name": "stdout",
     "output_type": "stream",
     "text": [
      "+---+----+----+-------+-------+-------+---------+-------+-------+------+-------+------+\n",
      "| id|name|math|english|chinese|physics|chemistry|history|biology|french|average|rating|\n",
      "+---+----+----+-------+-------+-------+---------+-------+-------+------+-------+------+\n",
      "|  3| Dan|  54|     68|     57|     96|       68|     57|     88|     0|   61.0|     C|\n",
      "+---+----+----+-------+-------+-------+---------+-------+-------+------+-------+------+\n",
      "\n"
     ]
    }
   ],
   "source": [
    "result6.where(\"math < 60\").show()"
   ]
  },
  {
   "cell_type": "markdown",
   "metadata": {},
   "source": [
    "#### Save spark dataframe as csv file"
   ]
  },
  {
   "cell_type": "code",
   "execution_count": 45,
   "metadata": {},
   "outputs": [],
   "source": [
    "# result in a collection of PARTITIONED csv files saved\n",
    "result6.write.save('./data/result6/', format='csv', header=True, mode='overwrite')\n",
    "#result6.write.csv('./data/result6/', header=True, mode='overwrite')"
   ]
  },
  {
   "cell_type": "code",
   "execution_count": 47,
   "metadata": {},
   "outputs": [],
   "source": [
    "# save into 1 partition of csv file\n",
    "result6.coalesce(1).write.save(\n",
    "    './data/result6_coalesce/', format='csv', header=True, mode='overwrite'\n",
    ")  \n",
    "# save into 2 partitions\n",
    "# result6.coalesce(2).write.save(\n",
    "#     './data/result6_coalesce/', format='csv', header=True, mode='overwrite'\n",
    "# )"
   ]
  },
  {
   "cell_type": "code",
   "execution_count": 123,
   "metadata": {},
   "outputs": [
    {
     "name": "stdout",
     "output_type": "stream",
     "text": [
      "id,name,math,english,chinese,physics,chemistry,history,biology,french,average,rating\n",
      "0,Alex,95,90,79,86,67,73,89,75,81.75,B\n",
      "5,Flynn,98,97,99,96,95,99,95,99,97.25,A\n",
      "1,Bob,98,80,89,95,71,80,87,0,75.0,C\n",
      "3,Dan,54,68,57,96,68,57,88,0,61.0,C\n",
      "2,Cherry,73,85,86,88,85,91,0,86,74.25,C\n",
      "4,Ethan,68,65,86,68,95,78,0,0,57.5,D\n"
     ]
    }
   ],
   "source": [
    "!cat ./data/result6_coalesce/*.csv"
   ]
  },
  {
   "cell_type": "markdown",
   "metadata": {},
   "source": [
    " "
   ]
  },
  {
   "cell_type": "code",
   "execution_count": 51,
   "metadata": {},
   "outputs": [],
   "source": [
    "df = spark.read.csv('./data/result6_coalesce/', header = True, sep = ',', inferSchema = True)"
   ]
  },
  {
   "cell_type": "code",
   "execution_count": 7,
   "metadata": {},
   "outputs": [
    {
     "name": "stdout",
     "output_type": "stream",
     "text": [
      "root\n",
      " |-- id: integer (nullable = true)\n",
      " |-- name: string (nullable = true)\n",
      " |-- math: integer (nullable = true)\n",
      " |-- english: integer (nullable = true)\n",
      " |-- chinese: integer (nullable = true)\n",
      " |-- physics: integer (nullable = true)\n",
      " |-- chemistry: integer (nullable = true)\n",
      " |-- history: integer (nullable = true)\n",
      " |-- biology: integer (nullable = true)\n",
      " |-- french: integer (nullable = true)\n",
      " |-- average: double (nullable = true)\n",
      " |-- rating: string (nullable = true)\n",
      "\n"
     ]
    }
   ],
   "source": [
    "df.printSchema()"
   ]
  },
  {
   "cell_type": "code",
   "execution_count": 8,
   "metadata": {},
   "outputs": [
    {
     "name": "stdout",
     "output_type": "stream",
     "text": [
      "+---+------+----+-------+-------+-------+---------+-------+-------+------+-------+------+\n",
      "| id|  name|math|english|chinese|physics|chemistry|history|biology|french|average|rating|\n",
      "+---+------+----+-------+-------+-------+---------+-------+-------+------+-------+------+\n",
      "|  0|  Alex|  95|     90|     79|     86|       67|     73|     89|    75|  81.75|     B|\n",
      "|  5| Flynn|  98|     97|     99|     96|       95|     99|     95|    99|  97.25|     A|\n",
      "|  1|   Bob|  98|     80|     89|     95|       71|     80|     87|     0|   75.0|     C|\n",
      "|  3|   Dan|  54|     68|     57|     96|       68|     57|     88|     0|   61.0|     C|\n",
      "|  2|Cherry|  73|     85|     86|     88|       85|     91|      0|    86|  74.25|     C|\n",
      "|  4| Ethan|  68|     65|     86|     68|       95|     78|      0|     0|   57.5|     D|\n",
      "+---+------+----+-------+-------+-------+---------+-------+-------+------+-------+------+\n",
      "\n"
     ]
    }
   ],
   "source": [
    "df.show()"
   ]
  },
  {
   "cell_type": "code",
   "execution_count": 9,
   "metadata": {},
   "outputs": [
    {
     "data": {
      "text/plain": [
       "[('id', 'int'),\n",
       " ('name', 'string'),\n",
       " ('math', 'int'),\n",
       " ('english', 'int'),\n",
       " ('chinese', 'int'),\n",
       " ('physics', 'int'),\n",
       " ('chemistry', 'int'),\n",
       " ('history', 'int'),\n",
       " ('biology', 'int'),\n",
       " ('french', 'int'),\n",
       " ('average', 'double'),\n",
       " ('rating', 'string')]"
      ]
     },
     "execution_count": 9,
     "metadata": {},
     "output_type": "execute_result"
    }
   ],
   "source": [
    "df.dtypes"
   ]
  },
  {
   "cell_type": "code",
   "execution_count": 10,
   "metadata": {},
   "outputs": [],
   "source": [
    "df.createOrReplaceTempView('result')"
   ]
  },
  {
   "cell_type": "code",
   "execution_count": 11,
   "metadata": {},
   "outputs": [
    {
     "name": "stdout",
     "output_type": "stream",
     "text": [
      "+---+------+----+-------+-------+-------+---------+-------+-------+------+-------+------+\n",
      "| id|  name|math|english|chinese|physics|chemistry|history|biology|french|average|rating|\n",
      "+---+------+----+-------+-------+-------+---------+-------+-------+------+-------+------+\n",
      "|  0|  Alex|  95|     90|     79|     86|       67|     73|     89|    75|  81.75|     B|\n",
      "|  5| Flynn|  98|     97|     99|     96|       95|     99|     95|    99|  97.25|     A|\n",
      "|  1|   Bob|  98|     80|     89|     95|       71|     80|     87|     0|   75.0|     C|\n",
      "|  3|   Dan|  54|     68|     57|     96|       68|     57|     88|     0|   61.0|     C|\n",
      "|  2|Cherry|  73|     85|     86|     88|       85|     91|      0|    86|  74.25|     C|\n",
      "|  4| Ethan|  68|     65|     86|     68|       95|     78|      0|     0|   57.5|     D|\n",
      "+---+------+----+-------+-------+-------+---------+-------+-------+------+-------+------+\n",
      "\n"
     ]
    }
   ],
   "source": [
    "sql_df = spark.sql(\"\"\"SELECT * FROM result\"\"\")\n",
    "sql_df.show()"
   ]
  },
  {
   "cell_type": "code",
   "execution_count": 12,
   "metadata": {},
   "outputs": [
    {
     "name": "stdout",
     "output_type": "stream",
     "text": [
      "+---+------+----+\n",
      "| id|  name|math|\n",
      "+---+------+----+\n",
      "|  0|  Alex|  95|\n",
      "|  5| Flynn|  98|\n",
      "|  1|   Bob|  98|\n",
      "|  3|   Dan|  54|\n",
      "|  2|Cherry|  73|\n",
      "|  4| Ethan|  68|\n",
      "+---+------+----+\n",
      "\n"
     ]
    }
   ],
   "source": [
    "spark.sql(\n",
    "    \"\"\"SELECT id, name, math\n",
    "    FROM result\n",
    "    \"\"\"\n",
    ").show()"
   ]
  },
  {
   "cell_type": "code",
   "execution_count": 13,
   "metadata": {},
   "outputs": [
    {
     "name": "stdout",
     "output_type": "stream",
     "text": [
      "+---+----+----+-------+\n",
      "| id|name|math|average|\n",
      "+---+----+----+-------+\n",
      "|  0|Alex|  95|  81.75|\n",
      "+---+----+----+-------+\n",
      "\n"
     ]
    }
   ],
   "source": [
    "spark.sql(\n",
    "    \"\"\"SELECT id, name, math, average\n",
    "    FROM result\n",
    "    WHERE name = 'Alex'\n",
    "    \"\"\"\n",
    ").show()"
   ]
  }
 ],
 "metadata": {
  "kernelspec": {
   "display_name": "Python 3 (ipykernel)",
   "language": "python",
   "name": "python3"
  },
  "language_info": {
   "codemirror_mode": {
    "name": "ipython",
    "version": 3
   },
   "file_extension": ".py",
   "mimetype": "text/x-python",
   "name": "python",
   "nbconvert_exporter": "python",
   "pygments_lexer": "ipython3",
   "version": "3.8.17"
  },
  "toc": {
   "base_numbering": 1,
   "nav_menu": {},
   "number_sections": false,
   "sideBar": true,
   "skip_h1_title": false,
   "title_cell": "Table of Contents",
   "title_sidebar": "Contents",
   "toc_cell": false,
   "toc_position": {},
   "toc_section_display": true,
   "toc_window_display": false
  }
 },
 "nbformat": 4,
 "nbformat_minor": 2
}
