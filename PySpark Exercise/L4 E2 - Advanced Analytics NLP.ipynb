{
 "cells": [
  {
   "cell_type": "markdown",
   "metadata": {},
   "source": [
    "# Exercise 2: Advanced Analytics NLP"
   ]
  },
  {
   "cell_type": "markdown",
   "metadata": {},
   "source": [
    "Install spark-nlp in cmd\n",
    "\n",
    "`pip install spark-nlp==1.7.3`"
   ]
  },
  {
   "cell_type": "code",
   "execution_count": 1,
   "metadata": {},
   "outputs": [],
   "source": [
    "import pandas as pd\n",
    "\n",
    "pd.set_option('max_colwidth', 800) # set pandas dataframe at max_colwidth to accomodate up to 800 characters"
   ]
  },
  {
   "cell_type": "markdown",
   "metadata": {},
   "source": [
    "# Create a spark context that includes a 3rd party jar for NLP"
   ]
  },
  {
   "cell_type": "code",
   "execution_count": 2,
   "metadata": {},
   "outputs": [],
   "source": [
    "import findspark\n",
    "import os\n",
    "\n",
    "findspark.init(os.environ['SPARK_HOME'])"
   ]
  },
  {
   "cell_type": "code",
   "execution_count": 9,
   "metadata": {},
   "outputs": [],
   "source": [
    "from pyspark.sql import SparkSession\n",
    "import pyspark.sql.functions as F\n",
    "import pyspark.sql.types as T"
   ]
  },
  {
   "cell_type": "code",
   "execution_count": 4,
   "metadata": {},
   "outputs": [
    {
     "data": {
      "text/html": [
       "\n",
       "            <div>\n",
       "                <p><b>SparkSession - in-memory</b></p>\n",
       "                \n",
       "        <div>\n",
       "            <p><b>SparkContext</b></p>\n",
       "\n",
       "            <p><a href=\"http://DESKTOP-RCOGHPO:4040\">Spark UI</a></p>\n",
       "\n",
       "            <dl>\n",
       "              <dt>Version</dt>\n",
       "                <dd><code>v3.3.2</code></dd>\n",
       "              <dt>Master</dt>\n",
       "                <dd><code>local[*]</code></dd>\n",
       "              <dt>AppName</dt>\n",
       "                <dd><code>pyspark-shell</code></dd>\n",
       "            </dl>\n",
       "        </div>\n",
       "        \n",
       "            </div>\n",
       "        "
      ],
      "text/plain": [
       "<pyspark.sql.session.SparkSession at 0x2616db1caf0>"
      ]
     },
     "execution_count": 4,
     "metadata": {},
     "output_type": "execute_result"
    }
   ],
   "source": [
    "spark = SparkSession.builder.config(\"spark.jars.packages\", \"JohnSnowLabs:spark-nlp:1.8.2\").getOrCreate()\n",
    "spark"
   ]
  },
  {
   "cell_type": "markdown",
   "metadata": {},
   "source": [
    "# Read multiple files in a dir as one Dataframe"
   ]
  },
  {
   "cell_type": "code",
   "execution_count": 4,
   "metadata": {},
   "outputs": [],
   "source": [
    "df = spark.read.csv('./data/*.csv', header=True, sep=',', inferSchema=True)"
   ]
  },
  {
   "cell_type": "code",
   "execution_count": 6,
   "metadata": {},
   "outputs": [
    {
     "name": "stdout",
     "output_type": "stream",
     "text": [
      "root\n",
      " |-- id: string (nullable = true)\n",
      " |-- title: string (nullable = true)\n",
      " |-- score: string (nullable = true)\n",
      " |-- author: string (nullable = true)\n",
      " |-- author_flair_text: string (nullable = true)\n",
      " |-- removed_by: string (nullable = true)\n",
      " |-- total_awards_received: string (nullable = true)\n",
      " |-- awarders: string (nullable = true)\n",
      " |-- created_utc: string (nullable = true)\n",
      " |-- full_link: string (nullable = true)\n",
      " |-- num_comments: string (nullable = true)\n",
      " |-- over_18: string (nullable = true)\n",
      "\n"
     ]
    }
   ],
   "source": [
    "df.printSchema()"
   ]
  },
  {
   "cell_type": "code",
   "execution_count": 7,
   "metadata": {},
   "outputs": [
    {
     "data": {
      "text/plain": [
       "190888"
      ]
     },
     "execution_count": 7,
     "metadata": {},
     "output_type": "execute_result"
    }
   ],
   "source": [
    "df.count()"
   ]
  },
  {
   "cell_type": "markdown",
   "metadata": {},
   "source": [
    "# Deal with Struct type to query subfields "
   ]
  },
  {
   "cell_type": "code",
   "execution_count": 10,
   "metadata": {},
   "outputs": [
    {
     "data": {
      "text/html": [
       "<div>\n",
       "<style scoped>\n",
       "    .dataframe tbody tr th:only-of-type {\n",
       "        vertical-align: middle;\n",
       "    }\n",
       "\n",
       "    .dataframe tbody tr th {\n",
       "        vertical-align: top;\n",
       "    }\n",
       "\n",
       "    .dataframe thead th {\n",
       "        text-align: right;\n",
       "    }\n",
       "</style>\n",
       "<table border=\"1\" class=\"dataframe\">\n",
       "  <thead>\n",
       "    <tr style=\"text-align: right;\">\n",
       "      <th></th>\n",
       "      <th>title</th>\n",
       "      <th>author</th>\n",
       "    </tr>\n",
       "  </thead>\n",
       "  <tbody>\n",
       "    <tr>\n",
       "      <th>0</th>\n",
       "      <td>Wordcloud of trending videos on YouTube in the United States over 2017- 2018</td>\n",
       "      <td>OmarZiada</td>\n",
       "    </tr>\n",
       "    <tr>\n",
       "      <th>1</th>\n",
       "      <td>Immunization in India. Source: https://niti.gov.in/content/immunisation</td>\n",
       "      <td>Professional_Napper_</td>\n",
       "    </tr>\n",
       "    <tr>\n",
       "      <th>2</th>\n",
       "      <td>How to quickly estimate the impact of players during a basketball game ?</td>\n",
       "      <td>Viziball</td>\n",
       "    </tr>\n",
       "    <tr>\n",
       "      <th>3</th>\n",
       "      <td>PhpStorm 2020.3.3 Crack Full Activation Code Latest Version Free</td>\n",
       "      <td>maxpoul</td>\n",
       "    </tr>\n",
       "    <tr>\n",
       "      <th>4</th>\n",
       "      <td>3DMark 2.17.7137 Crack + Serial Key 2021 For [Mac/Win] Update</td>\n",
       "      <td>maxpoul</td>\n",
       "    </tr>\n",
       "  </tbody>\n",
       "</table>\n",
       "</div>"
      ],
      "text/plain": [
       "                                                                          title  \\\n",
       "0  Wordcloud of trending videos on YouTube in the United States over 2017- 2018   \n",
       "1       Immunization in India. Source: https://niti.gov.in/content/immunisation   \n",
       "2      How to quickly estimate the impact of players during a basketball game ?   \n",
       "3              PhpStorm 2020.3.3 Crack Full Activation Code Latest Version Free   \n",
       "4                 3DMark 2.17.7137 Crack + Serial Key 2021 For [Mac/Win] Update   \n",
       "\n",
       "                 author  \n",
       "0             OmarZiada  \n",
       "1  Professional_Napper_  \n",
       "2              Viziball  \n",
       "3               maxpoul  \n",
       "4               maxpoul  "
      ]
     },
     "execution_count": 10,
     "metadata": {},
     "output_type": "execute_result"
    }
   ],
   "source": [
    "df_TA = df.select(['title', 'author']).filter(~(F.col('title').contains('[OC]')))\n",
    "df_TA.limit(5).toPandas()"
   ]
  },
  {
   "cell_type": "markdown",
   "metadata": {},
   "source": [
    "# Try to implement the equivalent of flatMap in dataframes"
   ]
  },
  {
   "cell_type": "code",
   "execution_count": 15,
   "metadata": {},
   "outputs": [
    {
     "data": {
      "text/html": [
       "<div>\n",
       "<style scoped>\n",
       "    .dataframe tbody tr th:only-of-type {\n",
       "        vertical-align: middle;\n",
       "    }\n",
       "\n",
       "    .dataframe tbody tr th {\n",
       "        vertical-align: top;\n",
       "    }\n",
       "\n",
       "    .dataframe thead th {\n",
       "        text-align: right;\n",
       "    }\n",
       "</style>\n",
       "<table border=\"1\" class=\"dataframe\">\n",
       "  <thead>\n",
       "    <tr style=\"text-align: right;\">\n",
       "      <th></th>\n",
       "      <th>word</th>\n",
       "      <th>count</th>\n",
       "    </tr>\n",
       "  </thead>\n",
       "  <tbody>\n",
       "    <tr>\n",
       "      <th>0</th>\n",
       "      <td>of</td>\n",
       "      <td>39171</td>\n",
       "    </tr>\n",
       "    <tr>\n",
       "      <th>1</th>\n",
       "      <td>the</td>\n",
       "      <td>37734</td>\n",
       "    </tr>\n",
       "    <tr>\n",
       "      <th>2</th>\n",
       "      <td>in</td>\n",
       "      <td>26497</td>\n",
       "    </tr>\n",
       "    <tr>\n",
       "      <th>3</th>\n",
       "      <td>and</td>\n",
       "      <td>17735</td>\n",
       "    </tr>\n",
       "    <tr>\n",
       "      <th>4</th>\n",
       "      <td>to</td>\n",
       "      <td>17007</td>\n",
       "    </tr>\n",
       "    <tr>\n",
       "      <th>5</th>\n",
       "      <td>a</td>\n",
       "      <td>12895</td>\n",
       "    </tr>\n",
       "    <tr>\n",
       "      <th>6</th>\n",
       "      <td>The</td>\n",
       "      <td>11851</td>\n",
       "    </tr>\n",
       "    <tr>\n",
       "      <th>7</th>\n",
       "      <td>by</td>\n",
       "      <td>10072</td>\n",
       "    </tr>\n",
       "    <tr>\n",
       "      <th>8</th>\n",
       "      <td>for</td>\n",
       "      <td>9568</td>\n",
       "    </tr>\n",
       "    <tr>\n",
       "      <th>9</th>\n",
       "      <td>-</td>\n",
       "      <td>9277</td>\n",
       "    </tr>\n",
       "  </tbody>\n",
       "</table>\n",
       "</div>"
      ],
      "text/plain": [
       "  word  count\n",
       "0   of  39171\n",
       "1  the  37734\n",
       "2   in  26497\n",
       "3  and  17735\n",
       "4   to  17007\n",
       "5    a  12895\n",
       "6  The  11851\n",
       "7   by  10072\n",
       "8  for   9568\n",
       "9    -   9277"
      ]
     },
     "execution_count": 15,
     "metadata": {},
     "output_type": "execute_result"
    }
   ],
   "source": [
    "# .explode(): separate elements of array into multiple rows\n",
    "df_TA_wc = df_TA.select(\n",
    "    F.explode(F.split(F.col('title'), ' ')).alias('word')\n",
    ").groupBy('word').count().orderBy(F.col('count').desc())\n",
    "\n",
    "df_TA_wc.limit(10).toPandas()"
   ]
  },
  {
   "cell_type": "code",
   "execution_count": 18,
   "metadata": {},
   "outputs": [
    {
     "data": {
      "text/plain": [
       "['text', 'author']"
      ]
     },
     "execution_count": 18,
     "metadata": {},
     "output_type": "execute_result"
    }
   ],
   "source": [
    "df_TA = df_TA.withColumnRenamed('title', 'text')\n",
    "df_TA.columns"
   ]
  },
  {
   "cell_type": "markdown",
   "metadata": {},
   "source": [
    "# Use an NLP libary to do Part-of-Speech Tagging"
   ]
  },
  {
   "cell_type": "code",
   "execution_count": 16,
   "metadata": {},
   "outputs": [],
   "source": [
    "from com.johnsnowlabs.nlp.pretrained.pipeline.en import BasicPipeline as bp"
   ]
  },
  {
   "cell_type": "code",
   "execution_count": 11,
   "metadata": {},
   "outputs": [
    {
     "name": "stdout",
     "output_type": "stream",
     "text": [
      "root\n",
      " |-- text: string (nullable = true)\n",
      " |-- author: string (nullable = true)\n",
      " |-- document: array (nullable = true)\n",
      " |    |-- element: struct (containsNull = true)\n",
      " |    |    |-- annotatorType: string (nullable = true)\n",
      " |    |    |-- begin: integer (nullable = false)\n",
      " |    |    |-- end: integer (nullable = false)\n",
      " |    |    |-- result: string (nullable = true)\n",
      " |    |    |-- metadata: map (nullable = true)\n",
      " |    |    |    |-- key: string\n",
      " |    |    |    |-- value: string (valueContainsNull = true)\n",
      " |-- token: array (nullable = true)\n",
      " |    |-- element: struct (containsNull = true)\n",
      " |    |    |-- annotatorType: string (nullable = true)\n",
      " |    |    |-- begin: integer (nullable = false)\n",
      " |    |    |-- end: integer (nullable = false)\n",
      " |    |    |-- result: string (nullable = true)\n",
      " |    |    |-- metadata: map (nullable = true)\n",
      " |    |    |    |-- key: string\n",
      " |    |    |    |-- value: string (valueContainsNull = true)\n",
      " |-- normal: array (nullable = true)\n",
      " |    |-- element: struct (containsNull = true)\n",
      " |    |    |-- annotatorType: string (nullable = true)\n",
      " |    |    |-- begin: integer (nullable = false)\n",
      " |    |    |-- end: integer (nullable = false)\n",
      " |    |    |-- result: string (nullable = true)\n",
      " |    |    |-- metadata: map (nullable = true)\n",
      " |    |    |    |-- key: string\n",
      " |    |    |    |-- value: string (valueContainsNull = true)\n",
      " |-- lemma: array (nullable = true)\n",
      " |    |-- element: struct (containsNull = true)\n",
      " |    |    |-- annotatorType: string (nullable = true)\n",
      " |    |    |-- begin: integer (nullable = false)\n",
      " |    |    |-- end: integer (nullable = false)\n",
      " |    |    |-- result: string (nullable = true)\n",
      " |    |    |-- metadata: map (nullable = true)\n",
      " |    |    |    |-- key: string\n",
      " |    |    |    |-- value: string (valueContainsNull = true)\n",
      " |-- pos: array (nullable = true)\n",
      " |    |-- element: struct (containsNull = true)\n",
      " |    |    |-- annotatorType: string (nullable = true)\n",
      " |    |    |-- begin: integer (nullable = false)\n",
      " |    |    |-- end: integer (nullable = false)\n",
      " |    |    |-- result: string (nullable = true)\n",
      " |    |    |-- metadata: map (nullable = true)\n",
      " |    |    |    |-- key: string\n",
      " |    |    |    |-- value: string (valueContainsNull = true)\n",
      "\n"
     ]
    }
   ],
   "source": [
    "df_annotated = bp.annotate(df_TA, 'title')\n",
    "df_annotated.printSchema()"
   ]
  },
  {
   "cell_type": "markdown",
   "metadata": {},
   "source": [
    "## Deal with Map type to query subfields"
   ]
  },
  {
   "cell_type": "code",
   "execution_count": 12,
   "metadata": {},
   "outputs": [
    {
     "data": {
      "text/html": [
       "<div>\n",
       "<style scoped>\n",
       "    .dataframe tbody tr th:only-of-type {\n",
       "        vertical-align: middle;\n",
       "    }\n",
       "\n",
       "    .dataframe tbody tr th {\n",
       "        vertical-align: top;\n",
       "    }\n",
       "\n",
       "    .dataframe thead th {\n",
       "        text-align: right;\n",
       "    }\n",
       "</style>\n",
       "<table border=\"1\" class=\"dataframe\">\n",
       "  <thead>\n",
       "    <tr style=\"text-align: right;\">\n",
       "      <th></th>\n",
       "      <th>pos</th>\n",
       "    </tr>\n",
       "  </thead>\n",
       "  <tbody>\n",
       "    <tr>\n",
       "      <th>0</th>\n",
       "      <td>[(pos, 0, 8, NNP, {'word': 'Wordcloud'}), (pos, 10, 11, IN, {'word': 'of'}), (pos, 13, 20, VBG, {'word': 'trending'}), (pos, 22, 27, NN, {'word': 'videos'}), (pos, 29, 30, IN, {'word': 'on'}), (pos, 32, 38, NNP, {'word': 'YouTube'}), (pos, 40, 41, IN, {'word': 'in'}), (pos, 43, 45, DT, {'word': 'the'}), (pos, 47, 52, NNP, {'word': 'United'}), (pos, 54, 59, NNPS, {'word': 'States'}), (pos, 61, 64, IN, {'word': 'over'})]</td>\n",
       "    </tr>\n",
       "    <tr>\n",
       "      <th>1</th>\n",
       "      <td>[(pos, 0, 11, NNP, {'word': 'Immunization'}), (pos, 13, 14, IN, {'word': 'in'}), (pos, 16, 20, NNP, {'word': 'India'}), (pos, 23, 28, NNP, {'word': 'Source'}), (pos, 31, 70, NN, {'word': 'httpsnitigovincontentimmunisation'})]</td>\n",
       "    </tr>\n",
       "    <tr>\n",
       "      <th>2</th>\n",
       "      <td>[(pos, 0, 2, WRB, {'word': 'How'}), (pos, 4, 5, TO, {'word': 'to'}), (pos, 7, 13, RB, {'word': 'quickly'}), (pos, 15, 22, VB, {'word': 'estimate'}), (pos, 24, 26, DT, {'word': 'the'}), (pos, 28, 33, NN, {'word': 'impact'}), (pos, 35, 36, IN, {'word': 'of'}), (pos, 38, 44, NNS, {'word': 'players'}), (pos, 46, 51, IN, {'word': 'during'}), (pos, 53, 53, DT, {'word': 'a'}), (pos, 55, 64, NN, {'word': 'basketball'}), (pos, 66, 69, NN, {'word': 'game'})]</td>\n",
       "    </tr>\n",
       "    <tr>\n",
       "      <th>3</th>\n",
       "      <td>[(pos, 0, 7, NNP, {'word': 'PhpStorm'}), (pos, 18, 22, NNP, {'word': 'Crack'}), (pos, 24, 27, NNP, {'word': 'Full'}), (pos, 29, 38, NNP, {'word': 'Activation'}), (pos, 40, 43, NNP, {'word': 'Code'}), (pos, 45, 50, NNP, {'word': 'Latest'}), (pos, 52, 58, NNP, {'word': 'Version'}), (pos, 60, 63, NNP, {'word': 'Free'})]</td>\n",
       "    </tr>\n",
       "    <tr>\n",
       "      <th>4</th>\n",
       "      <td>[(pos, 0, 5, NNP, {'word': 'DMark'}), (pos, 17, 21, NNP, {'word': 'Crack'}), (pos, 23, 23, NN, {'word': '+'}), (pos, 25, 30, NNP, {'word': 'Serial'}), (pos, 32, 34, NNP, {'word': 'Key'}), (pos, 41, 43, IN, {'word': 'For'}), (pos, 46, 52, NNP, {'word': 'MacWin'}), (pos, 55, 60, NNP, {'word': 'Update'})]</td>\n",
       "    </tr>\n",
       "  </tbody>\n",
       "</table>\n",
       "</div>"
      ],
      "text/plain": [
       "                                                                                                                                                                                                                                                                                                                                                                                                                                                                    pos\n",
       "0                                [(pos, 0, 8, NNP, {'word': 'Wordcloud'}), (pos, 10, 11, IN, {'word': 'of'}), (pos, 13, 20, VBG, {'word': 'trending'}), (pos, 22, 27, NN, {'word': 'videos'}), (pos, 29, 30, IN, {'word': 'on'}), (pos, 32, 38, NNP, {'word': 'YouTube'}), (pos, 40, 41, IN, {'word': 'in'}), (pos, 43, 45, DT, {'word': 'the'}), (pos, 47, 52, NNP, {'word': 'United'}), (pos, 54, 59, NNPS, {'word': 'States'}), (pos, 61, 64, IN, {'word': 'over'})]\n",
       "1                                                                                                                                                                                                                                     [(pos, 0, 11, NNP, {'word': 'Immunization'}), (pos, 13, 14, IN, {'word': 'in'}), (pos, 16, 20, NNP, {'word': 'India'}), (pos, 23, 28, NNP, {'word': 'Source'}), (pos, 31, 70, NN, {'word': 'httpsnitigovincontentimmunisation'})]\n",
       "2  [(pos, 0, 2, WRB, {'word': 'How'}), (pos, 4, 5, TO, {'word': 'to'}), (pos, 7, 13, RB, {'word': 'quickly'}), (pos, 15, 22, VB, {'word': 'estimate'}), (pos, 24, 26, DT, {'word': 'the'}), (pos, 28, 33, NN, {'word': 'impact'}), (pos, 35, 36, IN, {'word': 'of'}), (pos, 38, 44, NNS, {'word': 'players'}), (pos, 46, 51, IN, {'word': 'during'}), (pos, 53, 53, DT, {'word': 'a'}), (pos, 55, 64, NN, {'word': 'basketball'}), (pos, 66, 69, NN, {'word': 'game'})]\n",
       "3                                                                                                                                        [(pos, 0, 7, NNP, {'word': 'PhpStorm'}), (pos, 18, 22, NNP, {'word': 'Crack'}), (pos, 24, 27, NNP, {'word': 'Full'}), (pos, 29, 38, NNP, {'word': 'Activation'}), (pos, 40, 43, NNP, {'word': 'Code'}), (pos, 45, 50, NNP, {'word': 'Latest'}), (pos, 52, 58, NNP, {'word': 'Version'}), (pos, 60, 63, NNP, {'word': 'Free'})]\n",
       "4                                                                                                                                                       [(pos, 0, 5, NNP, {'word': 'DMark'}), (pos, 17, 21, NNP, {'word': 'Crack'}), (pos, 23, 23, NN, {'word': '+'}), (pos, 25, 30, NNP, {'word': 'Serial'}), (pos, 32, 34, NNP, {'word': 'Key'}), (pos, 41, 43, IN, {'word': 'For'}), (pos, 46, 52, NNP, {'word': 'MacWin'}), (pos, 55, 60, NNP, {'word': 'Update'})]"
      ]
     },
     "execution_count": 12,
     "metadata": {},
     "output_type": "execute_result"
    }
   ],
   "source": [
    "df_annotated.select('pos').limit(5).toPandas()"
   ]
  },
  {
   "cell_type": "code",
   "execution_count": 13,
   "metadata": {},
   "outputs": [
    {
     "data": {
      "text/html": [
       "<div>\n",
       "<style scoped>\n",
       "    .dataframe tbody tr th:only-of-type {\n",
       "        vertical-align: middle;\n",
       "    }\n",
       "\n",
       "    .dataframe tbody tr th {\n",
       "        vertical-align: top;\n",
       "    }\n",
       "\n",
       "    .dataframe thead th {\n",
       "        text-align: right;\n",
       "    }\n",
       "</style>\n",
       "<table border=\"1\" class=\"dataframe\">\n",
       "  <thead>\n",
       "    <tr style=\"text-align: right;\">\n",
       "      <th></th>\n",
       "      <th>text</th>\n",
       "      <th>metadata</th>\n",
       "      <th>result</th>\n",
       "    </tr>\n",
       "  </thead>\n",
       "  <tbody>\n",
       "    <tr>\n",
       "      <th>0</th>\n",
       "      <td>Wordcloud of trending videos on YouTube in the United States over 2017- 2018</td>\n",
       "      <td>[{'word': 'Wordcloud'}, {'word': 'of'}, {'word': 'trending'}, {'word': 'videos'}, {'word': 'on'}, {'word': 'YouTube'}, {'word': 'in'}, {'word': 'the'}, {'word': 'United'}, {'word': 'States'}, {'word': 'over'}]</td>\n",
       "      <td>[NNP, IN, VBG, NN, IN, NNP, IN, DT, NNP, NNPS, IN]</td>\n",
       "    </tr>\n",
       "    <tr>\n",
       "      <th>1</th>\n",
       "      <td>Immunization in India. Source: https://niti.gov.in/content/immunisation</td>\n",
       "      <td>[{'word': 'Immunization'}, {'word': 'in'}, {'word': 'India'}, {'word': 'Source'}, {'word': 'httpsnitigovincontentimmunisation'}]</td>\n",
       "      <td>[NNP, IN, NNP, NNP, NN]</td>\n",
       "    </tr>\n",
       "    <tr>\n",
       "      <th>2</th>\n",
       "      <td>How to quickly estimate the impact of players during a basketball game ?</td>\n",
       "      <td>[{'word': 'How'}, {'word': 'to'}, {'word': 'quickly'}, {'word': 'estimate'}, {'word': 'the'}, {'word': 'impact'}, {'word': 'of'}, {'word': 'players'}, {'word': 'during'}, {'word': 'a'}, {'word': 'basketball'}, {'word': 'game'}]</td>\n",
       "      <td>[WRB, TO, RB, VB, DT, NN, IN, NNS, IN, DT, NN, NN]</td>\n",
       "    </tr>\n",
       "    <tr>\n",
       "      <th>3</th>\n",
       "      <td>PhpStorm 2020.3.3 Crack Full Activation Code Latest Version Free</td>\n",
       "      <td>[{'word': 'PhpStorm'}, {'word': 'Crack'}, {'word': 'Full'}, {'word': 'Activation'}, {'word': 'Code'}, {'word': 'Latest'}, {'word': 'Version'}, {'word': 'Free'}]</td>\n",
       "      <td>[NNP, NNP, NNP, NNP, NNP, NNP, NNP, NNP]</td>\n",
       "    </tr>\n",
       "    <tr>\n",
       "      <th>4</th>\n",
       "      <td>3DMark 2.17.7137 Crack + Serial Key 2021 For [Mac/Win] Update</td>\n",
       "      <td>[{'word': 'DMark'}, {'word': 'Crack'}, {'word': '+'}, {'word': 'Serial'}, {'word': 'Key'}, {'word': 'For'}, {'word': 'MacWin'}, {'word': 'Update'}]</td>\n",
       "      <td>[NNP, NNP, NN, NNP, NNP, IN, NNP, NNP]</td>\n",
       "    </tr>\n",
       "  </tbody>\n",
       "</table>\n",
       "</div>"
      ],
      "text/plain": [
       "                                                                           text  \\\n",
       "0  Wordcloud of trending videos on YouTube in the United States over 2017- 2018   \n",
       "1       Immunization in India. Source: https://niti.gov.in/content/immunisation   \n",
       "2      How to quickly estimate the impact of players during a basketball game ?   \n",
       "3              PhpStorm 2020.3.3 Crack Full Activation Code Latest Version Free   \n",
       "4                 3DMark 2.17.7137 Crack + Serial Key 2021 For [Mac/Win] Update   \n",
       "\n",
       "                                                                                                                                                                                                                              metadata  \\\n",
       "0                    [{'word': 'Wordcloud'}, {'word': 'of'}, {'word': 'trending'}, {'word': 'videos'}, {'word': 'on'}, {'word': 'YouTube'}, {'word': 'in'}, {'word': 'the'}, {'word': 'United'}, {'word': 'States'}, {'word': 'over'}]   \n",
       "1                                                                                                     [{'word': 'Immunization'}, {'word': 'in'}, {'word': 'India'}, {'word': 'Source'}, {'word': 'httpsnitigovincontentimmunisation'}]   \n",
       "2  [{'word': 'How'}, {'word': 'to'}, {'word': 'quickly'}, {'word': 'estimate'}, {'word': 'the'}, {'word': 'impact'}, {'word': 'of'}, {'word': 'players'}, {'word': 'during'}, {'word': 'a'}, {'word': 'basketball'}, {'word': 'game'}]   \n",
       "3                                                                     [{'word': 'PhpStorm'}, {'word': 'Crack'}, {'word': 'Full'}, {'word': 'Activation'}, {'word': 'Code'}, {'word': 'Latest'}, {'word': 'Version'}, {'word': 'Free'}]   \n",
       "4                                                                                  [{'word': 'DMark'}, {'word': 'Crack'}, {'word': '+'}, {'word': 'Serial'}, {'word': 'Key'}, {'word': 'For'}, {'word': 'MacWin'}, {'word': 'Update'}]   \n",
       "\n",
       "                                               result  \n",
       "0  [NNP, IN, VBG, NN, IN, NNP, IN, DT, NNP, NNPS, IN]  \n",
       "1                             [NNP, IN, NNP, NNP, NN]  \n",
       "2  [WRB, TO, RB, VB, DT, NN, IN, NNS, IN, DT, NN, NN]  \n",
       "3            [NNP, NNP, NNP, NNP, NNP, NNP, NNP, NNP]  \n",
       "4              [NNP, NNP, NN, NNP, NNP, IN, NNP, NNP]  "
      ]
     },
     "execution_count": 13,
     "metadata": {},
     "output_type": "execute_result"
    }
   ],
   "source": [
    "df_pos = df_annotated.select(['text', 'pos.metadata', 'pos.result'])\n",
    "df_pos.limit(5).toPandas()"
   ]
  },
  {
   "cell_type": "code",
   "execution_count": 14,
   "metadata": {},
   "outputs": [
    {
     "name": "stdout",
     "output_type": "stream",
     "text": [
      "root\n",
      " |-- pos: struct (nullable = true)\n",
      " |    |-- annotatorType: string (nullable = true)\n",
      " |    |-- begin: integer (nullable = false)\n",
      " |    |-- end: integer (nullable = false)\n",
      " |    |-- result: string (nullable = true)\n",
      " |    |-- metadata: map (nullable = true)\n",
      " |    |    |-- key: string\n",
      " |    |    |-- value: string (valueContainsNull = true)\n",
      "\n",
      "None\n"
     ]
    },
    {
     "data": {
      "text/html": [
       "<div>\n",
       "<style scoped>\n",
       "    .dataframe tbody tr th:only-of-type {\n",
       "        vertical-align: middle;\n",
       "    }\n",
       "\n",
       "    .dataframe tbody tr th {\n",
       "        vertical-align: top;\n",
       "    }\n",
       "\n",
       "    .dataframe thead th {\n",
       "        text-align: right;\n",
       "    }\n",
       "</style>\n",
       "<table border=\"1\" class=\"dataframe\">\n",
       "  <thead>\n",
       "    <tr style=\"text-align: right;\">\n",
       "      <th></th>\n",
       "      <th>pos</th>\n",
       "    </tr>\n",
       "  </thead>\n",
       "  <tbody>\n",
       "    <tr>\n",
       "      <th>0</th>\n",
       "      <td>(pos, 0, 8, NNP, {'word': 'Wordcloud'})</td>\n",
       "    </tr>\n",
       "    <tr>\n",
       "      <th>1</th>\n",
       "      <td>(pos, 10, 11, IN, {'word': 'of'})</td>\n",
       "    </tr>\n",
       "    <tr>\n",
       "      <th>2</th>\n",
       "      <td>(pos, 13, 20, VBG, {'word': 'trending'})</td>\n",
       "    </tr>\n",
       "    <tr>\n",
       "      <th>3</th>\n",
       "      <td>(pos, 22, 27, NN, {'word': 'videos'})</td>\n",
       "    </tr>\n",
       "    <tr>\n",
       "      <th>4</th>\n",
       "      <td>(pos, 29, 30, IN, {'word': 'on'})</td>\n",
       "    </tr>\n",
       "    <tr>\n",
       "      <th>5</th>\n",
       "      <td>(pos, 32, 38, NNP, {'word': 'YouTube'})</td>\n",
       "    </tr>\n",
       "    <tr>\n",
       "      <th>6</th>\n",
       "      <td>(pos, 40, 41, IN, {'word': 'in'})</td>\n",
       "    </tr>\n",
       "    <tr>\n",
       "      <th>7</th>\n",
       "      <td>(pos, 43, 45, DT, {'word': 'the'})</td>\n",
       "    </tr>\n",
       "    <tr>\n",
       "      <th>8</th>\n",
       "      <td>(pos, 47, 52, NNP, {'word': 'United'})</td>\n",
       "    </tr>\n",
       "    <tr>\n",
       "      <th>9</th>\n",
       "      <td>(pos, 54, 59, NNPS, {'word': 'States'})</td>\n",
       "    </tr>\n",
       "  </tbody>\n",
       "</table>\n",
       "</div>"
      ],
      "text/plain": [
       "                                        pos\n",
       "0   (pos, 0, 8, NNP, {'word': 'Wordcloud'})\n",
       "1         (pos, 10, 11, IN, {'word': 'of'})\n",
       "2  (pos, 13, 20, VBG, {'word': 'trending'})\n",
       "3     (pos, 22, 27, NN, {'word': 'videos'})\n",
       "4         (pos, 29, 30, IN, {'word': 'on'})\n",
       "5   (pos, 32, 38, NNP, {'word': 'YouTube'})\n",
       "6         (pos, 40, 41, IN, {'word': 'in'})\n",
       "7        (pos, 43, 45, DT, {'word': 'the'})\n",
       "8    (pos, 47, 52, NNP, {'word': 'United'})\n",
       "9   (pos, 54, 59, NNPS, {'word': 'States'})"
      ]
     },
     "execution_count": 14,
     "metadata": {},
     "output_type": "execute_result"
    }
   ],
   "source": [
    "df_pos_2 = df_annotated.select(F.explode(F.col('pos')).alias('pos'))\n",
    "print(df_pos_2.printSchema())\n",
    "df_pos_2.limit(10).toPandas()"
   ]
  },
  {
   "cell_type": "markdown",
   "metadata": {},
   "source": [
    "## Keep only proper nouns NNP or NNPS"
   ]
  },
  {
   "cell_type": "code",
   "execution_count": 15,
   "metadata": {},
   "outputs": [
    {
     "data": {
      "text/html": [
       "<div>\n",
       "<style scoped>\n",
       "    .dataframe tbody tr th:only-of-type {\n",
       "        vertical-align: middle;\n",
       "    }\n",
       "\n",
       "    .dataframe tbody tr th {\n",
       "        vertical-align: top;\n",
       "    }\n",
       "\n",
       "    .dataframe thead th {\n",
       "        text-align: right;\n",
       "    }\n",
       "</style>\n",
       "<table border=\"1\" class=\"dataframe\">\n",
       "  <thead>\n",
       "    <tr style=\"text-align: right;\">\n",
       "      <th></th>\n",
       "      <th>pos</th>\n",
       "    </tr>\n",
       "  </thead>\n",
       "  <tbody>\n",
       "    <tr>\n",
       "      <th>0</th>\n",
       "      <td>(pos, 0, 8, NNP, {'word': 'Wordcloud'})</td>\n",
       "    </tr>\n",
       "    <tr>\n",
       "      <th>1</th>\n",
       "      <td>(pos, 32, 38, NNP, {'word': 'YouTube'})</td>\n",
       "    </tr>\n",
       "    <tr>\n",
       "      <th>2</th>\n",
       "      <td>(pos, 47, 52, NNP, {'word': 'United'})</td>\n",
       "    </tr>\n",
       "    <tr>\n",
       "      <th>3</th>\n",
       "      <td>(pos, 54, 59, NNPS, {'word': 'States'})</td>\n",
       "    </tr>\n",
       "    <tr>\n",
       "      <th>4</th>\n",
       "      <td>(pos, 0, 11, NNP, {'word': 'Immunization'})</td>\n",
       "    </tr>\n",
       "    <tr>\n",
       "      <th>5</th>\n",
       "      <td>(pos, 16, 20, NNP, {'word': 'India'})</td>\n",
       "    </tr>\n",
       "    <tr>\n",
       "      <th>6</th>\n",
       "      <td>(pos, 23, 28, NNP, {'word': 'Source'})</td>\n",
       "    </tr>\n",
       "    <tr>\n",
       "      <th>7</th>\n",
       "      <td>(pos, 0, 7, NNP, {'word': 'PhpStorm'})</td>\n",
       "    </tr>\n",
       "    <tr>\n",
       "      <th>8</th>\n",
       "      <td>(pos, 18, 22, NNP, {'word': 'Crack'})</td>\n",
       "    </tr>\n",
       "    <tr>\n",
       "      <th>9</th>\n",
       "      <td>(pos, 24, 27, NNP, {'word': 'Full'})</td>\n",
       "    </tr>\n",
       "  </tbody>\n",
       "</table>\n",
       "</div>"
      ],
      "text/plain": [
       "                                           pos\n",
       "0      (pos, 0, 8, NNP, {'word': 'Wordcloud'})\n",
       "1      (pos, 32, 38, NNP, {'word': 'YouTube'})\n",
       "2       (pos, 47, 52, NNP, {'word': 'United'})\n",
       "3      (pos, 54, 59, NNPS, {'word': 'States'})\n",
       "4  (pos, 0, 11, NNP, {'word': 'Immunization'})\n",
       "5        (pos, 16, 20, NNP, {'word': 'India'})\n",
       "6       (pos, 23, 28, NNP, {'word': 'Source'})\n",
       "7       (pos, 0, 7, NNP, {'word': 'PhpStorm'})\n",
       "8        (pos, 18, 22, NNP, {'word': 'Crack'})\n",
       "9         (pos, 24, 27, NNP, {'word': 'Full'})"
      ]
     },
     "execution_count": 15,
     "metadata": {},
     "output_type": "execute_result"
    }
   ],
   "source": [
    "df_NNP = df_pos_2.where(\"pos.result IN ('NNP', 'NNPS')\")\n",
    "# or: df_NNP = df_pos_2.filter((df_pos_2.pos.result == 'NNP') | (df_pos_2.pos.result == 'NNPS'))\n",
    "df_NNP.limit(10).toPandas()"
   ]
  },
  {
   "cell_type": "markdown",
   "metadata": {},
   "source": [
    "## Extract columns form a map in a col"
   ]
  },
  {
   "cell_type": "code",
   "execution_count": 16,
   "metadata": {},
   "outputs": [
    {
     "data": {
      "text/html": [
       "<div>\n",
       "<style scoped>\n",
       "    .dataframe tbody tr th:only-of-type {\n",
       "        vertical-align: middle;\n",
       "    }\n",
       "\n",
       "    .dataframe tbody tr th {\n",
       "        vertical-align: top;\n",
       "    }\n",
       "\n",
       "    .dataframe thead th {\n",
       "        text-align: right;\n",
       "    }\n",
       "</style>\n",
       "<table border=\"1\" class=\"dataframe\">\n",
       "  <thead>\n",
       "    <tr style=\"text-align: right;\">\n",
       "      <th></th>\n",
       "      <th>word</th>\n",
       "      <th>tag</th>\n",
       "    </tr>\n",
       "  </thead>\n",
       "  <tbody>\n",
       "    <tr>\n",
       "      <th>0</th>\n",
       "      <td>Wordcloud</td>\n",
       "      <td>NNP</td>\n",
       "    </tr>\n",
       "    <tr>\n",
       "      <th>1</th>\n",
       "      <td>YouTube</td>\n",
       "      <td>NNP</td>\n",
       "    </tr>\n",
       "    <tr>\n",
       "      <th>2</th>\n",
       "      <td>United</td>\n",
       "      <td>NNP</td>\n",
       "    </tr>\n",
       "    <tr>\n",
       "      <th>3</th>\n",
       "      <td>States</td>\n",
       "      <td>NNPS</td>\n",
       "    </tr>\n",
       "    <tr>\n",
       "      <th>4</th>\n",
       "      <td>Immunization</td>\n",
       "      <td>NNP</td>\n",
       "    </tr>\n",
       "    <tr>\n",
       "      <th>5</th>\n",
       "      <td>India</td>\n",
       "      <td>NNP</td>\n",
       "    </tr>\n",
       "    <tr>\n",
       "      <th>6</th>\n",
       "      <td>Source</td>\n",
       "      <td>NNP</td>\n",
       "    </tr>\n",
       "    <tr>\n",
       "      <th>7</th>\n",
       "      <td>PhpStorm</td>\n",
       "      <td>NNP</td>\n",
       "    </tr>\n",
       "    <tr>\n",
       "      <th>8</th>\n",
       "      <td>Crack</td>\n",
       "      <td>NNP</td>\n",
       "    </tr>\n",
       "    <tr>\n",
       "      <th>9</th>\n",
       "      <td>Full</td>\n",
       "      <td>NNP</td>\n",
       "    </tr>\n",
       "  </tbody>\n",
       "</table>\n",
       "</div>"
      ],
      "text/plain": [
       "           word   tag\n",
       "0     Wordcloud   NNP\n",
       "1       YouTube   NNP\n",
       "2        United   NNP\n",
       "3        States  NNPS\n",
       "4  Immunization   NNP\n",
       "5         India   NNP\n",
       "6        Source   NNP\n",
       "7      PhpStorm   NNP\n",
       "8         Crack   NNP\n",
       "9          Full   NNP"
      ]
     },
     "execution_count": 16,
     "metadata": {},
     "output_type": "execute_result"
    }
   ],
   "source": [
    "df_WordTag = df_NNP.selectExpr([\"pos.metadata['word'] AS word\", 'pos.result AS tag'])\n",
    "df_WordTag.limit(10).toPandas()"
   ]
  },
  {
   "cell_type": "code",
   "execution_count": 17,
   "metadata": {},
   "outputs": [
    {
     "data": {
      "text/html": [
       "<div>\n",
       "<style scoped>\n",
       "    .dataframe tbody tr th:only-of-type {\n",
       "        vertical-align: middle;\n",
       "    }\n",
       "\n",
       "    .dataframe tbody tr th {\n",
       "        vertical-align: top;\n",
       "    }\n",
       "\n",
       "    .dataframe thead th {\n",
       "        text-align: right;\n",
       "    }\n",
       "</style>\n",
       "<table border=\"1\" class=\"dataframe\">\n",
       "  <thead>\n",
       "    <tr style=\"text-align: right;\">\n",
       "      <th></th>\n",
       "      <th>word</th>\n",
       "      <th>count</th>\n",
       "    </tr>\n",
       "  </thead>\n",
       "  <tbody>\n",
       "    <tr>\n",
       "      <th>0</th>\n",
       "      <td>US</td>\n",
       "      <td>6128</td>\n",
       "    </tr>\n",
       "    <tr>\n",
       "      <th>1</th>\n",
       "      <td>Data</td>\n",
       "      <td>3575</td>\n",
       "    </tr>\n",
       "    <tr>\n",
       "      <th>2</th>\n",
       "      <td>World</td>\n",
       "      <td>3140</td>\n",
       "    </tr>\n",
       "    <tr>\n",
       "      <th>3</th>\n",
       "      <td>Map</td>\n",
       "      <td>2380</td>\n",
       "    </tr>\n",
       "    <tr>\n",
       "      <th>4</th>\n",
       "      <td>COVID</td>\n",
       "      <td>2089</td>\n",
       "    </tr>\n",
       "    <tr>\n",
       "      <th>5</th>\n",
       "      <td>Google</td>\n",
       "      <td>1746</td>\n",
       "    </tr>\n",
       "    <tr>\n",
       "      <th>6</th>\n",
       "      <td>New</td>\n",
       "      <td>1588</td>\n",
       "    </tr>\n",
       "    <tr>\n",
       "      <th>7</th>\n",
       "      <td>States</td>\n",
       "      <td>1558</td>\n",
       "    </tr>\n",
       "    <tr>\n",
       "      <th>8</th>\n",
       "      <td>America</td>\n",
       "      <td>1355</td>\n",
       "    </tr>\n",
       "    <tr>\n",
       "      <th>9</th>\n",
       "      <td>United</td>\n",
       "      <td>1310</td>\n",
       "    </tr>\n",
       "  </tbody>\n",
       "</table>\n",
       "</div>"
      ],
      "text/plain": [
       "      word  count\n",
       "0       US   6128\n",
       "1     Data   3575\n",
       "2    World   3140\n",
       "3      Map   2380\n",
       "4    COVID   2089\n",
       "5   Google   1746\n",
       "6      New   1588\n",
       "7   States   1558\n",
       "8  America   1355\n",
       "9   United   1310"
      ]
     },
     "execution_count": 17,
     "metadata": {},
     "output_type": "execute_result"
    }
   ],
   "source": [
    "df_WordTag.groupBy('word').count().sort(F.desc('count')).limit(10).toPandas()"
   ]
  }
 ],
 "metadata": {
  "kernelspec": {
   "display_name": "Python 3 (ipykernel)",
   "language": "python",
   "name": "python3"
  },
  "language_info": {
   "codemirror_mode": {
    "name": "ipython",
    "version": 3
   },
   "file_extension": ".py",
   "mimetype": "text/x-python",
   "name": "python",
   "nbconvert_exporter": "python",
   "pygments_lexer": "ipython3",
   "version": "3.8.17"
  },
  "toc": {
   "base_numbering": 1,
   "nav_menu": {
    "height": "84px",
    "width": "160px"
   },
   "number_sections": false,
   "sideBar": true,
   "skip_h1_title": false,
   "title_cell": "Table of Contents",
   "title_sidebar": "Contents",
   "toc_cell": false,
   "toc_position": {
    "height": "calc(100% - 180px)",
    "left": "10px",
    "top": "150px",
    "width": "236px"
   },
   "toc_section_display": true,
   "toc_window_display": false
  }
 },
 "nbformat": 4,
 "nbformat_minor": 2
}
