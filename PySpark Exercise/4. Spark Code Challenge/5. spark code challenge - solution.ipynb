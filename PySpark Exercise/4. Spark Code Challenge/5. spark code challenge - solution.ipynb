{
 "cells": [
  {
   "cell_type": "markdown",
   "metadata": {},
   "source": [
    "# <center> 4. spark code challenge - solution </center>\n",
    "\n",
    "Data Srouce: [SF Salaries Dataset](https://www.kaggle.com/kaggle/sf-salaries) from Kaggle"
   ]
  },
  {
   "cell_type": "code",
   "execution_count": 1,
   "metadata": {},
   "outputs": [],
   "source": [
    "import findspark\n",
    "import os\n",
    "\n",
    "findspark.init(os.environ['SPARK_HOME'])"
   ]
  },
  {
   "cell_type": "code",
   "execution_count": 7,
   "metadata": {},
   "outputs": [],
   "source": [
    "from pyspark.sql import SparkSession\n",
    "import pyspark.sql.functions as F"
   ]
  },
  {
   "cell_type": "code",
   "execution_count": 3,
   "metadata": {},
   "outputs": [],
   "source": [
    "# 1. create spark session\n",
    "spark = SparkSession.builder.appName('salary').getOrCreate()"
   ]
  },
  {
   "cell_type": "code",
   "execution_count": 4,
   "metadata": {},
   "outputs": [],
   "source": [
    "# 2. read csv file\n",
    "salary = spark.read.csv('./data/salaries.csv', header=True, inferSchema=True)"
   ]
  },
  {
   "cell_type": "code",
   "execution_count": null,
   "metadata": {},
   "outputs": [],
   "source": [
    "# 3. take a look at the dataframe\n",
    "salary.show()"
   ]
  },
  {
   "cell_type": "code",
   "execution_count": null,
   "metadata": {},
   "outputs": [],
   "source": [
    "# 4. check schema of the dataframe\n",
    "salary.printSchema()"
   ]
  },
  {
   "cell_type": "code",
   "execution_count": 5,
   "metadata": {},
   "outputs": [
    {
     "data": {
      "text/plain": [
       "148654"
      ]
     },
     "execution_count": 5,
     "metadata": {},
     "output_type": "execute_result"
    }
   ],
   "source": [
    "# 5. how many records in the dataframe\n",
    "salary.count()"
   ]
  },
  {
   "cell_type": "code",
   "execution_count": 8,
   "metadata": {},
   "outputs": [
    {
     "name": "stdout",
     "output_type": "stream",
     "text": [
      "+-----------------+\n",
      "|     avg(BasePay)|\n",
      "+-----------------+\n",
      "|66325.44884049208|\n",
      "+-----------------+\n",
      "\n"
     ]
    }
   ],
   "source": [
    "# 6. What is the average BasePay\n",
    "salary.select(F.mean('BasePay')).show()"
   ]
  },
  {
   "cell_type": "code",
   "execution_count": 9,
   "metadata": {},
   "outputs": [
    {
     "name": "stdout",
     "output_type": "stream",
     "text": [
      "+-------------------------+\n",
      "|JobTitle                 |\n",
      "+-------------------------+\n",
      "|CAPTAIN, FIRE SUPPRESSION|\n",
      "+-------------------------+\n",
      "\n"
     ]
    }
   ],
   "source": [
    "# 7. What is the job title of JOSEPH DRISCOLL\n",
    "salary.filter('EmployeeName = \"JOSEPH DRISCOLL\"').select('JobTitle').show(1, False)"
   ]
  },
  {
   "cell_type": "code",
   "execution_count": 10,
   "metadata": {},
   "outputs": [
    {
     "name": "stdout",
     "output_type": "stream",
     "text": [
      "+----------------+\n",
      "|TotalPayBenefits|\n",
      "+----------------+\n",
      "|       270324.91|\n",
      "+----------------+\n",
      "\n"
     ]
    }
   ],
   "source": [
    "# 8. How much does JOSEPH DRISCOLL make (including benefits)\n",
    "salary.filter('EmployeeName = \"JOSEPH DRISCOLL\"').select('TotalPayBenefits').show()"
   ]
  },
  {
   "cell_type": "code",
   "execution_count": 11,
   "metadata": {},
   "outputs": [
    {
     "name": "stdout",
     "output_type": "stream",
     "text": [
      "+--------------+\n",
      "|EmployeeName  |\n",
      "+--------------+\n",
      "|NATHANIEL FORD|\n",
      "+--------------+\n",
      "only showing top 1 row\n",
      "\n"
     ]
    }
   ],
   "source": [
    "# 9. What is the name of highest paid person (including benefits)?\n",
    "\n",
    "salary.orderBy('TotalPayBenefits', ascending=False).select('EmployeeName').show(1, False)"
   ]
  },
  {
   "cell_type": "code",
   "execution_count": 12,
   "metadata": {},
   "outputs": [
    {
     "data": {
      "text/plain": [
       "'NATHANIEL FORD'"
      ]
     },
     "execution_count": 12,
     "metadata": {},
     "output_type": "execute_result"
    }
   ],
   "source": [
    "salary.orderBy('TotalPayBenefits', ascending=False).head(1)[0].EmployeeName"
   ]
  },
  {
   "cell_type": "code",
   "execution_count": 13,
   "metadata": {},
   "outputs": [
    {
     "data": {
      "text/plain": [
       "'Joe Lopez'"
      ]
     },
     "execution_count": 13,
     "metadata": {},
     "output_type": "execute_result"
    }
   ],
   "source": [
    "# 10. What is the name of lowest paid person (including benefits)\n",
    "\n",
    "salary.orderBy('TotalPayBenefits').head(1)[0].EmployeeName"
   ]
  },
  {
   "cell_type": "code",
   "execution_count": 14,
   "metadata": {},
   "outputs": [
    {
     "name": "stdout",
     "output_type": "stream",
     "text": [
      "+----+------------------+\n",
      "|Year|      avg(BasePay)|\n",
      "+----+------------------+\n",
      "|2013| 69630.03021647697|\n",
      "|2014| 66564.42192449843|\n",
      "|2012| 65436.40685742133|\n",
      "|2011|63595.956516774524|\n",
      "+----+------------------+\n",
      "\n"
     ]
    }
   ],
   "source": [
    "# 11. What was the average (mean) BasePay of all employees per year? \n",
    "\n",
    "salary.groupBy('Year').agg(F.mean('BasePay')).show()"
   ]
  },
  {
   "cell_type": "code",
   "execution_count": 15,
   "metadata": {},
   "outputs": [
    {
     "data": {
      "text/plain": [
       "2159"
      ]
     },
     "execution_count": 15,
     "metadata": {},
     "output_type": "execute_result"
    }
   ],
   "source": [
    "# 11. How many unique job titles are there?\n",
    "\n",
    "salary.select('JobTitle').distinct().count()"
   ]
  },
  {
   "cell_type": "code",
   "execution_count": 16,
   "metadata": {},
   "outputs": [
    {
     "name": "stdout",
     "output_type": "stream",
     "text": [
      "+----------------------------+-----+\n",
      "|JobTitle                    |count|\n",
      "+----------------------------+-----+\n",
      "|Transit Operator            |7036 |\n",
      "|Special Nurse               |4389 |\n",
      "|Registered Nurse            |3736 |\n",
      "|Public Svc Aide-Public Works|2518 |\n",
      "|Police Officer 3            |2421 |\n",
      "+----------------------------+-----+\n",
      "only showing top 5 rows\n",
      "\n"
     ]
    }
   ],
   "source": [
    "# 12. What are the top 5 most common jobs\n",
    "\n",
    "salary.groupBy('JobTitle').count().orderBy('count', ascending=False).show(5, False)"
   ]
  },
  {
   "cell_type": "code",
   "execution_count": 17,
   "metadata": {},
   "outputs": [
    {
     "data": {
      "text/plain": [
       "202"
      ]
     },
     "execution_count": 17,
     "metadata": {},
     "output_type": "execute_result"
    }
   ],
   "source": [
    "# 13. How many Job Titles were represented by only one person in 2013?\n",
    "\n",
    "salary.filter('Year = 2013').groupBy('JobTitle').count().filter('count = 1').count()"
   ]
  },
  {
   "cell_type": "code",
   "execution_count": 18,
   "metadata": {},
   "outputs": [],
   "source": [
    "# 14. How many people have the word Chief or chief in their job title?\n",
    "\n",
    "def has_chief(title):\n",
    "    if 'chief' in title.lower():\n",
    "        return 1\n",
    "    else:\n",
    "        return 0"
   ]
  },
  {
   "cell_type": "code",
   "execution_count": 19,
   "metadata": {},
   "outputs": [],
   "source": [
    "has_chief_udf = F.udf(has_chief)"
   ]
  },
  {
   "cell_type": "code",
   "execution_count": 20,
   "metadata": {},
   "outputs": [
    {
     "data": {
      "text/plain": [
       "627"
      ]
     },
     "execution_count": 20,
     "metadata": {},
     "output_type": "execute_result"
    }
   ],
   "source": [
    "salary.withColumn('has_chief', has_chief_udf(F.col('JobTitle'))).filter('has_chief = 1').count()"
   ]
  }
 ],
 "metadata": {
  "kernelspec": {
   "display_name": "Python 3 (ipykernel)",
   "language": "python",
   "name": "python3"
  },
  "language_info": {
   "codemirror_mode": {
    "name": "ipython",
    "version": 3
   },
   "file_extension": ".py",
   "mimetype": "text/x-python",
   "name": "python",
   "nbconvert_exporter": "python",
   "pygments_lexer": "ipython3",
   "version": "3.8.17"
  },
  "toc": {
   "base_numbering": 1,
   "nav_menu": {},
   "number_sections": false,
   "sideBar": true,
   "skip_h1_title": false,
   "title_cell": "Table of Contents",
   "title_sidebar": "Contents",
   "toc_cell": false,
   "toc_position": {},
   "toc_section_display": true,
   "toc_window_display": false
  }
 },
 "nbformat": 4,
 "nbformat_minor": 1
}
