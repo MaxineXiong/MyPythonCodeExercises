{
 "cells": [
  {
   "cell_type": "markdown",
   "metadata": {},
   "source": [
    "# <center> spark-advanced-with-covid-19-example </center>"
   ]
  },
  {
   "cell_type": "markdown",
   "metadata": {},
   "source": [
    "## Below capabilities will be demoed in this section\n",
    "* read csv data file\n",
    "* select & filter\n",
    "* change column name\n",
    "* join\n",
    "* orderBy\n",
    "* distinct\n",
    "* aggregation\n",
    "* alias\n",
    "* head\n",
    "* Expr\n",
    "* UDF - User Defined Function"
   ]
  },
  {
   "cell_type": "code",
   "execution_count": 1,
   "metadata": {},
   "outputs": [],
   "source": [
    "import findspark\n",
    "import os\n",
    "\n",
    "findspark.init(os.environ['SPARK_HOME'])"
   ]
  },
  {
   "cell_type": "code",
   "execution_count": 58,
   "metadata": {},
   "outputs": [],
   "source": [
    "from pyspark.sql import SparkSession, Window\n",
    "import pyspark.sql.functions as F\n",
    "import pyspark.sql.types as T"
   ]
  },
  {
   "cell_type": "code",
   "execution_count": 3,
   "metadata": {},
   "outputs": [],
   "source": [
    "spark = SparkSession.builder.appName('covid-19').getOrCreate()"
   ]
  },
  {
   "cell_type": "code",
   "execution_count": 114,
   "metadata": {},
   "outputs": [],
   "source": [
    "df = spark.read.csv('./data/time-series-19-covid-combined.csv', header=True, sep=',', inferSchema=True)"
   ]
  },
  {
   "cell_type": "code",
   "execution_count": 31,
   "metadata": {},
   "outputs": [
    {
     "name": "stdout",
     "output_type": "stream",
     "text": [
      "root\n",
      " |-- Date: timestamp (nullable = true)\n",
      " |-- Country/Region: string (nullable = true)\n",
      " |-- Province/State: string (nullable = true)\n",
      " |-- Lat: double (nullable = true)\n",
      " |-- Long: double (nullable = true)\n",
      " |-- Confirmed: integer (nullable = true)\n",
      " |-- Recovered: integer (nullable = true)\n",
      " |-- Deaths: integer (nullable = true)\n",
      "\n",
      "None\n",
      "+-------------------+--------------+--------------+----+----+---------+---------+------+\n",
      "|               Date|Country/Region|Province/State| Lat|Long|Confirmed|Recovered|Deaths|\n",
      "+-------------------+--------------+--------------+----+----+---------+---------+------+\n",
      "|2020-01-22 00:00:00|   Afghanistan|          null|33.0|65.0|        0|        0|     0|\n",
      "|2020-01-23 00:00:00|   Afghanistan|          null|33.0|65.0|        0|        0|     0|\n",
      "|2020-01-24 00:00:00|   Afghanistan|          null|33.0|65.0|        0|        0|     0|\n",
      "|2020-01-25 00:00:00|   Afghanistan|          null|33.0|65.0|        0|        0|     0|\n",
      "|2020-01-26 00:00:00|   Afghanistan|          null|33.0|65.0|        0|        0|     0|\n",
      "+-------------------+--------------+--------------+----+----+---------+---------+------+\n",
      "only showing top 5 rows\n",
      "\n"
     ]
    }
   ],
   "source": [
    "print(df.printSchema())\n",
    "df.show(5)"
   ]
  },
  {
   "cell_type": "code",
   "execution_count": 115,
   "metadata": {},
   "outputs": [
    {
     "data": {
      "text/plain": [
       "['Date',\n",
       " 'CountryRegion',\n",
       " 'ProvinceState',\n",
       " 'Lat',\n",
       " 'Long',\n",
       " 'Confirmed',\n",
       " 'Recovered',\n",
       " 'Deaths']"
      ]
     },
     "execution_count": 115,
     "metadata": {},
     "output_type": "execute_result"
    }
   ],
   "source": [
    "df = df.withColumnRenamed('Country/Region', 'CountryRegion') \\\n",
    "       .withColumnRenamed('Province/State', 'ProvinceState')\n",
    "df.columns"
   ]
  },
  {
   "cell_type": "code",
   "execution_count": 116,
   "metadata": {},
   "outputs": [
    {
     "name": "stdout",
     "output_type": "stream",
     "text": [
      "root\n",
      " |-- Date: date (nullable = true)\n",
      " |-- CountryRegion: string (nullable = true)\n",
      " |-- ProvinceState: string (nullable = true)\n",
      " |-- Lat: double (nullable = true)\n",
      " |-- Long: double (nullable = true)\n",
      " |-- Confirmed: integer (nullable = true)\n",
      " |-- Recovered: integer (nullable = true)\n",
      " |-- Deaths: integer (nullable = true)\n",
      "\n"
     ]
    }
   ],
   "source": [
    "df = df.withColumn('Date', F.to_date(F.col('Date')))\n",
    "df.printSchema()"
   ]
  },
  {
   "cell_type": "code",
   "execution_count": 117,
   "metadata": {},
   "outputs": [],
   "source": [
    "df = df.cache()"
   ]
  },
  {
   "cell_type": "code",
   "execution_count": 118,
   "metadata": {},
   "outputs": [
    {
     "data": {
      "text/plain": [
       "22176"
      ]
     },
     "execution_count": 118,
     "metadata": {},
     "output_type": "execute_result"
    }
   ],
   "source": [
    "df.count()"
   ]
  },
  {
   "cell_type": "code",
   "execution_count": 119,
   "metadata": {},
   "outputs": [
    {
     "name": "stdout",
     "output_type": "stream",
     "text": [
      "+----------+-------------+-------------+----+----+---------+---------+------+\n",
      "|      Date|CountryRegion|ProvinceState| Lat|Long|Confirmed|Recovered|Deaths|\n",
      "+----------+-------------+-------------+----+----+---------+---------+------+\n",
      "|2020-02-24|  Afghanistan|         null|33.0|65.0|        1|        0|     0|\n",
      "|2020-02-25|  Afghanistan|         null|33.0|65.0|        1|        0|     0|\n",
      "|2020-02-26|  Afghanistan|         null|33.0|65.0|        1|        0|     0|\n",
      "|2020-02-27|  Afghanistan|         null|33.0|65.0|        1|        0|     0|\n",
      "|2020-02-28|  Afghanistan|         null|33.0|65.0|        1|        0|     0|\n",
      "|2020-02-29|  Afghanistan|         null|33.0|65.0|        1|        0|     0|\n",
      "|2020-03-01|  Afghanistan|         null|33.0|65.0|        1|        0|     0|\n",
      "|2020-03-02|  Afghanistan|         null|33.0|65.0|        1|        0|     0|\n",
      "|2020-03-03|  Afghanistan|         null|33.0|65.0|        1|        0|     0|\n",
      "|2020-03-04|  Afghanistan|         null|33.0|65.0|        1|        0|     0|\n",
      "|2020-03-05|  Afghanistan|         null|33.0|65.0|        1|        0|     0|\n",
      "|2020-03-06|  Afghanistan|         null|33.0|65.0|        1|        0|     0|\n",
      "|2020-03-07|  Afghanistan|         null|33.0|65.0|        1|        0|     0|\n",
      "|2020-03-08|  Afghanistan|         null|33.0|65.0|        4|        0|     0|\n",
      "|2020-03-09|  Afghanistan|         null|33.0|65.0|        4|        0|     0|\n",
      "|2020-03-10|  Afghanistan|         null|33.0|65.0|        5|        0|     0|\n",
      "|2020-03-11|  Afghanistan|         null|33.0|65.0|        7|        0|     0|\n",
      "|2020-03-12|  Afghanistan|         null|33.0|65.0|        7|        0|     0|\n",
      "|2020-03-13|  Afghanistan|         null|33.0|65.0|        7|        0|     0|\n",
      "|2020-03-14|  Afghanistan|         null|33.0|65.0|       11|        0|     0|\n",
      "+----------+-------------+-------------+----+----+---------+---------+------+\n",
      "only showing top 20 rows\n",
      "\n"
     ]
    }
   ],
   "source": [
    "df.filter(F.col('Confirmed') > 0).show()"
   ]
  },
  {
   "cell_type": "code",
   "execution_count": 120,
   "metadata": {},
   "outputs": [
    {
     "name": "stdout",
     "output_type": "stream",
     "text": [
      "+----------+-------------+--------------------+--------+--------+---------+---------+------+\n",
      "|      Date|CountryRegion|       ProvinceState|     Lat|    Long|Confirmed|Recovered|Deaths|\n",
      "+----------+-------------+--------------------+--------+--------+---------+---------+------+\n",
      "|2020-03-13|    Australia|Australian Capita...|-35.4735|149.0124|        1|        0|     0|\n",
      "|2020-03-14|    Australia|Australian Capita...|-35.4735|149.0124|        1|        0|     0|\n",
      "|2020-03-15|    Australia|Australian Capita...|-35.4735|149.0124|        1|        0|     0|\n",
      "|2020-03-16|    Australia|Australian Capita...|-35.4735|149.0124|        2|        0|     0|\n",
      "|2020-03-17|    Australia|Australian Capita...|-35.4735|149.0124|        2|        0|     0|\n",
      "|2020-03-18|    Australia|Australian Capita...|-35.4735|149.0124|        3|        0|     0|\n",
      "|2020-03-19|    Australia|Australian Capita...|-35.4735|149.0124|        4|        0|     0|\n",
      "|2020-03-20|    Australia|Australian Capita...|-35.4735|149.0124|        6|        0|     0|\n",
      "|2020-03-21|    Australia|Australian Capita...|-35.4735|149.0124|        9|        0|     0|\n",
      "|2020-03-22|    Australia|Australian Capita...|-35.4735|149.0124|       19|        0|     0|\n",
      "|2020-03-23|    Australia|Australian Capita...|-35.4735|149.0124|       32|        0|     0|\n",
      "|2020-03-24|    Australia|Australian Capita...|-35.4735|149.0124|       39|        0|     0|\n",
      "|2020-03-25|    Australia|Australian Capita...|-35.4735|149.0124|       39|        0|     0|\n",
      "|2020-03-26|    Australia|Australian Capita...|-35.4735|149.0124|       53|        1|     0|\n",
      "|2020-03-27|    Australia|Australian Capita...|-35.4735|149.0124|       62|        1|     0|\n",
      "|2020-03-28|    Australia|Australian Capita...|-35.4735|149.0124|       71|        2|     0|\n",
      "|2020-03-29|    Australia|Australian Capita...|-35.4735|149.0124|       77|        2|     0|\n",
      "|2020-03-30|    Australia|Australian Capita...|-35.4735|149.0124|       78|        2|     1|\n",
      "|2020-03-31|    Australia|Australian Capita...|-35.4735|149.0124|       80|        3|     1|\n",
      "|2020-04-01|    Australia|Australian Capita...|-35.4735|149.0124|       84|        8|     1|\n",
      "+----------+-------------+--------------------+--------+--------+---------+---------+------+\n",
      "only showing top 20 rows\n",
      "\n"
     ]
    }
   ],
   "source": [
    "df.where(\"Confirmed > 0 AND CountryRegion = 'Australia'\").show()"
   ]
  },
  {
   "cell_type": "code",
   "execution_count": 121,
   "metadata": {},
   "outputs": [
    {
     "name": "stdout",
     "output_type": "stream",
     "text": [
      "+----------+-------------+--------------+-------+--------+---------+---------+------+\n",
      "|      Date|CountryRegion| ProvinceState|    Lat|    Long|Confirmed|Recovered|Deaths|\n",
      "+----------+-------------+--------------+-------+--------+---------+---------+------+\n",
      "|2020-04-14|        China|         Anhui|31.8257|117.2264|      991|      984|     6|\n",
      "|2020-04-14|        China|       Beijing|40.1824|116.4142|      589|      491|     8|\n",
      "|2020-04-14|        China|     Chongqing|30.0572| 107.874|      579|      570|     6|\n",
      "|2020-04-14|        China|        Fujian|26.0789|117.9874|      353|      329|     1|\n",
      "|2020-04-14|        China|         Gansu|37.8099|101.0583|      139|      136|     2|\n",
      "|2020-04-14|        China|     Guangdong|23.3417|113.4244|     1564|     1458|     8|\n",
      "|2020-04-14|        China|       Guangxi|23.8298|108.7881|      254|      252|     2|\n",
      "|2020-04-14|        China|       Guizhou|26.8154|106.8748|      146|      144|     2|\n",
      "|2020-04-14|        China|        Hainan|19.1959|109.7453|      168|      162|     6|\n",
      "|2020-04-14|        China|         Hebei| 39.549|116.1306|      327|      314|     6|\n",
      "|2020-04-14|        China|  Heilongjiang| 47.862|127.7615|      819|      470|    13|\n",
      "|2020-04-14|        China|         Henan| 33.882| 113.614|     1276|     1254|    22|\n",
      "|2020-04-14|        China|     Hong Kong|   22.3|   114.2|     1012|      434|     4|\n",
      "|2020-04-14|        China|         Hubei|30.9756|112.2707|    67803|    64363|  3221|\n",
      "|2020-04-14|        China|         Hunan|27.6104|111.7088|     1019|     1014|     4|\n",
      "|2020-04-14|        China|Inner Mongolia|44.0935|113.9448|      190|       91|     1|\n",
      "|2020-04-14|        China|       Jiangsu|32.9711| 119.455|      653|      641|     0|\n",
      "|2020-04-14|        China|       Jiangxi| 27.614|115.7221|      937|      936|     1|\n",
      "|2020-04-14|        China|         Jilin|43.6661|126.1923|      100|       96|     1|\n",
      "|2020-04-14|        China|      Liaoning|41.2956|122.6085|      145|      138|     2|\n",
      "+----------+-------------+--------------+-------+--------+---------+---------+------+\n",
      "only showing top 20 rows\n",
      "\n"
     ]
    }
   ],
   "source": [
    "df.where(\"CountryRegion = 'China'\").sort([F.desc('Date'), 'ProvinceState']).show()\n",
    "# df.where(\"CountryRegion = 'China'\").orderBy([F.col('Date').desc(), F.col('ProvinceState')]).show()\n",
    "# df.where(\"CountryRegion = 'China'\").orderBy([F.col('Date'), F.col('ProvinceState')], ascending=[False, True]).show()"
   ]
  },
  {
   "cell_type": "code",
   "execution_count": 122,
   "metadata": {},
   "outputs": [
    {
     "name": "stdout",
     "output_type": "stream",
     "text": [
      "+----------+-------------+--------------+-------+--------+---------+---------+------+\n",
      "|      Date|CountryRegion| ProvinceState|    Lat|    Long|Confirmed|Recovered|Deaths|\n",
      "+----------+-------------+--------------+-------+--------+---------+---------+------+\n",
      "|2020-03-01|        China|         Anhui|31.8257|117.2264|      990|      873|     6|\n",
      "|2020-03-01|        China|       Beijing|40.1824|116.4142|      413|      276|     8|\n",
      "|2020-03-01|        China|     Chongqing|30.0572| 107.874|      576|      450|     6|\n",
      "|2020-03-01|        China|        Fujian|26.0789|117.9874|      296|      247|     1|\n",
      "|2020-03-01|        China|         Gansu|37.8099|101.0583|       91|       84|     2|\n",
      "|2020-03-01|        China|     Guangdong|23.3417|113.4244|     1349|     1016|     7|\n",
      "|2020-03-01|        China|       Guangxi|23.8298|108.7881|      252|      181|     2|\n",
      "|2020-03-01|        China|       Guizhou|26.8154|106.8748|      146|      112|     2|\n",
      "|2020-03-01|        China|        Hainan|19.1959|109.7453|      168|      149|     5|\n",
      "|2020-03-01|        China|         Hebei| 39.549|116.1306|      318|      294|     6|\n",
      "|2020-03-01|        China|  Heilongjiang| 47.862|127.7615|      480|      342|    13|\n",
      "|2020-03-01|        China|         Henan| 33.882| 113.614|     1272|     1198|    22|\n",
      "|2020-03-01|        China|     Hong Kong|   22.3|   114.2|       96|       36|     2|\n",
      "|2020-03-01|        China|         Hubei|30.9756|112.2707|    66907|    31536|  2761|\n",
      "|2020-03-01|        China|         Hunan|27.6104|111.7088|     1018|      866|     4|\n",
      "|2020-03-01|        China|Inner Mongolia|44.0935|113.9448|       75|       52|     0|\n",
      "|2020-03-01|        China|       Jiangsu|32.9711| 119.455|      631|      536|     0|\n",
      "|2020-03-01|        China|       Jiangxi| 27.614|115.7221|      935|      831|     1|\n",
      "|2020-03-01|        China|         Jilin|43.6661|126.1923|       93|       78|     1|\n",
      "|2020-03-01|        China|      Liaoning|41.2956|122.6085|      122|      103|     1|\n",
      "+----------+-------------+--------------+-------+--------+---------+---------+------+\n",
      "only showing top 20 rows\n",
      "\n"
     ]
    }
   ],
   "source": [
    "df.filter(F.col('CountryRegion') == 'China').where(\"Date = '2020-03-01 00:00:00'\").show()"
   ]
  },
  {
   "cell_type": "code",
   "execution_count": 123,
   "metadata": {},
   "outputs": [
    {
     "data": {
      "text/plain": [
       "84"
      ]
     },
     "execution_count": 123,
     "metadata": {},
     "output_type": "execute_result"
    }
   ],
   "source": [
    "df.where(\"CountryRegion = 'China'\").select('Date').dropDuplicates().count()"
   ]
  },
  {
   "cell_type": "code",
   "execution_count": 124,
   "metadata": {},
   "outputs": [
    {
     "name": "stdout",
     "output_type": "stream",
     "text": [
      "+----------+------------+\n",
      "|      Date|sumConfirmed|\n",
      "+----------+------------+\n",
      "|2020-04-14|       83306|\n",
      "|2020-04-13|       83213|\n",
      "|2020-04-12|       83134|\n",
      "|2020-04-11|       83014|\n",
      "|2020-04-10|       82941|\n",
      "|2020-04-09|       82883|\n",
      "|2020-04-08|       82809|\n",
      "|2020-04-07|       82718|\n",
      "|2020-04-06|       82665|\n",
      "|2020-04-05|       82602|\n",
      "|2020-04-04|       82543|\n",
      "|2020-04-03|       82511|\n",
      "|2020-04-02|       82432|\n",
      "|2020-04-01|       82361|\n",
      "|2020-03-31|       82279|\n",
      "|2020-03-30|       82198|\n",
      "|2020-03-29|       82122|\n",
      "|2020-03-28|       81999|\n",
      "|2020-03-27|       81897|\n",
      "|2020-03-26|       81782|\n",
      "+----------+------------+\n",
      "only showing top 20 rows\n",
      "\n"
     ]
    }
   ],
   "source": [
    "df.where(\"CountryRegion = 'China'\") \\\n",
    "  .groupBy('Date').agg(F.sum(F.col('Confirmed')).alias('sumConfirmed')) \\\n",
    "  .sort(F.desc('Date')).show()"
   ]
  },
  {
   "cell_type": "markdown",
   "metadata": {},
   "source": [
    "### which date has the biggest death toll in China?"
   ]
  },
  {
   "cell_type": "code",
   "execution_count": 43,
   "metadata": {
    "scrolled": true
   },
   "outputs": [
    {
     "name": "stdout",
     "output_type": "stream",
     "text": [
      "root\n",
      " |-- Date: date (nullable = true)\n",
      " |-- CountryRegion: string (nullable = true)\n",
      " |-- ProvinceState: string (nullable = true)\n",
      " |-- Lat: double (nullable = true)\n",
      " |-- Long: double (nullable = true)\n",
      " |-- Confirmed: integer (nullable = true)\n",
      " |-- Recovered: integer (nullable = true)\n",
      " |-- Deaths: integer (nullable = true)\n",
      "\n"
     ]
    }
   ],
   "source": [
    "df.printSchema()"
   ]
  },
  {
   "cell_type": "code",
   "execution_count": 141,
   "metadata": {},
   "outputs": [
    {
     "name": "stdout",
     "output_type": "stream",
     "text": [
      "+----------+---------+\n",
      "|      Date|sumDeaths|\n",
      "+----------+---------+\n",
      "|2020-04-13|     3345|\n",
      "|2020-04-14|     3345|\n",
      "|2020-04-11|     3343|\n",
      "|2020-04-12|     3343|\n",
      "|2020-04-10|     3340|\n",
      "+----------+---------+\n",
      "only showing top 5 rows\n",
      "\n"
     ]
    }
   ],
   "source": [
    "total_deaths = df.where(\"CountryRegion = 'China'\") \\\n",
    "                 .groupBy('Date').agg(F.sum(F.col('Deaths')).alias('sumDeaths')) \\\n",
    "                 .sort([F.desc('sumDeaths'), 'Date'])\n",
    "total_deaths.show(5)"
   ]
  },
  {
   "cell_type": "code",
   "execution_count": 142,
   "metadata": {},
   "outputs": [
    {
     "name": "stdout",
     "output_type": "stream",
     "text": [
      "+----------+------------------+\n",
      "|      Date|total_deaths_today|\n",
      "+----------+------------------+\n",
      "|2020-04-14|              3345|\n",
      "|2020-04-13|              3345|\n",
      "|2020-04-12|              3343|\n",
      "|2020-04-11|              3343|\n",
      "|2020-04-10|              3340|\n",
      "+----------+------------------+\n",
      "only showing top 5 rows\n",
      "\n"
     ]
    }
   ],
   "source": [
    "total_deaths_diff = total_deaths.withColumnRenamed('sumDeaths', 'total_deaths_today') \\\n",
    "                                .sort(F.desc('Date'))\n",
    "total_deaths_diff.show(5)"
   ]
  },
  {
   "cell_type": "code",
   "execution_count": 143,
   "metadata": {},
   "outputs": [
    {
     "name": "stdout",
     "output_type": "stream",
     "text": [
      "+----------+------------------+----------------------+\n",
      "|      Date|total_deaths_today|total_deaths_yesterday|\n",
      "+----------+------------------+----------------------+\n",
      "|2020-04-14|              3345|                  3345|\n",
      "|2020-04-13|              3345|                  3343|\n",
      "|2020-04-12|              3343|                  3343|\n",
      "|2020-04-11|              3343|                  3340|\n",
      "|2020-04-10|              3340|                  3339|\n",
      "|2020-04-09|              3339|                  3337|\n",
      "|2020-04-08|              3337|                  3335|\n",
      "|2020-04-07|              3335|                  3335|\n",
      "|2020-04-06|              3335|                  3333|\n",
      "|2020-04-05|              3333|                  3330|\n",
      "|2020-04-04|              3330|                  3326|\n",
      "|2020-04-03|              3326|                  3322|\n",
      "|2020-04-02|              3322|                  3316|\n",
      "|2020-04-01|              3316|                  3309|\n",
      "|2020-03-31|              3309|                  3308|\n",
      "|2020-03-30|              3308|                  3304|\n",
      "|2020-03-29|              3304|                  3299|\n",
      "|2020-03-28|              3299|                  3296|\n",
      "|2020-03-27|              3296|                  3291|\n",
      "|2020-03-26|              3291|                  3285|\n",
      "+----------+------------------+----------------------+\n",
      "only showing top 20 rows\n",
      "\n"
     ]
    }
   ],
   "source": [
    "total_deaths_diff = total_deaths_diff.withColumn(\n",
    "    'total_deaths_yesterday', \n",
    "    F.lead(F.col('total_deaths_today'), 1).over(\n",
    "            Window.orderBy(F.desc('Date'))\n",
    "    ),\n",
    ")\n",
    "total_deaths_diff.show()"
   ]
  },
  {
   "cell_type": "code",
   "execution_count": 144,
   "metadata": {},
   "outputs": [
    {
     "name": "stdout",
     "output_type": "stream",
     "text": [
      "+----------+------------------+----------------------+----+\n",
      "|      Date|total_deaths_today|total_deaths_yesterday|diff|\n",
      "+----------+------------------+----------------------+----+\n",
      "|2020-02-13|              1369|                  1117| 252|\n",
      "|2020-02-22|              2443|                  2238| 205|\n",
      "|2020-02-14|              1521|                  1369| 152|\n",
      "|2020-02-24|              2595|                  2445| 150|\n",
      "|2020-02-15|              1663|                  1521| 142|\n",
      "|2020-02-18|              2003|                  1864| 139|\n",
      "|2020-02-20|              2238|                  2116| 122|\n",
      "|2020-02-19|              2116|                  2003| 113|\n",
      "|2020-02-10|              1012|                   905| 107|\n",
      "|2020-02-16|              1766|                  1663| 103|\n",
      "|2020-02-02|               361|                   259| 102|\n",
      "|2020-02-11|              1112|                  1012| 100|\n",
      "|2020-02-09|               905|                   805| 100|\n",
      "|2020-02-17|              1864|                  1766|  98|\n",
      "|2020-02-08|               805|                   718|  87|\n",
      "|2020-02-07|               718|                   633|  85|\n",
      "|2020-02-05|               563|                   491|  72|\n",
      "|2020-02-25|              2665|                  2595|  70|\n",
      "|2020-02-06|               633|                   563|  70|\n",
      "|2020-02-04|               491|                   425|  66|\n",
      "+----------+------------------+----------------------+----+\n",
      "only showing top 20 rows\n",
      "\n"
     ]
    }
   ],
   "source": [
    "total_deaths_diff = total_deaths_diff.withColumn('diff', F.col('total_deaths_today') - F.col('total_deaths_yesterday')) \\\n",
    "                                     .sort(F.desc('diff'))\n",
    "total_deaths_diff.show()"
   ]
  },
  {
   "cell_type": "markdown",
   "metadata": {},
   "source": [
    "#### define a python function to find top n deadlist days for a given country\n",
    "* if country not provided, find whole world\n",
    "* if n not provided, find top 1 day"
   ]
  },
  {
   "cell_type": "code",
   "execution_count": 63,
   "metadata": {},
   "outputs": [
    {
     "name": "stdout",
     "output_type": "stream",
     "text": [
      "root\n",
      " |-- Date: date (nullable = true)\n",
      " |-- CountryRegion: string (nullable = true)\n",
      " |-- ProvinceState: string (nullable = true)\n",
      " |-- Lat: double (nullable = true)\n",
      " |-- Long: double (nullable = true)\n",
      " |-- Confirmed: integer (nullable = true)\n",
      " |-- Recovered: integer (nullable = true)\n",
      " |-- Deaths: integer (nullable = true)\n",
      "\n",
      "None\n",
      "+----------+-------------+-------------+----+----+---------+---------+------+\n",
      "|      Date|CountryRegion|ProvinceState| Lat|Long|Confirmed|Recovered|Deaths|\n",
      "+----------+-------------+-------------+----+----+---------+---------+------+\n",
      "|2020-01-22|  Afghanistan|         null|33.0|65.0|        0|        0|     0|\n",
      "|2020-01-23|  Afghanistan|         null|33.0|65.0|        0|        0|     0|\n",
      "|2020-01-24|  Afghanistan|         null|33.0|65.0|        0|        0|     0|\n",
      "|2020-01-25|  Afghanistan|         null|33.0|65.0|        0|        0|     0|\n",
      "|2020-01-26|  Afghanistan|         null|33.0|65.0|        0|        0|     0|\n",
      "+----------+-------------+-------------+----+----+---------+---------+------+\n",
      "only showing top 5 rows\n",
      "\n"
     ]
    }
   ],
   "source": [
    "print(df.printSchema())\n",
    "df.show(5)"
   ]
  },
  {
   "cell_type": "code",
   "execution_count": 129,
   "metadata": {},
   "outputs": [],
   "source": [
    "def top_n_deadlist_day(df, country=None, n=1):\n",
    "    if country is not None:\n",
    "        df = df.where(f\"CountryRegion = '{country}'\")\n",
    "    \n",
    "    results = df.groupBy('Date').agg(F.sum(F.col('Deaths')).alias('sumDeaths')) \\\n",
    "                .sort([F.desc('sumDeaths'), 'Date']).collect()[:n]\n",
    "    \n",
    "    return [(row.Date.strftime('%Y-%m-%d'), row.sumDeaths) for row in results]"
   ]
  },
  {
   "cell_type": "code",
   "execution_count": 130,
   "metadata": {},
   "outputs": [
    {
     "data": {
      "text/plain": [
       "[('2020-04-13', 3345),\n",
       " ('2020-04-14', 3345),\n",
       " ('2020-04-11', 3343),\n",
       " ('2020-04-12', 3343),\n",
       " ('2020-04-10', 3340),\n",
       " ('2020-04-09', 3339),\n",
       " ('2020-04-08', 3337),\n",
       " ('2020-04-06', 3335),\n",
       " ('2020-04-07', 3335),\n",
       " ('2020-04-05', 3333)]"
      ]
     },
     "execution_count": 130,
     "metadata": {},
     "output_type": "execute_result"
    }
   ],
   "source": [
    "top_n_deadlist_day(df, country='China', n=10)\n",
    "# top_n_deadlist_day(df)\n",
    "# top_n_deadlist_day(df, country='China')\n",
    "# top_n_deadlist_day(df, n=5)"
   ]
  },
  {
   "cell_type": "markdown",
   "metadata": {},
   "source": [
    "### Spark User Defined Function"
   ]
  },
  {
   "cell_type": "code",
   "execution_count": 81,
   "metadata": {},
   "outputs": [],
   "source": [
    "from math import sqrt"
   ]
  },
  {
   "cell_type": "code",
   "execution_count": 82,
   "metadata": {},
   "outputs": [
    {
     "name": "stdout",
     "output_type": "stream",
     "text": [
      "+-------+-----+\n",
      "|   name|score|\n",
      "+-------+-----+\n",
      "|   Alex|   50|\n",
      "|    Bob|   30|\n",
      "|Charlie|   36|\n",
      "|    Dan|   80|\n",
      "+-------+-----+\n",
      "\n"
     ]
    }
   ],
   "source": [
    "math = spark.createDataFrame([('Alex', 50), ('Bob', 30), ('Charlie', 36), ('Dan', 80)], ['name', 'score'])\n",
    "math.show()"
   ]
  },
  {
   "cell_type": "code",
   "execution_count": 83,
   "metadata": {},
   "outputs": [],
   "source": [
    "my_udf = F.udf(lambda x: sqrt(x) * 10, T.FloatType())"
   ]
  },
  {
   "cell_type": "code",
   "execution_count": 85,
   "metadata": {},
   "outputs": [
    {
     "name": "stdout",
     "output_type": "stream",
     "text": [
      "+-------+-----+---------+\n",
      "|   name|score|new_score|\n",
      "+-------+-----+---------+\n",
      "|   Alex|   50| 70.71068|\n",
      "|    Bob|   30|54.772255|\n",
      "|Charlie|   36|     60.0|\n",
      "|    Dan|   80| 89.44272|\n",
      "+-------+-----+---------+\n",
      "\n"
     ]
    }
   ],
   "source": [
    "math1 = math.withColumn('new_score', my_udf(F.col('score')))\n",
    "math1.show()"
   ]
  },
  {
   "cell_type": "markdown",
   "metadata": {},
   "source": [
    "#### Challenge - round the new_score to int ?"
   ]
  },
  {
   "cell_type": "code",
   "execution_count": 86,
   "metadata": {},
   "outputs": [
    {
     "name": "stdout",
     "output_type": "stream",
     "text": [
      "root\n",
      " |-- name: string (nullable = true)\n",
      " |-- score: long (nullable = true)\n",
      " |-- new_score: integer (nullable = true)\n",
      "\n",
      "None\n",
      "+-------+-----+---------+\n",
      "|   name|score|new_score|\n",
      "+-------+-----+---------+\n",
      "|   Alex|   50|       70|\n",
      "|    Bob|   30|       54|\n",
      "|Charlie|   36|       60|\n",
      "|    Dan|   80|       89|\n",
      "+-------+-----+---------+\n",
      "\n"
     ]
    }
   ],
   "source": [
    "math2 = math1.withColumn('new_score', F.col('new_score').cast('int'))\n",
    "print(math2.printSchema())\n",
    "math2.show()"
   ]
  },
  {
   "cell_type": "markdown",
   "metadata": {},
   "source": [
    "### Use UDF to address the same issue above"
   ]
  },
  {
   "cell_type": "code",
   "execution_count": 87,
   "metadata": {},
   "outputs": [],
   "source": [
    "from datetime import datetime, timedelta"
   ]
  },
  {
   "cell_type": "code",
   "execution_count": 131,
   "metadata": {},
   "outputs": [
    {
     "name": "stdout",
     "output_type": "stream",
     "text": [
      "root\n",
      " |-- Date: date (nullable = true)\n",
      " |-- sumDeaths: long (nullable = true)\n",
      "\n"
     ]
    }
   ],
   "source": [
    "total_deaths.printSchema()"
   ]
  },
  {
   "cell_type": "code",
   "execution_count": 132,
   "metadata": {
    "scrolled": true
   },
   "outputs": [
    {
     "name": "stdout",
     "output_type": "stream",
     "text": [
      "+----------+---------+\n",
      "|      Date|sumDeaths|\n",
      "+----------+---------+\n",
      "|2020-04-13|     3345|\n",
      "|2020-04-14|     3345|\n",
      "|2020-04-11|     3343|\n",
      "|2020-04-12|     3343|\n",
      "|2020-04-10|     3340|\n",
      "+----------+---------+\n",
      "only showing top 5 rows\n",
      "\n"
     ]
    }
   ],
   "source": [
    "total_deaths.show(5)"
   ]
  },
  {
   "cell_type": "code",
   "execution_count": 133,
   "metadata": {},
   "outputs": [],
   "source": [
    "get_yesterday_udf = F.udf(lambda x: x + timedelta(days=-1), T.DateType())"
   ]
  },
  {
   "cell_type": "code",
   "execution_count": 134,
   "metadata": {},
   "outputs": [
    {
     "name": "stdout",
     "output_type": "stream",
     "text": [
      "+----------+---------+--------------+\n",
      "|      Date|sumDeaths|Yesterday_Date|\n",
      "+----------+---------+--------------+\n",
      "|2020-04-13|     3345|    2020-04-12|\n",
      "|2020-04-14|     3345|    2020-04-13|\n",
      "|2020-04-11|     3343|    2020-04-10|\n",
      "|2020-04-12|     3343|    2020-04-11|\n",
      "|2020-04-10|     3340|    2020-04-09|\n",
      "|2020-04-09|     3339|    2020-04-08|\n",
      "|2020-04-08|     3337|    2020-04-07|\n",
      "|2020-04-06|     3335|    2020-04-05|\n",
      "|2020-04-07|     3335|    2020-04-06|\n",
      "|2020-04-05|     3333|    2020-04-04|\n",
      "+----------+---------+--------------+\n",
      "only showing top 10 rows\n",
      "\n"
     ]
    }
   ],
   "source": [
    "total_deaths.withColumn('Yesterday_Date', get_yesterday_udf(F.col('Date'))).show(10)"
   ]
  },
  {
   "cell_type": "markdown",
   "metadata": {},
   "source": [
    "### Use window function to address the same issue above"
   ]
  },
  {
   "cell_type": "code",
   "execution_count": 135,
   "metadata": {},
   "outputs": [
    {
     "name": "stdout",
     "output_type": "stream",
     "text": [
      "+----------+---------+\n",
      "|      Date|sumDeaths|\n",
      "+----------+---------+\n",
      "|2020-04-13|     3345|\n",
      "|2020-04-14|     3345|\n",
      "|2020-04-11|     3343|\n",
      "|2020-04-12|     3343|\n",
      "|2020-04-10|     3340|\n",
      "+----------+---------+\n",
      "only showing top 5 rows\n",
      "\n"
     ]
    }
   ],
   "source": [
    "total_deaths.show(5)"
   ]
  },
  {
   "cell_type": "code",
   "execution_count": 136,
   "metadata": {},
   "outputs": [
    {
     "name": "stdout",
     "output_type": "stream",
     "text": [
      "+----------+---------+----+\n",
      "|      Date|sumDeaths|rank|\n",
      "+----------+---------+----+\n",
      "|2020-04-13|     3345|   1|\n",
      "|2020-04-14|     3345|   1|\n",
      "|2020-04-12|     3343|   2|\n",
      "|2020-04-11|     3343|   2|\n",
      "|2020-04-10|     3340|   3|\n",
      "|2020-04-09|     3339|   4|\n",
      "|2020-04-08|     3337|   5|\n",
      "|2020-04-07|     3335|   6|\n",
      "|2020-04-06|     3335|   6|\n",
      "|2020-04-05|     3333|   7|\n",
      "|2020-04-04|     3330|   8|\n",
      "|2020-04-03|     3326|   9|\n",
      "|2020-04-02|     3322|  10|\n",
      "|2020-04-01|     3316|  11|\n",
      "|2020-03-31|     3309|  12|\n",
      "|2020-03-30|     3308|  13|\n",
      "|2020-03-29|     3304|  14|\n",
      "|2020-03-28|     3299|  15|\n",
      "|2020-03-27|     3296|  16|\n",
      "|2020-03-26|     3291|  17|\n",
      "+----------+---------+----+\n",
      "only showing top 20 rows\n",
      "\n"
     ]
    }
   ],
   "source": [
    "total_deaths = total_deaths.withColumn(\n",
    "    'rank', \n",
    "    F.dense_rank().over(\n",
    "        Window.partitionBy().orderBy(F.desc('sumDeaths'))\n",
    "    ),\n",
    ")\n",
    "\n",
    "total_deaths.show()"
   ]
  },
  {
   "cell_type": "code",
   "execution_count": 146,
   "metadata": {},
   "outputs": [
    {
     "name": "stdout",
     "output_type": "stream",
     "text": [
      "+----------+------------------+----------------------+----+\n",
      "|      Date|total_deaths_today|total_deaths_yesterday|diff|\n",
      "+----------+------------------+----------------------+----+\n",
      "|2020-02-13|              1369|                  1117| 252|\n",
      "|2020-02-22|              2443|                  2238| 205|\n",
      "|2020-02-14|              1521|                  1369| 152|\n",
      "|2020-02-24|              2595|                  2445| 150|\n",
      "|2020-02-15|              1663|                  1521| 142|\n",
      "+----------+------------------+----------------------+----+\n",
      "only showing top 5 rows\n",
      "\n"
     ]
    }
   ],
   "source": [
    "total_deaths_diff.show(5)"
   ]
  },
  {
   "cell_type": "code",
   "execution_count": 147,
   "metadata": {
    "scrolled": false
   },
   "outputs": [
    {
     "name": "stdout",
     "output_type": "stream",
     "text": [
      "+----------+------------------+----------------------+----+----+\n",
      "|      Date|total_deaths_today|total_deaths_yesterday|diff|rank|\n",
      "+----------+------------------+----------------------+----+----+\n",
      "|2020-02-13|              1369|                  1117| 252|   1|\n",
      "|2020-02-22|              2443|                  2238| 205|   2|\n",
      "|2020-02-14|              1521|                  1369| 152|   3|\n",
      "|2020-02-24|              2595|                  2445| 150|   4|\n",
      "|2020-02-15|              1663|                  1521| 142|   5|\n",
      "|2020-02-18|              2003|                  1864| 139|   6|\n",
      "|2020-02-20|              2238|                  2116| 122|   7|\n",
      "|2020-02-19|              2116|                  2003| 113|   8|\n",
      "|2020-02-10|              1012|                   905| 107|   9|\n",
      "|2020-02-16|              1766|                  1663| 103|  10|\n",
      "|2020-02-02|               361|                   259| 102|  11|\n",
      "|2020-02-11|              1112|                  1012| 100|  12|\n",
      "|2020-02-09|               905|                   805| 100|  12|\n",
      "|2020-02-17|              1864|                  1766|  98|  13|\n",
      "|2020-02-08|               805|                   718|  87|  14|\n",
      "|2020-02-07|               718|                   633|  85|  15|\n",
      "|2020-02-05|               563|                   491|  72|  16|\n",
      "|2020-02-25|              2665|                  2595|  70|  17|\n",
      "|2020-02-06|               633|                   563|  70|  17|\n",
      "|2020-02-04|               491|                   425|  66|  18|\n",
      "+----------+------------------+----------------------+----+----+\n",
      "only showing top 20 rows\n",
      "\n"
     ]
    }
   ],
   "source": [
    "total_deaths_diff.withColumn(\n",
    "    'rank',\n",
    "    F.dense_rank().over(\n",
    "        Window.partitionBy().orderBy(F.desc('diff'))\n",
    "    ),\n",
    ").show()"
   ]
  },
  {
   "cell_type": "code",
   "execution_count": 148,
   "metadata": {
    "scrolled": true
   },
   "outputs": [
    {
     "name": "stdout",
     "output_type": "stream",
     "text": [
      "+----------+-------------+-------------+----+----+---------+---------+------+\n",
      "|      Date|CountryRegion|ProvinceState| Lat|Long|Confirmed|Recovered|Deaths|\n",
      "+----------+-------------+-------------+----+----+---------+---------+------+\n",
      "|2020-01-22|  Afghanistan|         null|33.0|65.0|        0|        0|     0|\n",
      "|2020-01-23|  Afghanistan|         null|33.0|65.0|        0|        0|     0|\n",
      "|2020-01-24|  Afghanistan|         null|33.0|65.0|        0|        0|     0|\n",
      "|2020-01-25|  Afghanistan|         null|33.0|65.0|        0|        0|     0|\n",
      "|2020-01-26|  Afghanistan|         null|33.0|65.0|        0|        0|     0|\n",
      "+----------+-------------+-------------+----+----+---------+---------+------+\n",
      "only showing top 5 rows\n",
      "\n"
     ]
    }
   ],
   "source": [
    "df.show(5)"
   ]
  },
  {
   "cell_type": "code",
   "execution_count": 150,
   "metadata": {},
   "outputs": [
    {
     "name": "stdout",
     "output_type": "stream",
     "text": [
      "+-------------+----------+---------+------+\n",
      "|CountryRegion|      Date|Confirmed|Deaths|\n",
      "+-------------+----------+---------+------+\n",
      "|        China|2020-01-22|      548|    17|\n",
      "|        China|2020-01-23|      643|    18|\n",
      "|        China|2020-01-24|      920|    26|\n",
      "|        China|2020-01-25|     1406|    42|\n",
      "|        China|2020-01-26|     2075|    56|\n",
      "|        China|2020-01-27|     2877|    82|\n",
      "|        China|2020-01-28|     5509|   131|\n",
      "|        China|2020-01-29|     6087|   133|\n",
      "|        China|2020-01-30|     8141|   171|\n",
      "|        China|2020-01-31|     9802|   213|\n",
      "|        China|2020-02-01|    11891|   259|\n",
      "|        China|2020-02-02|    16630|   361|\n",
      "|        China|2020-02-03|    19716|   425|\n",
      "|        China|2020-02-04|    23707|   491|\n",
      "|        China|2020-02-05|    27440|   563|\n",
      "|        China|2020-02-06|    30587|   633|\n",
      "|        China|2020-02-07|    34110|   718|\n",
      "|        China|2020-02-08|    36814|   805|\n",
      "|        China|2020-02-09|    39829|   905|\n",
      "|        China|2020-02-10|    42354|  1012|\n",
      "+-------------+----------+---------+------+\n",
      "only showing top 20 rows\n",
      "\n"
     ]
    }
   ],
   "source": [
    "df1 = df.groupBy(['CountryRegion', 'Date']).agg(\n",
    "    F.sum(F.col('Confirmed')).alias('Confirmed'),\n",
    "    F.sum(F.col('Deaths')).alias('Deaths'),\n",
    ").sort(['CountryRegion', 'Date'])\n",
    "\n",
    "df1.where(\"CountryRegion = 'China'\").show()"
   ]
  },
  {
   "cell_type": "code",
   "execution_count": 164,
   "metadata": {},
   "outputs": [],
   "source": [
    "df2 = df1.withColumn(\n",
    "    'Rank',\n",
    "    F.dense_rank().over(\n",
    "        Window.partitionBy('CountryRegion').orderBy('Date')\n",
    "    ),\n",
    ").withColumn(\n",
    "    'RunningTotal_Confirmed',\n",
    "    F.sum(F.col('Confirmed')).over(\n",
    "        Window.partitionBy('CountryRegion').orderBy('Date') \\\n",
    "              .rowsBetween(Window.unboundedPreceding, 0)\n",
    "    ),\n",
    ").withColumn(\n",
    "    'MovingAvg_Deaths',\n",
    "    F.avg(F.col('Deaths')).over(\n",
    "        Window.partitionBy('CountryRegion').orderBy('Date') \\\n",
    "              .rowsBetween(-4, 0)\n",
    "    ),\n",
    ")"
   ]
  },
  {
   "cell_type": "code",
   "execution_count": 165,
   "metadata": {},
   "outputs": [
    {
     "name": "stdout",
     "output_type": "stream",
     "text": [
      "+-------------+----------+---------+------+----+----------------------+------------------+\n",
      "|CountryRegion|      Date|Confirmed|Deaths|Rank|RunningTotal_Confirmed|  MovingAvg_Deaths|\n",
      "+-------------+----------+---------+------+----+----------------------+------------------+\n",
      "|        China|2020-01-22|      548|    17|   1|                   548|              17.0|\n",
      "|        China|2020-01-23|      643|    18|   2|                  1191|              17.5|\n",
      "|        China|2020-01-24|      920|    26|   3|                  2111|20.333333333333332|\n",
      "|        China|2020-01-25|     1406|    42|   4|                  3517|             25.75|\n",
      "|        China|2020-01-26|     2075|    56|   5|                  5592|              31.8|\n",
      "|        China|2020-01-27|     2877|    82|   6|                  8469|              44.8|\n",
      "|        China|2020-01-28|     5509|   131|   7|                 13978|              67.4|\n",
      "|        China|2020-01-29|     6087|   133|   8|                 20065|              88.8|\n",
      "|        China|2020-01-30|     8141|   171|   9|                 28206|             114.6|\n",
      "|        China|2020-01-31|     9802|   213|  10|                 38008|             146.0|\n",
      "|        China|2020-02-01|    11891|   259|  11|                 49899|             181.4|\n",
      "|        China|2020-02-02|    16630|   361|  12|                 66529|             227.4|\n",
      "|        China|2020-02-03|    19716|   425|  13|                 86245|             285.8|\n",
      "|        China|2020-02-04|    23707|   491|  14|                109952|             349.8|\n",
      "|        China|2020-02-05|    27440|   563|  15|                137392|             419.8|\n",
      "|        China|2020-02-06|    30587|   633|  16|                167979|             494.6|\n",
      "|        China|2020-02-07|    34110|   718|  17|                202089|             566.0|\n",
      "|        China|2020-02-08|    36814|   805|  18|                238903|             642.0|\n",
      "|        China|2020-02-09|    39829|   905|  19|                278732|             724.8|\n",
      "|        China|2020-02-10|    42354|  1012|  20|                321086|             814.6|\n",
      "|        China|2020-02-11|    44386|  1112|  21|                365472|             910.4|\n",
      "|        China|2020-02-12|    44759|  1117|  22|                410231|             990.2|\n",
      "|        China|2020-02-13|    59895|  1369|  23|                470126|            1103.0|\n",
      "|        China|2020-02-14|    66358|  1521|  24|                536484|            1226.2|\n",
      "|        China|2020-02-15|    68413|  1663|  25|                604897|            1356.4|\n",
      "|        China|2020-02-16|    70513|  1766|  26|                675410|            1487.2|\n",
      "|        China|2020-02-17|    72434|  1864|  27|                747844|            1636.6|\n",
      "|        China|2020-02-18|    74211|  2003|  28|                822055|            1763.4|\n",
      "|        China|2020-02-19|    74619|  2116|  29|                896674|            1882.4|\n",
      "|        China|2020-02-20|    75077|  2238|  30|                971751|            1997.4|\n",
      "|        China|2020-02-21|    75550|  2238|  31|               1047301|            2091.8|\n",
      "|        China|2020-02-22|    77001|  2443|  32|               1124302|            2207.6|\n",
      "|        China|2020-02-23|    77022|  2445|  33|               1201324|            2296.0|\n",
      "|        China|2020-02-24|    77241|  2595|  34|               1278565|            2391.8|\n",
      "|        China|2020-02-25|    77754|  2665|  35|               1356319|            2477.2|\n",
      "|        China|2020-02-26|    78166|  2717|  36|               1434485|            2573.0|\n",
      "|        China|2020-02-27|    78600|  2746|  37|               1513085|            2633.6|\n",
      "|        China|2020-02-28|    78928|  2790|  38|               1592013|            2702.6|\n",
      "|        China|2020-02-29|    79356|  2837|  39|               1671369|            2751.0|\n",
      "|        China|2020-03-01|    79932|  2872|  40|               1751301|            2792.4|\n",
      "|        China|2020-03-02|    80136|  2914|  41|               1831437|            2831.8|\n",
      "|        China|2020-03-03|    80261|  2947|  42|               1911698|            2872.0|\n",
      "|        China|2020-03-04|    80386|  2983|  43|               1992084|            2910.6|\n",
      "|        China|2020-03-05|    80537|  3015|  44|               2072621|            2946.2|\n",
      "|        China|2020-03-06|    80690|  3044|  45|               2153311|            2980.6|\n",
      "|        China|2020-03-07|    80770|  3072|  46|               2234081|            3012.2|\n",
      "|        China|2020-03-08|    80823|  3100|  47|               2314904|            3042.8|\n",
      "|        China|2020-03-09|    80860|  3123|  48|               2395764|            3070.8|\n",
      "|        China|2020-03-10|    80887|  3139|  49|               2476651|            3095.6|\n",
      "|        China|2020-03-11|    80921|  3161|  50|               2557572|            3119.0|\n",
      "|        China|2020-03-12|    80932|  3172|  51|               2638504|            3139.0|\n",
      "|        China|2020-03-13|    80945|  3180|  52|               2719449|            3155.0|\n",
      "|        China|2020-03-14|    80977|  3193|  53|               2800426|            3169.0|\n",
      "|        China|2020-03-15|    81003|  3203|  54|               2881429|            3181.8|\n",
      "|        China|2020-03-16|    81033|  3217|  55|               2962462|            3193.0|\n",
      "|        China|2020-03-17|    81058|  3230|  56|               3043520|            3204.6|\n",
      "|        China|2020-03-18|    81102|  3241|  57|               3124622|            3216.8|\n",
      "|        China|2020-03-19|    81156|  3249|  58|               3205778|            3228.0|\n",
      "|        China|2020-03-20|    81250|  3253|  59|               3287028|            3238.0|\n",
      "|        China|2020-03-21|    81305|  3259|  60|               3368333|            3246.4|\n",
      "|        China|2020-03-22|    81435|  3274|  61|               3449768|            3255.2|\n",
      "|        China|2020-03-23|    81498|  3274|  62|               3531266|            3261.8|\n",
      "|        China|2020-03-24|    81591|  3281|  63|               3612857|            3268.2|\n",
      "|        China|2020-03-25|    81661|  3285|  64|               3694518|            3274.6|\n",
      "|        China|2020-03-26|    81782|  3291|  65|               3776300|            3281.0|\n",
      "|        China|2020-03-27|    81897|  3296|  66|               3858197|            3285.4|\n",
      "|        China|2020-03-28|    81999|  3299|  67|               3940196|            3290.4|\n",
      "|        China|2020-03-29|    82122|  3304|  68|               4022318|            3295.0|\n",
      "|        China|2020-03-30|    82198|  3308|  69|               4104516|            3299.6|\n",
      "|        China|2020-03-31|    82279|  3309|  70|               4186795|            3303.2|\n",
      "|        China|2020-04-01|    82361|  3316|  71|               4269156|            3307.2|\n",
      "|        China|2020-04-02|    82432|  3322|  72|               4351588|            3311.8|\n",
      "|        China|2020-04-03|    82511|  3326|  73|               4434099|            3316.2|\n",
      "|        China|2020-04-04|    82543|  3330|  74|               4516642|            3320.6|\n",
      "|        China|2020-04-05|    82602|  3333|  75|               4599244|            3325.4|\n",
      "|        China|2020-04-06|    82665|  3335|  76|               4681909|            3329.2|\n",
      "|        China|2020-04-07|    82718|  3335|  77|               4764627|            3331.8|\n",
      "|        China|2020-04-08|    82809|  3337|  78|               4847436|            3334.0|\n",
      "|        China|2020-04-09|    82883|  3339|  79|               4930319|            3335.8|\n",
      "|        China|2020-04-10|    82941|  3340|  80|               5013260|            3337.2|\n",
      "|        China|2020-04-11|    83014|  3343|  81|               5096274|            3338.8|\n",
      "|        China|2020-04-12|    83134|  3343|  82|               5179408|            3340.4|\n",
      "|        China|2020-04-13|    83213|  3345|  83|               5262621|            3342.0|\n",
      "|        China|2020-04-14|    83306|  3345|  84|               5345927|            3343.2|\n",
      "|       Canada|2020-01-22|        0|     0|   1|                     0|               0.0|\n",
      "|       Canada|2020-01-23|        0|     0|   2|                     0|               0.0|\n",
      "|       Canada|2020-01-24|        0|     0|   3|                     0|               0.0|\n",
      "|       Canada|2020-01-25|        0|     0|   4|                     0|               0.0|\n",
      "|       Canada|2020-01-26|        1|     0|   5|                     1|               0.0|\n",
      "|       Canada|2020-01-27|        1|     0|   6|                     2|               0.0|\n",
      "|       Canada|2020-01-28|        2|     0|   7|                     4|               0.0|\n",
      "|       Canada|2020-01-29|        2|     0|   8|                     6|               0.0|\n",
      "|       Canada|2020-01-30|        2|     0|   9|                     8|               0.0|\n",
      "|       Canada|2020-01-31|        4|     0|  10|                    12|               0.0|\n",
      "|       Canada|2020-02-01|        4|     0|  11|                    16|               0.0|\n",
      "|       Canada|2020-02-02|        4|     0|  12|                    20|               0.0|\n",
      "|       Canada|2020-02-03|        4|     0|  13|                    24|               0.0|\n",
      "|       Canada|2020-02-04|        4|     0|  14|                    28|               0.0|\n",
      "|       Canada|2020-02-05|        5|     0|  15|                    33|               0.0|\n",
      "|       Canada|2020-02-06|        5|     0|  16|                    38|               0.0|\n",
      "+-------------+----------+---------+------+----+----------------------+------------------+\n",
      "only showing top 100 rows\n",
      "\n"
     ]
    }
   ],
   "source": [
    "df2.where(\"CountryRegion IN ('China', 'Canada')\").orderBy([F.col('CountryRegion').desc(), F.col('Date')]).show(100)"
   ]
  }
 ],
 "metadata": {
  "kernelspec": {
   "display_name": "Python 3 (ipykernel)",
   "language": "python",
   "name": "python3"
  },
  "language_info": {
   "codemirror_mode": {
    "name": "ipython",
    "version": 3
   },
   "file_extension": ".py",
   "mimetype": "text/x-python",
   "name": "python",
   "nbconvert_exporter": "python",
   "pygments_lexer": "ipython3",
   "version": "3.8.17"
  },
  "toc": {
   "base_numbering": 1,
   "nav_menu": {},
   "number_sections": false,
   "sideBar": true,
   "skip_h1_title": false,
   "title_cell": "Table of Contents",
   "title_sidebar": "Contents",
   "toc_cell": false,
   "toc_position": {},
   "toc_section_display": true,
   "toc_window_display": false
  }
 },
 "nbformat": 4,
 "nbformat_minor": 2
}
