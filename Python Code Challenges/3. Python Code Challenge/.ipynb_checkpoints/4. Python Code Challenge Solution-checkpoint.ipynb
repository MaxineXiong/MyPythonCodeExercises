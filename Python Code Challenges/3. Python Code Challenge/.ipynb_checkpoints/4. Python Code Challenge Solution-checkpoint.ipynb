{
 "cells": [
  {
   "cell_type": "markdown",
   "metadata": {},
   "source": [
    "## reverse_string\n",
    "\n",
    "Given a string, return a new string with all characters reversed."
   ]
  },
  {
   "cell_type": "code",
   "execution_count": 3,
   "metadata": {},
   "outputs": [],
   "source": [
    "'''\n",
    "reverse_string('awesome') # 'emosewa'\n",
    "reverse_string('Colt') # 'tloC'\n",
    "reverse_string('Elie') # 'eilE'\n",
    "'''\n",
    "\n",
    "def reverse_string(str):\n",
    "    return str[::-1]"
   ]
  },
  {
   "cell_type": "code",
   "execution_count": 4,
   "metadata": {},
   "outputs": [
    {
     "data": {
      "text/plain": [
       "'Elie'"
      ]
     },
     "execution_count": 4,
     "metadata": {},
     "output_type": "execute_result"
    }
   ],
   "source": [
    "reverse_string('eilE')"
   ]
  },
  {
   "cell_type": "markdown",
   "metadata": {},
   "source": [
    "## list_check\n",
    "\n",
    "Given a list, if all elements is list, return True. Otherwise return false"
   ]
  },
  {
   "cell_type": "code",
   "execution_count": 1,
   "metadata": {},
   "outputs": [],
   "source": [
    "'''\n",
    "list_check([[],[1],[2,3], (1,2)]) # False\n",
    "list_check([1, True, [],[1],[2,3]]) # False\n",
    "list_check([[],[1],[2,3]]) # True\n",
    "'''\n",
    "\n",
    "def list_check(vals):\n",
    "    return all(type(l) == list for l in vals)"
   ]
  },
  {
   "cell_type": "code",
   "execution_count": 2,
   "metadata": {},
   "outputs": [
    {
     "data": {
      "text/plain": [
       "True"
      ]
     },
     "execution_count": 2,
     "metadata": {},
     "output_type": "execute_result"
    }
   ],
   "source": [
    "list_check([[],[1],[2,3]])"
   ]
  },
  {
   "cell_type": "code",
   "execution_count": 3,
   "metadata": {},
   "outputs": [
    {
     "data": {
      "text/plain": [
       "False"
      ]
     },
     "execution_count": 3,
     "metadata": {},
     "output_type": "execute_result"
    }
   ],
   "source": [
    "list_check([[],[1],[2,3], (1,2)])"
   ]
  },
  {
   "cell_type": "markdown",
   "metadata": {},
   "source": [
    "## remove_every_other\n",
    "\n",
    "Given a list, return a new list with every second value removed"
   ]
  },
  {
   "cell_type": "code",
   "execution_count": 4,
   "metadata": {},
   "outputs": [],
   "source": [
    "'''\n",
    "remove_every_other([1,2,3,4,5]) # [1,3,5] \n",
    "remove_every_other([5,1,2,4,1]) # [5,2,1]\n",
    "remove_every_other([1]) # [1] \n",
    "'''\n",
    "\n",
    "def remove_every_other(vals):\n",
    "    r = []\n",
    "    i = 0\n",
    "    for val in vals:\n",
    "        i = i + 1\n",
    "        if(i%2):\n",
    "            r.append(val)\n",
    "    return r"
   ]
  },
  {
   "cell_type": "code",
   "execution_count": 5,
   "metadata": {},
   "outputs": [
    {
     "data": {
      "text/plain": [
       "[1, 3, 5]"
      ]
     },
     "execution_count": 5,
     "metadata": {},
     "output_type": "execute_result"
    }
   ],
   "source": [
    "remove_every_other([1,2,3,4,5])"
   ]
  },
  {
   "cell_type": "code",
   "execution_count": 6,
   "metadata": {},
   "outputs": [
    {
     "data": {
      "text/plain": [
       "[5, 2, 1]"
      ]
     },
     "execution_count": 6,
     "metadata": {},
     "output_type": "execute_result"
    }
   ],
   "source": [
    "remove_every_other([5,1,2,4,1])"
   ]
  },
  {
   "cell_type": "code",
   "execution_count": 7,
   "metadata": {},
   "outputs": [],
   "source": [
    "'''\n",
    "remove_every_other([1,2,3,4,5]) # [1,3,5] \n",
    "remove_every_other([5,1,2,4,1]) # [5,2,1]\n",
    "remove_every_other([1]) # [1] \n",
    "'''\n",
    "\n",
    "def remove_every_other(vals):\n",
    "    return [val for i,val in enumerate(vals) if i % 2 == 0]"
   ]
  },
  {
   "cell_type": "code",
   "execution_count": 8,
   "metadata": {},
   "outputs": [
    {
     "data": {
      "text/plain": [
       "[1, 3, 5]"
      ]
     },
     "execution_count": 8,
     "metadata": {},
     "output_type": "execute_result"
    }
   ],
   "source": [
    "remove_every_other([1,2,3,4,5])"
   ]
  },
  {
   "cell_type": "markdown",
   "metadata": {},
   "source": [
    "## sum_pairs\n",
    "\n",
    "Given a list of numbers, return the first pair of numbers that sum to the number passed."
   ]
  },
  {
   "cell_type": "code",
   "execution_count": 9,
   "metadata": {},
   "outputs": [],
   "source": [
    "'''\n",
    "sum_pairs([4,2,10,5,1], 6) # [4,2]\n",
    "sum_pairs([11,20,4,2,1,5], 100) # []\n",
    "'''\n",
    "\n",
    "def sum_pairs(ints, s):\n",
    "    already_visited = set()\n",
    "    for i in ints:\n",
    "        difference = s - i\n",
    "        if difference in already_visited:\n",
    "            return [difference, i]\n",
    "        already_visited.add(i)\n",
    "    return []"
   ]
  },
  {
   "cell_type": "code",
   "execution_count": 10,
   "metadata": {},
   "outputs": [
    {
     "data": {
      "text/plain": [
       "[10, 1]"
      ]
     },
     "execution_count": 10,
     "metadata": {},
     "output_type": "execute_result"
    }
   ],
   "source": [
    "sum_pairs([4,2,10,5,1], 11)"
   ]
  },
  {
   "cell_type": "code",
   "execution_count": 11,
   "metadata": {},
   "outputs": [
    {
     "data": {
      "text/plain": [
       "[]"
      ]
     },
     "execution_count": 11,
     "metadata": {},
     "output_type": "execute_result"
    }
   ],
   "source": [
    "sum_pairs([11,20,4,2,1,5], 100)"
   ]
  },
  {
   "cell_type": "markdown",
   "metadata": {},
   "source": [
    "## vowel_count\n",
    "\n",
    "Given a string, return a dictionary with the keys as vowel and values as count of the vowel appears in the string"
   ]
  },
  {
   "cell_type": "code",
   "execution_count": 12,
   "metadata": {},
   "outputs": [],
   "source": [
    "'''\n",
    "vowel_count('awesome') # {'a': 1, 'e': 2, 'o': 1}\n",
    "vowel_count('Elie') # {'e': 2, 'i': 1}\n",
    "vowel_count('Colt') # {'o': 1}\n",
    "'''\n",
    "\n",
    "def vowel_count(string):\n",
    "    lower_s = string.lower()\n",
    "    return {letter: lower_s.count(letter) for letter in lower_s if letter in \"aeiou\"}"
   ]
  },
  {
   "cell_type": "code",
   "execution_count": 13,
   "metadata": {},
   "outputs": [
    {
     "data": {
      "text/plain": [
       "{'a': 1, 'e': 2, 'o': 1}"
      ]
     },
     "execution_count": 13,
     "metadata": {},
     "output_type": "execute_result"
    }
   ],
   "source": [
    "vowel_count('awesome')"
   ]
  },
  {
   "cell_type": "code",
   "execution_count": 14,
   "metadata": {},
   "outputs": [
    {
     "data": {
      "text/plain": [
       "{'e': 2, 'i': 1}"
      ]
     },
     "execution_count": 14,
     "metadata": {},
     "output_type": "execute_result"
    }
   ],
   "source": [
    "vowel_count('Elie')"
   ]
  },
  {
   "cell_type": "markdown",
   "metadata": {},
   "source": [
    "## tileize\n",
    "\n",
    "Given a string of words, return a new string of words with the first letter of each word capitalized"
   ]
  },
  {
   "cell_type": "code",
   "execution_count": 15,
   "metadata": {},
   "outputs": [],
   "source": [
    "'''\n",
    "titleize('this is awesome') # \"This Is Awesome\"\n",
    "titleize('oNLy cAPITALIZe fIRSt') # \"ONLy CAPITALIZe FIRSt\"\n",
    "'''\n",
    "\n",
    "def titleize(string):\n",
    "    return ' '.join(s[0].upper() + s[1:] for s in string.split(' '))"
   ]
  },
  {
   "cell_type": "code",
   "execution_count": 16,
   "metadata": {},
   "outputs": [
    {
     "data": {
      "text/plain": [
       "'This Is Awesome'"
      ]
     },
     "execution_count": 16,
     "metadata": {},
     "output_type": "execute_result"
    }
   ],
   "source": [
    "titleize('this is awesome')"
   ]
  },
  {
   "cell_type": "markdown",
   "metadata": {},
   "source": [
    "## find_factors\n",
    "\n",
    "Given a number, return a list of all numbers that is divisible by starting from 1 up to the given number."
   ]
  },
  {
   "cell_type": "code",
   "execution_count": 22,
   "metadata": {},
   "outputs": [],
   "source": [
    "'''\n",
    "find_factors(10) # [1,2,5,10 ]\n",
    "find_factors(11) # [1,11]\n",
    "find_factors(111) # [1,3,37,111 ]\n",
    "find_factors(321421) # [1,293,1097,321421 ]\n",
    "find_factors(412146) # [1,2,3,6,7,9,14,18,21,42,63,126,3271,6542,9813,19626,22897,29439,45794,58878,68691,137382,206073,412146]\n",
    "'''\n",
    "\n",
    "def find_factors(num):\n",
    "    factors = []\n",
    "    i = 1\n",
    "    while(i <= num):\n",
    "        if (num % i == 0):\n",
    "            factors.append(i)\n",
    "        i += 1\n",
    "    return factors"
   ]
  },
  {
   "cell_type": "code",
   "execution_count": 23,
   "metadata": {},
   "outputs": [
    {
     "data": {
      "text/plain": [
       "[1, 2, 5, 10]"
      ]
     },
     "execution_count": 23,
     "metadata": {},
     "output_type": "execute_result"
    }
   ],
   "source": [
    "find_factors(10)"
   ]
  },
  {
   "cell_type": "code",
   "execution_count": 24,
   "metadata": {},
   "outputs": [
    {
     "data": {
      "text/plain": [
       "[1, 11]"
      ]
     },
     "execution_count": 24,
     "metadata": {},
     "output_type": "execute_result"
    }
   ],
   "source": [
    "find_factors(11)"
   ]
  },
  {
   "cell_type": "code",
   "execution_count": 25,
   "metadata": {},
   "outputs": [
    {
     "data": {
      "text/plain": [
       "[1, 293, 1097, 321421]"
      ]
     },
     "execution_count": 25,
     "metadata": {},
     "output_type": "execute_result"
    }
   ],
   "source": [
    "find_factors(321421)"
   ]
  },
  {
   "cell_type": "code",
   "execution_count": 30,
   "metadata": {},
   "outputs": [],
   "source": [
    "def find_factors_list_comp(num):\n",
    "    return [n for n in range(1, num+1) if num%n==0]"
   ]
  },
  {
   "cell_type": "code",
   "execution_count": 31,
   "metadata": {},
   "outputs": [
    {
     "data": {
      "text/plain": [
       "[1, 293, 1097, 321421]"
      ]
     },
     "execution_count": 31,
     "metadata": {},
     "output_type": "execute_result"
    }
   ],
   "source": [
    "find_factors_list_comp(321421)"
   ]
  },
  {
   "cell_type": "markdown",
   "metadata": {},
   "source": [
    "## valid_parentheses\n",
    "\n",
    "Given a string of parentheses, determine if the order of parentheses is valid. return True if valid, False if not"
   ]
  },
  {
   "cell_type": "code",
   "execution_count": 2,
   "metadata": {},
   "outputs": [],
   "source": [
    "'''\n",
    "valid_parentheses(\"()\") # True \n",
    "valid_parentheses(\")(()))\") # False \n",
    "valid_parentheses(\"(\") # False \n",
    "valid_parentheses(\"(())((()())())\") # True \n",
    "valid_parentheses('))((') # False\n",
    "valid_parentheses('())(') # False\n",
    "valid_parentheses('()()()()())()(') # False\n",
    "'''\n",
    "\n",
    "def valid_parentheses(parens):\n",
    "    count = 0\n",
    "    i = 0\n",
    "    while i < len(parens):\n",
    "        if (parens[i] == '('):\n",
    "            count += 1\n",
    "        if (parens[i] == ')'):\n",
    "            count -= 1\n",
    "        if (count < 0):\n",
    "            return False\n",
    "        i += 1\n",
    "    return count == 0"
   ]
  },
  {
   "cell_type": "code",
   "execution_count": 3,
   "metadata": {},
   "outputs": [
    {
     "data": {
      "text/plain": [
       "True"
      ]
     },
     "execution_count": 3,
     "metadata": {},
     "output_type": "execute_result"
    }
   ],
   "source": [
    "valid_parentheses(\"()\")"
   ]
  },
  {
   "cell_type": "code",
   "execution_count": 4,
   "metadata": {},
   "outputs": [
    {
     "data": {
      "text/plain": [
       "True"
      ]
     },
     "execution_count": 4,
     "metadata": {},
     "output_type": "execute_result"
    }
   ],
   "source": [
    "valid_parentheses(\"(())((()())())\")"
   ]
  },
  {
   "cell_type": "code",
   "execution_count": 5,
   "metadata": {},
   "outputs": [
    {
     "data": {
      "text/plain": [
       "False"
      ]
     },
     "execution_count": 5,
     "metadata": {},
     "output_type": "execute_result"
    }
   ],
   "source": [
    "valid_parentheses('())(') # False"
   ]
  },
  {
   "cell_type": "code",
   "execution_count": 73,
   "metadata": {},
   "outputs": [
    {
     "data": {
      "text/plain": [
       "False"
      ]
     },
     "execution_count": 73,
     "metadata": {},
     "output_type": "execute_result"
    }
   ],
   "source": [
    "valid_parentheses('()()()()())()(')"
   ]
  }
 ],
 "metadata": {
  "kernelspec": {
   "display_name": "Python 3 (ipykernel)",
   "language": "python",
   "name": "python3"
  },
  "language_info": {
   "codemirror_mode": {
    "name": "ipython",
    "version": 3
   },
   "file_extension": ".py",
   "mimetype": "text/x-python",
   "name": "python",
   "nbconvert_exporter": "python",
   "pygments_lexer": "ipython3",
   "version": "3.7.4"
  },
  "toc": {
   "base_numbering": 1,
   "nav_menu": {},
   "number_sections": false,
   "sideBar": true,
   "skip_h1_title": false,
   "title_cell": "Table of Contents",
   "title_sidebar": "Contents",
   "toc_cell": false,
   "toc_position": {},
   "toc_section_display": true,
   "toc_window_display": false
  }
 },
 "nbformat": 4,
 "nbformat_minor": 2
}
