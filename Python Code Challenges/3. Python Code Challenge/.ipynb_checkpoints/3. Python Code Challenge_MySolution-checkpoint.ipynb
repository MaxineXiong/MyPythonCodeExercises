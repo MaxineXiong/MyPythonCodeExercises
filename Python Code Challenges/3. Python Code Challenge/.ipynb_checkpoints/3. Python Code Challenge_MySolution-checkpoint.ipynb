{
 "cells": [
  {
   "cell_type": "markdown",
   "metadata": {},
   "source": [
    "## reverse_string\n",
    "\n",
    "Given a string, return a new string with all characters reversed."
   ]
  },
  {
   "cell_type": "code",
   "execution_count": 1,
   "metadata": {},
   "outputs": [],
   "source": [
    "'''\n",
    "reverse_string('awesome') # 'emosewa'\n",
    "reverse_string('Colt') # 'tloC'\n",
    "reverse_string('Elie') # 'eilE'\n",
    "'''\n",
    "\n",
    "def reverse_string(s):\n",
    "    return s[::-1]"
   ]
  },
  {
   "cell_type": "code",
   "execution_count": 2,
   "metadata": {},
   "outputs": [
    {
     "name": "stdout",
     "output_type": "stream",
     "text": [
      "emosewa\n",
      "tloC\n",
      "eilE\n"
     ]
    }
   ],
   "source": [
    "print(reverse_string('awesome'))\n",
    "print(reverse_string('Colt'))\n",
    "print(reverse_string('Elie'))"
   ]
  },
  {
   "cell_type": "markdown",
   "metadata": {},
   "source": [
    "## list_check\n",
    "\n",
    "Given a list, if all elements is list, return True. Otherwise return false"
   ]
  },
  {
   "cell_type": "code",
   "execution_count": 58,
   "metadata": {
    "scrolled": false
   },
   "outputs": [],
   "source": [
    "'''\n",
    "list_check([[],[1],[2,3], (1,2)]) # False\n",
    "list_check([1, True, [],[1],[2,3]]) # False\n",
    "list_check([[],[1],[2,3]]) # True\n",
    "'''\n",
    "\n",
    "def list_check(l):\n",
    "    counter = 0\n",
    "    for i in l:\n",
    "        if type(i) != type([]):\n",
    "            counter += 1\n",
    "    if counter > 0:\n",
    "        return False\n",
    "    else:\n",
    "        return True"
   ]
  },
  {
   "cell_type": "code",
   "execution_count": 3,
   "metadata": {},
   "outputs": [],
   "source": [
    "def list_check(l):\n",
    "    return all(type(item) == list for item in l)"
   ]
  },
  {
   "cell_type": "code",
   "execution_count": 4,
   "metadata": {},
   "outputs": [
    {
     "name": "stdout",
     "output_type": "stream",
     "text": [
      "False\n",
      "False\n",
      "True\n"
     ]
    }
   ],
   "source": [
    "print(list_check([[],[1],[2,3], (1,2)]))\n",
    "print(list_check([1, True, [],[1],[2,3]]))\n",
    "print(list_check([[],[1],[2,3]]))"
   ]
  },
  {
   "cell_type": "markdown",
   "metadata": {},
   "source": [
    "## remove_every_other\n",
    "\n",
    "Given a list, return a new list with every second value removed"
   ]
  },
  {
   "cell_type": "code",
   "execution_count": 5,
   "metadata": {
    "scrolled": true
   },
   "outputs": [],
   "source": [
    "'''\n",
    "remove_every_other([1,2,3,4,5]) # [1,3,5] \n",
    "remove_every_other([5,1,2,4,1]) # [5,2,1]\n",
    "remove_every_other([1]) # [1] \n",
    "'''\n",
    "\n",
    "def remove_every_other(l):\n",
    "    return l[::2]"
   ]
  },
  {
   "cell_type": "code",
   "execution_count": 32,
   "metadata": {},
   "outputs": [],
   "source": [
    "#Suggested Answer:\n",
    "def remove_every_other(l):\n",
    "    return [val for i, val in enumerate(l) if i%2 == 0]"
   ]
  },
  {
   "cell_type": "code",
   "execution_count": 6,
   "metadata": {},
   "outputs": [
    {
     "name": "stdout",
     "output_type": "stream",
     "text": [
      "[1, 3, 5]\n",
      "[5, 2, 1]\n",
      "[1]\n"
     ]
    }
   ],
   "source": [
    "print(remove_every_other([1,2,3,4,5]))\n",
    "print(remove_every_other([5,1,2,4,1]))\n",
    "print(remove_every_other([1]))"
   ]
  },
  {
   "cell_type": "markdown",
   "metadata": {},
   "source": [
    "## sum_pairs\n",
    "\n",
    "Given a list of numbers, return the first pair of numbers that sum to the number passed."
   ]
  },
  {
   "cell_type": "code",
   "execution_count": 12,
   "metadata": {},
   "outputs": [],
   "source": [
    "'''\n",
    "sum_pairs([4,2,10,5,1], 6) # [4,2]\n",
    "sum_pairs([11,20,4,2,1,5], 100) # []\n",
    "'''\n",
    "\n",
    "def sum_pairs(l, num):\n",
    "    for i in l:\n",
    "        diff = num - i\n",
    "        if diff in l:\n",
    "            return [i, diff]\n",
    "    return []"
   ]
  },
  {
   "cell_type": "code",
   "execution_count": 14,
   "metadata": {},
   "outputs": [
    {
     "name": "stdout",
     "output_type": "stream",
     "text": [
      "[4, 2]\n",
      "[]\n",
      "[10, 5]\n",
      "[10, 1]\n"
     ]
    }
   ],
   "source": [
    "print(sum_pairs([4, 2, 10, 5, 1], 6))\n",
    "print(sum_pairs([11, 20, 4, 2, 1, 5], 100))\n",
    "print(sum_pairs([4, 2, 10, 5, 1], 15))\n",
    "print(sum_pairs([4, 2, 10, 5, 1], 11))"
   ]
  },
  {
   "cell_type": "markdown",
   "metadata": {},
   "source": [
    "## vowel_count\n",
    "\n",
    "Given a string, return a dictionary with the keys as vowel and values as count of the vowel appears in the string"
   ]
  },
  {
   "cell_type": "code",
   "execution_count": 18,
   "metadata": {},
   "outputs": [],
   "source": [
    "'''\n",
    "vowel_count('awesome') # {'a': 1, 'e': 2, 'o': 1}\n",
    "vowel_count('Elie') # {'e': 2, 'i': 1}\n",
    "vowel_count('Colt') # {'o': 1}\n",
    "'''\n",
    "\n",
    "def vowel_count(s):\n",
    "    return {l: s.lower().count(l) for l in s.lower() if l in 'aeiou'}"
   ]
  },
  {
   "cell_type": "code",
   "execution_count": 19,
   "metadata": {},
   "outputs": [
    {
     "name": "stdout",
     "output_type": "stream",
     "text": [
      "{'a': 1, 'e': 2, 'o': 1}\n",
      "{'e': 2, 'i': 1}\n",
      "{'o': 1}\n"
     ]
    }
   ],
   "source": [
    "print(vowel_count('awesome'))\n",
    "print(vowel_count('Elie'))\n",
    "print(vowel_count('Colt'))"
   ]
  },
  {
   "cell_type": "markdown",
   "metadata": {},
   "source": [
    "## tileize\n",
    "\n",
    "Given a string of words, return a new string of words with the first letter of each word capitalized"
   ]
  },
  {
   "cell_type": "code",
   "execution_count": 22,
   "metadata": {},
   "outputs": [],
   "source": [
    "'''\n",
    "titleize('this is awesome') # \"This Is Awesome\"\n",
    "titleize('oNLy cAPITALIZe fIRSt') # \"ONLy CAPITALIZe FIRSt\"\n",
    "'''\n",
    "\n",
    "def titleize(s):\n",
    "    return ' '.join([word[0].upper() + word[1:] for word in s.split(' ')])"
   ]
  },
  {
   "cell_type": "code",
   "execution_count": 23,
   "metadata": {},
   "outputs": [
    {
     "name": "stdout",
     "output_type": "stream",
     "text": [
      "This Is Awesome\n",
      "ONLy CAPITALIZe FIRSt\n"
     ]
    }
   ],
   "source": [
    "print(titleize('this is awesome'))\n",
    "print(titleize('oNLy cAPITALIZe fIRSt'))"
   ]
  },
  {
   "cell_type": "markdown",
   "metadata": {},
   "source": [
    "## find_factors\n",
    "\n",
    "Given a number, return a list of all numbers that is divisible by starting from 1 up to the given number."
   ]
  },
  {
   "cell_type": "code",
   "execution_count": 27,
   "metadata": {},
   "outputs": [],
   "source": [
    "'''\n",
    "find_factors(10) # [1,2,5,10 ]\n",
    "find_factors(11) # [1,11]\n",
    "find_factors(111) # [1,3,37,111 ]\n",
    "find_factors(321421) # [1,293,1097,321421 ]\n",
    "find_factors(412146) # [1,2,3,6,7,9,14,18,21,42,63,126,3271,6542,9813,19626,22897,29439,45794,58878,68691,137382,206073,412146]\n",
    "'''\n",
    "\n",
    "def find_factors(num):\n",
    "    return [i for i in range(1, num + 1) if num % i == 0]"
   ]
  },
  {
   "cell_type": "code",
   "execution_count": 28,
   "metadata": {},
   "outputs": [
    {
     "name": "stdout",
     "output_type": "stream",
     "text": [
      "[1, 2, 5, 10]\n",
      "[1, 11]\n",
      "[1, 3, 37, 111]\n",
      "[1, 293, 1097, 321421]\n",
      "[1, 2, 3, 6, 7, 9, 14, 18, 21, 42, 63, 126, 3271, 6542, 9813, 19626, 22897, 29439, 45794, 58878, 68691, 137382, 206073, 412146]\n"
     ]
    }
   ],
   "source": [
    "print(find_factors(10))\n",
    "print(find_factors(11))\n",
    "print(find_factors(111))\n",
    "print(find_factors(321421))\n",
    "print(find_factors(412146))"
   ]
  },
  {
   "cell_type": "markdown",
   "metadata": {},
   "source": [
    "## valid_parentheses\n",
    "\n",
    "Given a string of parentheses, determine if the order of parentheses is valid. return True if valid, False if not"
   ]
  },
  {
   "cell_type": "code",
   "execution_count": 32,
   "metadata": {},
   "outputs": [],
   "source": [
    "'''\n",
    "valid_parentheses(\"()\") # True \n",
    "valid_parentheses(\")(()))\") # False \n",
    "valid_parentheses(\"(\") # False \n",
    "valid_parentheses(\"(())((()())())\") # True \n",
    "valid_parentheses('))((') # False\n",
    "valid_parentheses('())(') # False\n",
    "valid_parentheses('()()()()())()(') # False\n",
    "'''\n",
    "\n",
    "def valid_parentheses(s):\n",
    "    score = 0\n",
    "    for i in s:\n",
    "        if i == '(':\n",
    "            score += 1\n",
    "        if i == ')':\n",
    "            score -= 1\n",
    "        if score < 0:\n",
    "            break\n",
    "    return score == 0"
   ]
  },
  {
   "cell_type": "code",
   "execution_count": 33,
   "metadata": {},
   "outputs": [
    {
     "name": "stdout",
     "output_type": "stream",
     "text": [
      "True\n",
      "False\n",
      "False\n",
      "True\n",
      "False\n",
      "False\n",
      "False\n"
     ]
    }
   ],
   "source": [
    "print(valid_parentheses(\"()\"))\n",
    "print(valid_parentheses(\")(()))\"))\n",
    "print(valid_parentheses(\"(\"))\n",
    "print(valid_parentheses(\"(())((()())())\"))\n",
    "print(valid_parentheses('))(('))\n",
    "print(valid_parentheses('())('))\n",
    "print(valid_parentheses('()()()()())()('))"
   ]
  }
 ],
 "metadata": {
  "kernelspec": {
   "display_name": "Python 3 (ipykernel)",
   "language": "python",
   "name": "python3"
  },
  "language_info": {
   "codemirror_mode": {
    "name": "ipython",
    "version": 3
   },
   "file_extension": ".py",
   "mimetype": "text/x-python",
   "name": "python",
   "nbconvert_exporter": "python",
   "pygments_lexer": "ipython3",
   "version": "3.11.3"
  },
  "toc": {
   "base_numbering": 1,
   "nav_menu": {},
   "number_sections": false,
   "sideBar": true,
   "skip_h1_title": false,
   "title_cell": "Table of Contents",
   "title_sidebar": "Contents",
   "toc_cell": false,
   "toc_position": {},
   "toc_section_display": true,
   "toc_window_display": false
  }
 },
 "nbformat": 4,
 "nbformat_minor": 2
}
