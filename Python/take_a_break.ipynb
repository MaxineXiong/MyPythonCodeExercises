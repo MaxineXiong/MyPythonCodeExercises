{
 "cells": [
  {
   "cell_type": "code",
   "execution_count": 1,
   "metadata": {},
   "outputs": [],
   "source": [
    "from time import sleep"
   ]
  },
  {
   "cell_type": "code",
   "execution_count": 72,
   "metadata": {},
   "outputs": [],
   "source": [
    "def take_a_break(duration, unit):\n",
    "    if unit == 'seconds':\n",
    "        t = round(duration)\n",
    "    elif unit == 'minutes':\n",
    "        t = round(duration * 60)\n",
    "    elif unit == 'hours':\n",
    "        t = round(duration * 60 * 60)\n",
    "    else:\n",
    "        return \"Please enter a valid time unit such as 'seconds', 'minutes' or 'hours'\"\n",
    "    \n",
    "    while t > 0:\n",
    "        hours = t // 3600\n",
    "        minutes = (t % 3600) // 60\n",
    "        seconds = (t % 3600) % 60\n",
    "        #{:02d}: 2 digits required padding with 0 on the left\n",
    "        print('{:02d}:{:02d}:{:02d}'.format(hours, minutes, seconds), end='\\r')   # end='\\r': replace the previous printing\n",
    "        sleep(1)\n",
    "        t -= 1\n",
    "    \n",
    "    print('Welcome Back')"
   ]
  },
  {
   "cell_type": "code",
   "execution_count": 76,
   "metadata": {},
   "outputs": [
    {
     "name": "stdout",
     "output_type": "stream",
     "text": [
      "Welcome Back\n"
     ]
    }
   ],
   "source": [
    "# take_a_break(1.25, 'hours')\n",
    "# take_a_break(15, 'minutes')\n",
    "take_a_break(5, 'seconds')"
   ]
  }
 ],
 "metadata": {
  "kernelspec": {
   "display_name": "Python 3 (ipykernel)",
   "language": "python",
   "name": "python3"
  },
  "language_info": {
   "codemirror_mode": {
    "name": "ipython",
    "version": 3
   },
   "file_extension": ".py",
   "mimetype": "text/x-python",
   "name": "python",
   "nbconvert_exporter": "python",
   "pygments_lexer": "ipython3",
   "version": "3.11.3"
  },
  "toc": {
   "base_numbering": 1,
   "nav_menu": {},
   "number_sections": false,
   "sideBar": true,
   "skip_h1_title": false,
   "title_cell": "Table of Contents",
   "title_sidebar": "Contents",
   "toc_cell": false,
   "toc_position": {},
   "toc_section_display": true,
   "toc_window_display": false
  }
 },
 "nbformat": 4,
 "nbformat_minor": 2
}
