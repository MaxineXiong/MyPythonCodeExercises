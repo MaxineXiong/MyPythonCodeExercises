{
 "cells": [
  {
   "cell_type": "markdown",
   "metadata": {},
   "source": [
    "# <center>Just Enough Python</center>"
   ]
  },
  {
   "cell_type": "markdown",
   "metadata": {},
   "source": [
    "## Computer Programming Concepts"
   ]
  },
  {
   "cell_type": "markdown",
   "metadata": {},
   "source": [
    "### Server v.s. PC\n",
    "* CPU\n",
    "* Storage\n",
    "  - Memory\n",
    "  - Disk\n",
    "* Network\n",
    "\n",
    "![server-vs-pc](./pics/server-vs-pc.png)"
   ]
  },
  {
   "cell_type": "markdown",
   "metadata": {},
   "source": [
    "### Program\n",
    " * Just a pure text **file** of **logic** which computes **output** from **input**\n",
    " * **High level** language: language used by human\n",
    " * **Low level** language: language executed by computer\n",
    " * **Compile & Compiler**: Compile - convert High-level language to Low-level language\n",
    " * **Interpret & Interpreter**\n",
    " * Why **CPU architecture** matters: eg. Low-level language used by Intel x86 differs to the one used by IBM POWER CPU\n",
    " * **Portable**: Run on Virtual Machine"
   ]
  },
  {
   "cell_type": "markdown",
   "metadata": {},
   "source": [
    "#### Human Language\n",
    "we will go to the park tomorrow if the weather is good, otherwise we will stay at home. \n",
    "\n",
    "#### Python program\n",
    "```python\n",
    "weather = 'good'\n",
    "if( weather is 'good'):\n",
    "    print('go to park')\n",
    "else:\n",
    "    print('stay at home')\n",
    "```"
   ]
  },
  {
   "cell_type": "code",
   "execution_count": 2,
   "metadata": {},
   "outputs": [
    {
     "name": "stdout",
     "output_type": "stream",
     "text": [
      "go to park\n"
     ]
    }
   ],
   "source": [
    "weather = 'good'\n",
    "if weather == 'good':\n",
    "    print('go to park')\n",
    "else:\n",
    "    print('stay at home')"
   ]
  },
  {
   "cell_type": "markdown",
   "metadata": {},
   "source": [
    "![high-vs-low](./pics/high-vs-low.png)"
   ]
  },
  {
   "cell_type": "markdown",
   "metadata": {},
   "source": [
    "#### What about Python?\n",
    "* High level language\n",
    "* Both compile and interpret"
   ]
  },
  {
   "cell_type": "markdown",
   "metadata": {},
   "source": [
    "![python-compile-interpret](./pics/python-compile-interpret.jpg)"
   ]
  },
  {
   "cell_type": "markdown",
   "metadata": {},
   "source": [
    "* Flow Control\n",
    "* List, List Comprehension\n",
    "* Tuple\n",
    "* Dictionary\n",
    "* Function, Lambda, Built-in Function\n",
    "* Exception and Error Handling\n",
    "* OOP\n",
    "* Regular Expression\n",
    "* Datetime"
   ]
  },
  {
   "cell_type": "markdown",
   "metadata": {},
   "source": [
    "## Python Basics"
   ]
  },
  {
   "cell_type": "code",
   "execution_count": 1,
   "metadata": {},
   "outputs": [
    {
     "name": "stdout",
     "output_type": "stream",
     "text": [
      "Hello Python!\n"
     ]
    }
   ],
   "source": [
    "# hello world\n",
    "print('Hello Python!')"
   ]
  },
  {
   "cell_type": "code",
   "execution_count": 2,
   "metadata": {},
   "outputs": [
    {
     "name": "stdout",
     "output_type": "stream",
     "text": [
      "Hello World!\n"
     ]
    }
   ],
   "source": [
    "# variable, value assignment\n",
    "# integer, float, string\n",
    "message = 'Hello World!'\n",
    "print(message)"
   ]
  },
  {
   "cell_type": "code",
   "execution_count": 3,
   "metadata": {},
   "outputs": [
    {
     "name": "stdout",
     "output_type": "stream",
     "text": [
      "Hello Alex GREEN \n",
      "Welcome to Python\n"
     ]
    }
   ],
   "source": [
    "# string manipulation\n",
    "first_name = \"Alex\"\n",
    "last_name = 'Green'\n",
    "last_name = last_name.upper()\n",
    "print(\"Hello {} {} \\nWelcome to Python\".format(first_name, last_name))"
   ]
  },
  {
   "cell_type": "code",
   "execution_count": 4,
   "metadata": {},
   "outputs": [
    {
     "name": "stdout",
     "output_type": "stream",
     "text": [
      "Hello Alex GREEN \n",
      "Welcome to Python\n"
     ]
    }
   ],
   "source": [
    "print(f\"Hello {first_name} {last_name} \\nWelcome to Python\")"
   ]
  },
  {
   "cell_type": "code",
   "execution_count": 7,
   "metadata": {},
   "outputs": [
    {
     "name": "stdout",
     "output_type": "stream",
     "text": [
      "'have both leading and ending space   '\n",
      "'   have both leading and ending space'\n",
      "'have both leading and ending space'\n"
     ]
    }
   ],
   "source": [
    "# string manipulation\n",
    "# Python standard library\n",
    "text = '   have both leading and ending space   '\n",
    "print(\"'{}'\\n'{}'\\n'{}'\".format(text.lstrip(), text.rstrip(), text.strip()))"
   ]
  },
  {
   "cell_type": "code",
   "execution_count": 8,
   "metadata": {},
   "outputs": [
    {
     "data": {
      "text/plain": [
       "6"
      ]
     },
     "execution_count": 8,
     "metadata": {},
     "output_type": "execute_result"
    }
   ],
   "source": [
    "4 + 2"
   ]
  },
  {
   "cell_type": "code",
   "execution_count": 9,
   "metadata": {},
   "outputs": [
    {
     "data": {
      "text/plain": [
       "8"
      ]
     },
     "execution_count": 9,
     "metadata": {},
     "output_type": "execute_result"
    }
   ],
   "source": [
    "4 * 2"
   ]
  },
  {
   "cell_type": "code",
   "execution_count": 10,
   "metadata": {
    "scrolled": false
   },
   "outputs": [
    {
     "data": {
      "text/plain": [
       "2.0"
      ]
     },
     "execution_count": 10,
     "metadata": {},
     "output_type": "execute_result"
    }
   ],
   "source": [
    "4 / 2"
   ]
  },
  {
   "cell_type": "code",
   "execution_count": 11,
   "metadata": {},
   "outputs": [
    {
     "data": {
      "text/plain": [
       "1"
      ]
     },
     "execution_count": 11,
     "metadata": {},
     "output_type": "execute_result"
    }
   ],
   "source": [
    "5 // 4"
   ]
  },
  {
   "cell_type": "code",
   "execution_count": 12,
   "metadata": {},
   "outputs": [
    {
     "data": {
      "text/plain": [
       "1"
      ]
     },
     "execution_count": 12,
     "metadata": {},
     "output_type": "execute_result"
    }
   ],
   "source": [
    "# mod (0 if divisible)\n",
    "5%2"
   ]
  },
  {
   "cell_type": "code",
   "execution_count": 14,
   "metadata": {},
   "outputs": [
    {
     "data": {
      "text/plain": [
       "16"
      ]
     },
     "execution_count": 14,
     "metadata": {},
     "output_type": "execute_result"
    }
   ],
   "source": [
    "2 ** 4"
   ]
  },
  {
   "cell_type": "code",
   "execution_count": 15,
   "metadata": {},
   "outputs": [
    {
     "data": {
      "text/plain": [
       "0.30000000000000004"
      ]
     },
     "execution_count": 15,
     "metadata": {},
     "output_type": "execute_result"
    }
   ],
   "source": [
    "a = 0.2\n",
    "b = 0.1\n",
    "a + b"
   ]
  },
  {
   "cell_type": "code",
   "execution_count": 16,
   "metadata": {
    "scrolled": true
   },
   "outputs": [
    {
     "data": {
      "text/plain": [
       "0.020000000000000004"
      ]
     },
     "execution_count": 16,
     "metadata": {},
     "output_type": "execute_result"
    }
   ],
   "source": [
    "a * b "
   ]
  },
  {
   "cell_type": "markdown",
   "metadata": {},
   "source": [
    "## List"
   ]
  },
  {
   "cell_type": "code",
   "execution_count": 87,
   "metadata": {},
   "outputs": [
    {
     "name": "stdout",
     "output_type": "stream",
     "text": [
      "hello world\n"
     ]
    }
   ],
   "source": [
    "# string is a list of characters\n",
    "s = 'hello world'\n",
    "print(s)"
   ]
  },
  {
   "cell_type": "code",
   "execution_count": 88,
   "metadata": {},
   "outputs": [
    {
     "name": "stdout",
     "output_type": "stream",
     "text": [
      "h\n"
     ]
    }
   ],
   "source": [
    "print(s[0])"
   ]
  },
  {
   "cell_type": "code",
   "execution_count": 89,
   "metadata": {},
   "outputs": [
    {
     "ename": "TypeError",
     "evalue": "'str' object does not support item assignment",
     "output_type": "error",
     "traceback": [
      "\u001b[1;31m---------------------------------------------------------------------------\u001b[0m",
      "\u001b[1;31mTypeError\u001b[0m                                 Traceback (most recent call last)",
      "\u001b[1;32m<ipython-input-89-1e9425febb3f>\u001b[0m in \u001b[0;36m<module>\u001b[1;34m\u001b[0m\n\u001b[0;32m      1\u001b[0m \u001b[1;31m# string is IMMUTABLE, below code will give you an runtime error\u001b[0m\u001b[1;33m\u001b[0m\u001b[1;33m\u001b[0m\u001b[1;33m\u001b[0m\u001b[0m\n\u001b[1;32m----> 2\u001b[1;33m \u001b[0ms\u001b[0m\u001b[1;33m[\u001b[0m\u001b[1;36m0\u001b[0m\u001b[1;33m]\u001b[0m \u001b[1;33m=\u001b[0m \u001b[1;34m'H'\u001b[0m\u001b[1;33m\u001b[0m\u001b[1;33m\u001b[0m\u001b[0m\n\u001b[0m",
      "\u001b[1;31mTypeError\u001b[0m: 'str' object does not support item assignment"
     ]
    }
   ],
   "source": [
    "# string is IMMUTABLE, below code will give you an runtime error\n",
    "s[0] = 'H'"
   ]
  },
  {
   "cell_type": "code",
   "execution_count": 1,
   "metadata": {},
   "outputs": [
    {
     "name": "stdout",
     "output_type": "stream",
     "text": [
      "['apple', 'banana', 'cherry']\n"
     ]
    }
   ],
   "source": [
    "fruits = ['apple', 'banana', 'cherry']\n",
    "print(fruits)"
   ]
  },
  {
   "cell_type": "code",
   "execution_count": 2,
   "metadata": {},
   "outputs": [
    {
     "name": "stdout",
     "output_type": "stream",
     "text": [
      "apple\n"
     ]
    }
   ],
   "source": [
    "print(fruits[0])"
   ]
  },
  {
   "cell_type": "code",
   "execution_count": 3,
   "metadata": {},
   "outputs": [
    {
     "name": "stdout",
     "output_type": "stream",
     "text": [
      "['apple', 'banana', 'cherry', 'elderberry', 'dragon fruite']\n"
     ]
    }
   ],
   "source": [
    "fruits.append('elderberry')\n",
    "fruits.append('dragon fruit')\n",
    "print(fruits)"
   ]
  },
  {
   "cell_type": "code",
   "execution_count": 93,
   "metadata": {},
   "outputs": [
    {
     "data": {
      "text/plain": [
       "'dragon fruite'"
      ]
     },
     "execution_count": 93,
     "metadata": {},
     "output_type": "execute_result"
    }
   ],
   "source": [
    "popped_fruit = fruits.pop() #.pop() by default, the last item in the list gets popped\n",
    "popped_fruit"
   ]
  },
  {
   "cell_type": "code",
   "execution_count": 94,
   "metadata": {},
   "outputs": [
    {
     "name": "stdout",
     "output_type": "stream",
     "text": [
      "['apple', 'banana', 'cherry', 'elderberry']\n"
     ]
    }
   ],
   "source": [
    "print(fruits)"
   ]
  },
  {
   "cell_type": "code",
   "execution_count": 95,
   "metadata": {},
   "outputs": [
    {
     "name": "stdout",
     "output_type": "stream",
     "text": [
      "['grape', 'apple', 'banana', 'cherry', 'elderberry']\n"
     ]
    }
   ],
   "source": [
    "fruits.insert(0, 'grape')\n",
    "print(fruits)"
   ]
  },
  {
   "cell_type": "code",
   "execution_count": 96,
   "metadata": {},
   "outputs": [
    {
     "name": "stdout",
     "output_type": "stream",
     "text": [
      "['apple', 'banana', 'cherry', 'elderberry', 'grape']\n",
      "['grape', 'apple', 'banana', 'cherry', 'elderberry']\n"
     ]
    }
   ],
   "source": [
    "## Notice the difference between sorted(some_list) and some_list.sort()\n",
    "print(sorted(fruits))\n",
    "print(fruits)"
   ]
  },
  {
   "cell_type": "code",
   "execution_count": 97,
   "metadata": {},
   "outputs": [
    {
     "name": "stdout",
     "output_type": "stream",
     "text": [
      "['apple', 'banana', 'cherry', 'elderberry', 'grape']\n"
     ]
    }
   ],
   "source": [
    "# some_list.sort() is INPLACE sorting\n",
    "fruits.sort()\n",
    "#fruits.sort(reverse = True)\n",
    "print(fruits)"
   ]
  },
  {
   "cell_type": "code",
   "execution_count": 98,
   "metadata": {},
   "outputs": [
    {
     "name": "stdout",
     "output_type": "stream",
     "text": [
      "['grape', 'elderberry', 'cherry', 'banana', 'apple']\n"
     ]
    }
   ],
   "source": [
    "fruits.reverse()\n",
    "print(fruits)"
   ]
  },
  {
   "cell_type": "code",
   "execution_count": 99,
   "metadata": {},
   "outputs": [
    {
     "data": {
      "text/plain": [
       "5"
      ]
     },
     "execution_count": 99,
     "metadata": {},
     "output_type": "execute_result"
    }
   ],
   "source": [
    "len(fruits)"
   ]
  },
  {
   "cell_type": "code",
   "execution_count": 100,
   "metadata": {},
   "outputs": [
    {
     "name": "stdout",
     "output_type": "stream",
     "text": [
      "['grape', 'elderberry', 'cherry', 'banana', 'apple']\n"
     ]
    }
   ],
   "source": [
    "print(fruits)"
   ]
  },
  {
   "cell_type": "code",
   "execution_count": 106,
   "metadata": {},
   "outputs": [
    {
     "name": "stdout",
     "output_type": "stream",
     "text": [
      "['elderberry', 'cherry']\n"
     ]
    }
   ],
   "source": [
    "# Slicing\n",
    "# [start:stop:step]\n",
    "#sub_fruits = fruits[:1]\n",
    "#sub_fruits = fruits[0:1]\n",
    "#sub_fruits = fruits[0:3]\n",
    "#sub_fruits = fruits[:-1]\n",
    "#sub_fruits = fruits[::-1]\n",
    "#sub_fruits = fruits[-3:-1]\n",
    "#sub_fruits = fruits[-1:3]\n",
    "sub_fruits = fruits[-4:3]\n",
    "#sub_fruits = fruits[::]\n",
    "print(sub_fruits)"
   ]
  },
  {
   "cell_type": "code",
   "execution_count": 107,
   "metadata": {},
   "outputs": [
    {
     "data": {
      "text/plain": [
       "['grape', 'cherry', 'banana', 'apple']"
      ]
     },
     "execution_count": 107,
     "metadata": {},
     "output_type": "execute_result"
    }
   ],
   "source": [
    "fruits.remove('elderberry')\n",
    "fruits"
   ]
  },
  {
   "cell_type": "code",
   "execution_count": 108,
   "metadata": {},
   "outputs": [
    {
     "name": "stdout",
     "output_type": "stream",
     "text": [
      "banana\n"
     ]
    }
   ],
   "source": [
    "f = fruits.pop(2)\n",
    "print(f)"
   ]
  },
  {
   "cell_type": "code",
   "execution_count": 109,
   "metadata": {
    "scrolled": true
   },
   "outputs": [
    {
     "data": {
      "text/plain": [
       "['grape', 'cherry', 'apple']"
      ]
     },
     "execution_count": 109,
     "metadata": {},
     "output_type": "execute_result"
    }
   ],
   "source": [
    "fruits"
   ]
  },
  {
   "cell_type": "code",
   "execution_count": 110,
   "metadata": {},
   "outputs": [],
   "source": [
    "fruits.insert(2, 'banana')"
   ]
  },
  {
   "cell_type": "code",
   "execution_count": 111,
   "metadata": {},
   "outputs": [
    {
     "data": {
      "text/plain": [
       "['grape', 'cherry', 'banana', 'apple']"
      ]
     },
     "execution_count": 111,
     "metadata": {},
     "output_type": "execute_result"
    }
   ],
   "source": [
    "fruits"
   ]
  },
  {
   "cell_type": "code",
   "execution_count": 113,
   "metadata": {},
   "outputs": [],
   "source": [
    "# iterator, iterable\n",
    "it = iter(fruits)"
   ]
  },
  {
   "cell_type": "code",
   "execution_count": 114,
   "metadata": {},
   "outputs": [
    {
     "data": {
      "text/plain": [
       "'grape'"
      ]
     },
     "execution_count": 114,
     "metadata": {},
     "output_type": "execute_result"
    }
   ],
   "source": [
    "next(it)"
   ]
  },
  {
   "cell_type": "code",
   "execution_count": 115,
   "metadata": {},
   "outputs": [
    {
     "data": {
      "text/plain": [
       "'cherry'"
      ]
     },
     "execution_count": 115,
     "metadata": {},
     "output_type": "execute_result"
    }
   ],
   "source": [
    "next(it)"
   ]
  },
  {
   "cell_type": "code",
   "execution_count": 116,
   "metadata": {},
   "outputs": [
    {
     "data": {
      "text/plain": [
       "'banana'"
      ]
     },
     "execution_count": 116,
     "metadata": {},
     "output_type": "execute_result"
    }
   ],
   "source": [
    "next(it)"
   ]
  },
  {
   "cell_type": "code",
   "execution_count": 117,
   "metadata": {},
   "outputs": [
    {
     "data": {
      "text/plain": [
       "'apple'"
      ]
     },
     "execution_count": 117,
     "metadata": {},
     "output_type": "execute_result"
    }
   ],
   "source": [
    "next(it)"
   ]
  },
  {
   "cell_type": "code",
   "execution_count": 118,
   "metadata": {},
   "outputs": [
    {
     "ename": "StopIteration",
     "evalue": "",
     "output_type": "error",
     "traceback": [
      "\u001b[1;31m---------------------------------------------------------------------------\u001b[0m",
      "\u001b[1;31mStopIteration\u001b[0m                             Traceback (most recent call last)",
      "\u001b[1;32m<ipython-input-118-bc1ab118995a>\u001b[0m in \u001b[0;36m<module>\u001b[1;34m\u001b[0m\n\u001b[1;32m----> 1\u001b[1;33m \u001b[0mnext\u001b[0m\u001b[1;33m(\u001b[0m\u001b[0mit\u001b[0m\u001b[1;33m)\u001b[0m\u001b[1;33m\u001b[0m\u001b[1;33m\u001b[0m\u001b[0m\n\u001b[0m",
      "\u001b[1;31mStopIteration\u001b[0m: "
     ]
    }
   ],
   "source": [
    "next(it)"
   ]
  },
  {
   "cell_type": "markdown",
   "metadata": {},
   "source": [
    "<hr/>"
   ]
  },
  {
   "cell_type": "markdown",
   "metadata": {},
   "source": [
    "## Tuple"
   ]
  },
  {
   "cell_type": "code",
   "execution_count": 60,
   "metadata": {},
   "outputs": [],
   "source": [
    "t = ('alex', 'bob', 'charlie', 'danny')"
   ]
  },
  {
   "cell_type": "code",
   "execution_count": 61,
   "metadata": {},
   "outputs": [
    {
     "name": "stdout",
     "output_type": "stream",
     "text": [
      "alex\n",
      "bob\n",
      "charlie\n",
      "danny\n"
     ]
    }
   ],
   "source": [
    "for e in t:\n",
    "    print(e)"
   ]
  },
  {
   "cell_type": "code",
   "execution_count": 62,
   "metadata": {},
   "outputs": [
    {
     "data": {
      "text/plain": [
       "'alex'"
      ]
     },
     "execution_count": 62,
     "metadata": {},
     "output_type": "execute_result"
    }
   ],
   "source": [
    "t[0]"
   ]
  },
  {
   "cell_type": "code",
   "execution_count": 63,
   "metadata": {
    "scrolled": true
   },
   "outputs": [
    {
     "ename": "TypeError",
     "evalue": "'tuple' object does not support item assignment",
     "output_type": "error",
     "traceback": [
      "\u001b[1;31m---------------------------------------------------------------------------\u001b[0m",
      "\u001b[1;31mTypeError\u001b[0m                                 Traceback (most recent call last)",
      "Cell \u001b[1;32mIn[63], line 2\u001b[0m\n\u001b[0;32m      1\u001b[0m \u001b[38;5;66;03m# tuple is IMMUTABLE\u001b[39;00m\n\u001b[1;32m----> 2\u001b[0m t[\u001b[38;5;241m0\u001b[39m] \u001b[38;5;241m=\u001b[39m \u001b[38;5;124m'\u001b[39m\u001b[38;5;124manny\u001b[39m\u001b[38;5;124m'\u001b[39m\n",
      "\u001b[1;31mTypeError\u001b[0m: 'tuple' object does not support item assignment"
     ]
    }
   ],
   "source": [
    "# tuple is IMMUTABLE\n",
    "t[0] = 'anny'"
   ]
  },
  {
   "cell_type": "code",
   "execution_count": 64,
   "metadata": {},
   "outputs": [],
   "source": [
    "# tuple unpack\n",
    "n1, n2, n3, _ = t"
   ]
  },
  {
   "cell_type": "code",
   "execution_count": 65,
   "metadata": {},
   "outputs": [
    {
     "name": "stdout",
     "output_type": "stream",
     "text": [
      "alex & bob & charlie\n"
     ]
    }
   ],
   "source": [
    "print(f\"{n1} & {n2} & {n3}\")"
   ]
  },
  {
   "cell_type": "code",
   "execution_count": 66,
   "metadata": {},
   "outputs": [
    {
     "data": {
      "text/plain": [
       "1"
      ]
     },
     "execution_count": 66,
     "metadata": {},
     "output_type": "execute_result"
    }
   ],
   "source": [
    "t.count('alex')"
   ]
  },
  {
   "cell_type": "code",
   "execution_count": 67,
   "metadata": {
    "scrolled": true
   },
   "outputs": [
    {
     "data": {
      "text/plain": [
       "0"
      ]
     },
     "execution_count": 67,
     "metadata": {},
     "output_type": "execute_result"
    }
   ],
   "source": [
    "t.count('richard')"
   ]
  },
  {
   "cell_type": "code",
   "execution_count": 68,
   "metadata": {
    "scrolled": true
   },
   "outputs": [
    {
     "data": {
      "text/plain": [
       "0"
      ]
     },
     "execution_count": 68,
     "metadata": {},
     "output_type": "execute_result"
    }
   ],
   "source": [
    "t.index('alex')"
   ]
  },
  {
   "cell_type": "code",
   "execution_count": 69,
   "metadata": {},
   "outputs": [
    {
     "ename": "ValueError",
     "evalue": "tuple.index(x): x not in tuple",
     "output_type": "error",
     "traceback": [
      "\u001b[1;31m---------------------------------------------------------------------------\u001b[0m",
      "\u001b[1;31mValueError\u001b[0m                                Traceback (most recent call last)",
      "Cell \u001b[1;32mIn[69], line 1\u001b[0m\n\u001b[1;32m----> 1\u001b[0m t\u001b[38;5;241m.\u001b[39mindex(\u001b[38;5;124m'\u001b[39m\u001b[38;5;124mrichard\u001b[39m\u001b[38;5;124m'\u001b[39m)\n",
      "\u001b[1;31mValueError\u001b[0m: tuple.index(x): x not in tuple"
     ]
    }
   ],
   "source": [
    "t.index('richard')"
   ]
  },
  {
   "cell_type": "code",
   "execution_count": 70,
   "metadata": {},
   "outputs": [
    {
     "data": {
      "text/plain": [
       "tuple"
      ]
     },
     "execution_count": 70,
     "metadata": {},
     "output_type": "execute_result"
    }
   ],
   "source": [
    "type(t)"
   ]
  },
  {
   "cell_type": "markdown",
   "metadata": {},
   "source": [
    "<hr/>"
   ]
  },
  {
   "cell_type": "markdown",
   "metadata": {},
   "source": [
    "## Set (contains unique values only)"
   ]
  },
  {
   "cell_type": "code",
   "execution_count": 136,
   "metadata": {},
   "outputs": [],
   "source": [
    "my_set = set()"
   ]
  },
  {
   "cell_type": "code",
   "execution_count": 137,
   "metadata": {},
   "outputs": [
    {
     "data": {
      "text/plain": [
       "set()"
      ]
     },
     "execution_count": 137,
     "metadata": {},
     "output_type": "execute_result"
    }
   ],
   "source": [
    "my_set"
   ]
  },
  {
   "cell_type": "code",
   "execution_count": 138,
   "metadata": {},
   "outputs": [
    {
     "data": {
      "text/plain": [
       "{1, 2, 3}"
      ]
     },
     "execution_count": 138,
     "metadata": {},
     "output_type": "execute_result"
    }
   ],
   "source": [
    "my_set.add(1)\n",
    "my_set.add(2)\n",
    "my_set.add(3)\n",
    "my_set"
   ]
  },
  {
   "cell_type": "code",
   "execution_count": 139,
   "metadata": {},
   "outputs": [
    {
     "data": {
      "text/plain": [
       "{1, 2, 3, 100}"
      ]
     },
     "execution_count": 139,
     "metadata": {},
     "output_type": "execute_result"
    }
   ],
   "source": [
    "my_set.add(1)\n",
    "my_set.add(100)\n",
    "my_set"
   ]
  },
  {
   "cell_type": "code",
   "execution_count": 140,
   "metadata": {},
   "outputs": [
    {
     "data": {
      "text/plain": [
       "[1, 2, 3, 100]"
      ]
     },
     "execution_count": 140,
     "metadata": {},
     "output_type": "execute_result"
    }
   ],
   "source": [
    "my_list = list(my_set)\n",
    "my_list"
   ]
  },
  {
   "cell_type": "code",
   "execution_count": 141,
   "metadata": {},
   "outputs": [
    {
     "name": "stdout",
     "output_type": "stream",
     "text": [
      "1\n",
      "2\n",
      "3\n",
      "100\n"
     ]
    }
   ],
   "source": [
    "for i in my_set:\n",
    "    print(i)"
   ]
  },
  {
   "cell_type": "code",
   "execution_count": 143,
   "metadata": {},
   "outputs": [],
   "source": [
    "my_set.remove(100)"
   ]
  },
  {
   "cell_type": "code",
   "execution_count": 148,
   "metadata": {},
   "outputs": [
    {
     "data": {
      "text/plain": [
       "{1, 2, 3}"
      ]
     },
     "execution_count": 148,
     "metadata": {},
     "output_type": "execute_result"
    }
   ],
   "source": [
    "my_set"
   ]
  },
  {
   "cell_type": "code",
   "execution_count": 149,
   "metadata": {},
   "outputs": [
    {
     "ename": "KeyError",
     "evalue": "99",
     "output_type": "error",
     "traceback": [
      "\u001b[1;31m---------------------------------------------------------------------------\u001b[0m",
      "\u001b[1;31mKeyError\u001b[0m                                  Traceback (most recent call last)",
      "\u001b[1;32m<ipython-input-149-24f0cdf323bf>\u001b[0m in \u001b[0;36m<module>\u001b[1;34m\u001b[0m\n\u001b[1;32m----> 1\u001b[1;33m \u001b[0mmy_set\u001b[0m\u001b[1;33m.\u001b[0m\u001b[0mremove\u001b[0m\u001b[1;33m(\u001b[0m\u001b[1;36m99\u001b[0m\u001b[1;33m)\u001b[0m\u001b[1;33m\u001b[0m\u001b[1;33m\u001b[0m\u001b[0m\n\u001b[0m",
      "\u001b[1;31mKeyError\u001b[0m: 99"
     ]
    }
   ],
   "source": [
    "my_set.remove(99)"
   ]
  },
  {
   "cell_type": "code",
   "execution_count": 150,
   "metadata": {},
   "outputs": [],
   "source": [
    "my_set.discard(99)  #.discar() similar to .remove() but never throws errors"
   ]
  },
  {
   "cell_type": "code",
   "execution_count": 151,
   "metadata": {},
   "outputs": [
    {
     "data": {
      "text/plain": [
       "{1, 2, 3}"
      ]
     },
     "execution_count": 151,
     "metadata": {},
     "output_type": "execute_result"
    }
   ],
   "source": [
    "my_set"
   ]
  },
  {
   "cell_type": "code",
   "execution_count": 152,
   "metadata": {},
   "outputs": [],
   "source": [
    "my_set.clear()"
   ]
  },
  {
   "cell_type": "code",
   "execution_count": 153,
   "metadata": {},
   "outputs": [
    {
     "data": {
      "text/plain": [
       "set()"
      ]
     },
     "execution_count": 153,
     "metadata": {},
     "output_type": "execute_result"
    }
   ],
   "source": [
    "my_set"
   ]
  },
  {
   "cell_type": "code",
   "execution_count": 154,
   "metadata": {},
   "outputs": [],
   "source": [
    "math_student = set({'Alex', 'Bob', 'Charlie', 'Danny', 'Ethan'})\n",
    "chinese_student = set({'Alex', 'Bob', 'Flynn', 'George'})"
   ]
  },
  {
   "cell_type": "code",
   "execution_count": 155,
   "metadata": {},
   "outputs": [
    {
     "data": {
      "text/plain": [
       "{'Alex', 'Bob'}"
      ]
     },
     "execution_count": 155,
     "metadata": {},
     "output_type": "execute_result"
    }
   ],
   "source": [
    "math_student & chinese_student"
   ]
  },
  {
   "cell_type": "code",
   "execution_count": 156,
   "metadata": {},
   "outputs": [
    {
     "data": {
      "text/plain": [
       "{'Alex', 'Bob', 'Charlie', 'Danny', 'Ethan', 'Flynn', 'George'}"
      ]
     },
     "execution_count": 156,
     "metadata": {},
     "output_type": "execute_result"
    }
   ],
   "source": [
    "math_student | chinese_student"
   ]
  },
  {
   "cell_type": "markdown",
   "metadata": {},
   "source": [
    "## Dictionary"
   ]
  },
  {
   "cell_type": "code",
   "execution_count": 149,
   "metadata": {},
   "outputs": [
    {
     "data": {
      "text/plain": [
       "2077"
      ]
     },
     "execution_count": 149,
     "metadata": {},
     "output_type": "execute_result"
    }
   ],
   "source": [
    "zipcode = {'sydney': 2000, 'mascot': 2020, 'hornsby': 2077} \n",
    "zipcode['hornsby']"
   ]
  },
  {
   "cell_type": "code",
   "execution_count": 107,
   "metadata": {},
   "outputs": [
    {
     "name": "stdout",
     "output_type": "stream",
     "text": [
      "zipcode of sydney is 2000\n",
      "zipcode of mascot is 2020\n",
      "zipcode of hornsby is 2077\n"
     ]
    }
   ],
   "source": [
    "for surbub, code in zipcode.items():\n",
    "    print(\"zipcode of {} is {}\".format(surbub, code))"
   ]
  },
  {
   "cell_type": "code",
   "execution_count": 150,
   "metadata": {},
   "outputs": [
    {
     "data": {
      "text/plain": [
       "{'sydney': 2000, 'mascot': 2020, 'hornsby': 2077, 'north sydney': 2055}"
      ]
     },
     "execution_count": 150,
     "metadata": {},
     "output_type": "execute_result"
    }
   ],
   "source": [
    "zipcode['north sydney'] = 2055\n",
    "zipcode"
   ]
  },
  {
   "cell_type": "code",
   "execution_count": 151,
   "metadata": {},
   "outputs": [
    {
     "data": {
      "text/plain": [
       "{'sydney': 2000, 'mascot': 2020, 'north sydney': 2055}"
      ]
     },
     "execution_count": 151,
     "metadata": {},
     "output_type": "execute_result"
    }
   ],
   "source": [
    "# remove a pair of key and value from the dictionary\n",
    "del zipcode['hornsby']\n",
    "zipcode"
   ]
  },
  {
   "cell_type": "code",
   "execution_count": 152,
   "metadata": {},
   "outputs": [
    {
     "data": {
      "text/plain": [
       "['sydney', 'mascot', 'north sydney']"
      ]
     },
     "execution_count": 152,
     "metadata": {},
     "output_type": "execute_result"
    }
   ],
   "source": [
    "[key for key in zipcode.keys()]"
   ]
  },
  {
   "cell_type": "code",
   "execution_count": 153,
   "metadata": {},
   "outputs": [
    {
     "data": {
      "text/plain": [
       "[2000, 2020, 2055]"
      ]
     },
     "execution_count": 153,
     "metadata": {},
     "output_type": "execute_result"
    }
   ],
   "source": [
    "[value for value in zipcode.values()]"
   ]
  },
  {
   "cell_type": "code",
   "execution_count": 154,
   "metadata": {},
   "outputs": [
    {
     "name": "stdout",
     "output_type": "stream",
     "text": [
      "mascot: 2020\n",
      "north sydney: 2055\n",
      "sydney: 2000\n"
     ]
    }
   ],
   "source": [
    "for key in sorted(zipcode.keys()):\n",
    "    print(\"{}: {}\".format(key, zipcode[key]))"
   ]
  },
  {
   "cell_type": "markdown",
   "metadata": {},
   "source": [
    "## Flow Control"
   ]
  },
  {
   "cell_type": "markdown",
   "metadata": {},
   "source": [
    "**Note**: below C/Java style for loop does **NOT** work in Python!!!\n",
    "```python\n",
    "for(i = 0; i < len(fruits); i++):\n",
    "    print(fruits[i])\n",
    "```"
   ]
  },
  {
   "cell_type": "code",
   "execution_count": 163,
   "metadata": {},
   "outputs": [
    {
     "name": "stdout",
     "output_type": "stream",
     "text": [
      "grape\n",
      "cherry\n",
      "banana\n",
      "apple\n"
     ]
    }
   ],
   "source": [
    "for fruit in fruits:\n",
    "    print(fruit)"
   ]
  },
  {
   "cell_type": "code",
   "execution_count": 164,
   "metadata": {},
   "outputs": [
    {
     "name": "stdout",
     "output_type": "stream",
     "text": [
      "grape\n",
      "cherry\n",
      "banana\n",
      "apple\n"
     ]
    }
   ],
   "source": [
    "i = 0;\n",
    "while i < len(fruits):\n",
    "    print(fruits[i])\n",
    "    i += 1"
   ]
  },
  {
   "cell_type": "code",
   "execution_count": 165,
   "metadata": {},
   "outputs": [
    {
     "data": {
      "text/plain": [
       "['grape', 'cherry', 'banana', 'apple']"
      ]
     },
     "execution_count": 165,
     "metadata": {},
     "output_type": "execute_result"
    }
   ],
   "source": [
    "fruits"
   ]
  },
  {
   "cell_type": "code",
   "execution_count": 166,
   "metadata": {},
   "outputs": [
    {
     "name": "stdout",
     "output_type": "stream",
     "text": [
      "do not want grape. try next.. \n",
      "yes! I love cherry!\n",
      "do not want banana. try next.. \n",
      "do not want apple. try next.. \n"
     ]
    }
   ],
   "source": [
    "for fruit in fruits:\n",
    "    if fruit == 'cherry':\n",
    "        print('yes! I love cherry!')\n",
    "    else:\n",
    "        print('do not want {}. try next.. '.format(fruit))"
   ]
  },
  {
   "cell_type": "code",
   "execution_count": 167,
   "metadata": {},
   "outputs": [
    {
     "name": "stdout",
     "output_type": "stream",
     "text": [
      "do not want grape. try next.. \n",
      "yes! I love cherry!\n"
     ]
    }
   ],
   "source": [
    "for fruit in fruits:\n",
    "    if fruit == 'cherry':\n",
    "        print('yes! I love cherry!')\n",
    "        break\n",
    "    else:\n",
    "        print('do not want {}. try next.. '.format(fruit))"
   ]
  },
  {
   "cell_type": "markdown",
   "metadata": {},
   "source": [
    "## List Comprehension"
   ]
  },
  {
   "cell_type": "code",
   "execution_count": 168,
   "metadata": {},
   "outputs": [
    {
     "name": "stdout",
     "output_type": "stream",
     "text": [
      "[0, 2, 4, 6, 8, 10, 12, 14, 16, 18]\n"
     ]
    }
   ],
   "source": [
    "my_list = []\n",
    "for i in range(20):\n",
    "    if i % 2 == 0:\n",
    "        my_list.append(i)\n",
    "\n",
    "print(my_list)"
   ]
  },
  {
   "cell_type": "code",
   "execution_count": 169,
   "metadata": {},
   "outputs": [
    {
     "name": "stdout",
     "output_type": "stream",
     "text": [
      "[0, 2, 4, 6, 8, 10, 12, 14, 16, 18]\n"
     ]
    }
   ],
   "source": [
    "my_list = [i for i in range(20) if i % 2 == 0]\n",
    "print(my_list)"
   ]
  },
  {
   "cell_type": "code",
   "execution_count": 170,
   "metadata": {},
   "outputs": [
    {
     "name": "stdout",
     "output_type": "stream",
     "text": [
      "[1, 3, 5, 7, 9]\n"
     ]
    }
   ],
   "source": [
    "a_list = [1, 2, 3, 4, 5, 6, 7, 8, 9, 10]\n",
    "b_list = [2, 4, 6, 8, 10]\n",
    "c_list = [x for x in a_list if x not in b_list]\n",
    "print(c_list)"
   ]
  },
  {
   "cell_type": "markdown",
   "metadata": {},
   "source": [
    "## Function\n",
    "\n",
    "0, 1, 1, 2, 3, 5, 8, 13, 21, 34, 55, 89, 144, ......"
   ]
  },
  {
   "cell_type": "code",
   "execution_count": 115,
   "metadata": {},
   "outputs": [],
   "source": [
    "import math"
   ]
  },
  {
   "cell_type": "code",
   "execution_count": 122,
   "metadata": {},
   "outputs": [],
   "source": [
    "def fib_list(n):\n",
    "    print('use list to calc fib sequence')\n",
    "    \n",
    "    fib = [0, 1]\n",
    "    \n",
    "    if n < 0:\n",
    "        return math.nan\n",
    "    \n",
    "    if n >= 2:\n",
    "        for i in range(2, n+1):\n",
    "            fib.append(fib[i-2] + fib[i-1])\n",
    "            \n",
    "    return fib[n]"
   ]
  },
  {
   "cell_type": "code",
   "execution_count": 123,
   "metadata": {
    "scrolled": true
   },
   "outputs": [
    {
     "name": "stdout",
     "output_type": "stream",
     "text": [
      "use list to calc fib sequence\n",
      "34\n"
     ]
    }
   ],
   "source": [
    "print(fib_list(9))"
   ]
  },
  {
   "cell_type": "code",
   "execution_count": 126,
   "metadata": {},
   "outputs": [],
   "source": [
    "def fib_recursive(n):\n",
    "    print('use recursive to calc fib sequence: ' + str(n))\n",
    "    \n",
    "    if n < 0:\n",
    "        return math.nan\n",
    "    elif n < 2:\n",
    "        return n\n",
    "    else:\n",
    "        return fib_recursive(n-2) + fib_recursive(n-1)"
   ]
  },
  {
   "cell_type": "code",
   "execution_count": 127,
   "metadata": {
    "scrolled": true
   },
   "outputs": [
    {
     "name": "stdout",
     "output_type": "stream",
     "text": [
      "use recursive to calc fib sequence: 10\n",
      "use recursive to calc fib sequence: 8\n",
      "use recursive to calc fib sequence: 6\n",
      "use recursive to calc fib sequence: 4\n",
      "use recursive to calc fib sequence: 2\n",
      "use recursive to calc fib sequence: 0\n",
      "use recursive to calc fib sequence: 1\n",
      "use recursive to calc fib sequence: 3\n",
      "use recursive to calc fib sequence: 1\n",
      "use recursive to calc fib sequence: 2\n",
      "use recursive to calc fib sequence: 0\n",
      "use recursive to calc fib sequence: 1\n",
      "use recursive to calc fib sequence: 5\n",
      "use recursive to calc fib sequence: 3\n",
      "use recursive to calc fib sequence: 1\n",
      "use recursive to calc fib sequence: 2\n",
      "use recursive to calc fib sequence: 0\n",
      "use recursive to calc fib sequence: 1\n",
      "use recursive to calc fib sequence: 4\n",
      "use recursive to calc fib sequence: 2\n",
      "use recursive to calc fib sequence: 0\n",
      "use recursive to calc fib sequence: 1\n",
      "use recursive to calc fib sequence: 3\n",
      "use recursive to calc fib sequence: 1\n",
      "use recursive to calc fib sequence: 2\n",
      "use recursive to calc fib sequence: 0\n",
      "use recursive to calc fib sequence: 1\n",
      "use recursive to calc fib sequence: 7\n",
      "use recursive to calc fib sequence: 5\n",
      "use recursive to calc fib sequence: 3\n",
      "use recursive to calc fib sequence: 1\n",
      "use recursive to calc fib sequence: 2\n",
      "use recursive to calc fib sequence: 0\n",
      "use recursive to calc fib sequence: 1\n",
      "use recursive to calc fib sequence: 4\n",
      "use recursive to calc fib sequence: 2\n",
      "use recursive to calc fib sequence: 0\n",
      "use recursive to calc fib sequence: 1\n",
      "use recursive to calc fib sequence: 3\n",
      "use recursive to calc fib sequence: 1\n",
      "use recursive to calc fib sequence: 2\n",
      "use recursive to calc fib sequence: 0\n",
      "use recursive to calc fib sequence: 1\n",
      "use recursive to calc fib sequence: 6\n",
      "use recursive to calc fib sequence: 4\n",
      "use recursive to calc fib sequence: 2\n",
      "use recursive to calc fib sequence: 0\n",
      "use recursive to calc fib sequence: 1\n",
      "use recursive to calc fib sequence: 3\n",
      "use recursive to calc fib sequence: 1\n",
      "use recursive to calc fib sequence: 2\n",
      "use recursive to calc fib sequence: 0\n",
      "use recursive to calc fib sequence: 1\n",
      "use recursive to calc fib sequence: 5\n",
      "use recursive to calc fib sequence: 3\n",
      "use recursive to calc fib sequence: 1\n",
      "use recursive to calc fib sequence: 2\n",
      "use recursive to calc fib sequence: 0\n",
      "use recursive to calc fib sequence: 1\n",
      "use recursive to calc fib sequence: 4\n",
      "use recursive to calc fib sequence: 2\n",
      "use recursive to calc fib sequence: 0\n",
      "use recursive to calc fib sequence: 1\n",
      "use recursive to calc fib sequence: 3\n",
      "use recursive to calc fib sequence: 1\n",
      "use recursive to calc fib sequence: 2\n",
      "use recursive to calc fib sequence: 0\n",
      "use recursive to calc fib sequence: 1\n",
      "use recursive to calc fib sequence: 9\n",
      "use recursive to calc fib sequence: 7\n",
      "use recursive to calc fib sequence: 5\n",
      "use recursive to calc fib sequence: 3\n",
      "use recursive to calc fib sequence: 1\n",
      "use recursive to calc fib sequence: 2\n",
      "use recursive to calc fib sequence: 0\n",
      "use recursive to calc fib sequence: 1\n",
      "use recursive to calc fib sequence: 4\n",
      "use recursive to calc fib sequence: 2\n",
      "use recursive to calc fib sequence: 0\n",
      "use recursive to calc fib sequence: 1\n",
      "use recursive to calc fib sequence: 3\n",
      "use recursive to calc fib sequence: 1\n",
      "use recursive to calc fib sequence: 2\n",
      "use recursive to calc fib sequence: 0\n",
      "use recursive to calc fib sequence: 1\n",
      "use recursive to calc fib sequence: 6\n",
      "use recursive to calc fib sequence: 4\n",
      "use recursive to calc fib sequence: 2\n",
      "use recursive to calc fib sequence: 0\n",
      "use recursive to calc fib sequence: 1\n",
      "use recursive to calc fib sequence: 3\n",
      "use recursive to calc fib sequence: 1\n",
      "use recursive to calc fib sequence: 2\n",
      "use recursive to calc fib sequence: 0\n",
      "use recursive to calc fib sequence: 1\n",
      "use recursive to calc fib sequence: 5\n",
      "use recursive to calc fib sequence: 3\n",
      "use recursive to calc fib sequence: 1\n",
      "use recursive to calc fib sequence: 2\n",
      "use recursive to calc fib sequence: 0\n",
      "use recursive to calc fib sequence: 1\n",
      "use recursive to calc fib sequence: 4\n",
      "use recursive to calc fib sequence: 2\n",
      "use recursive to calc fib sequence: 0\n",
      "use recursive to calc fib sequence: 1\n",
      "use recursive to calc fib sequence: 3\n",
      "use recursive to calc fib sequence: 1\n",
      "use recursive to calc fib sequence: 2\n",
      "use recursive to calc fib sequence: 0\n",
      "use recursive to calc fib sequence: 1\n",
      "use recursive to calc fib sequence: 8\n",
      "use recursive to calc fib sequence: 6\n",
      "use recursive to calc fib sequence: 4\n",
      "use recursive to calc fib sequence: 2\n",
      "use recursive to calc fib sequence: 0\n",
      "use recursive to calc fib sequence: 1\n",
      "use recursive to calc fib sequence: 3\n",
      "use recursive to calc fib sequence: 1\n",
      "use recursive to calc fib sequence: 2\n",
      "use recursive to calc fib sequence: 0\n",
      "use recursive to calc fib sequence: 1\n",
      "use recursive to calc fib sequence: 5\n",
      "use recursive to calc fib sequence: 3\n",
      "use recursive to calc fib sequence: 1\n",
      "use recursive to calc fib sequence: 2\n",
      "use recursive to calc fib sequence: 0\n",
      "use recursive to calc fib sequence: 1\n",
      "use recursive to calc fib sequence: 4\n",
      "use recursive to calc fib sequence: 2\n",
      "use recursive to calc fib sequence: 0\n",
      "use recursive to calc fib sequence: 1\n",
      "use recursive to calc fib sequence: 3\n",
      "use recursive to calc fib sequence: 1\n",
      "use recursive to calc fib sequence: 2\n",
      "use recursive to calc fib sequence: 0\n",
      "use recursive to calc fib sequence: 1\n",
      "use recursive to calc fib sequence: 7\n",
      "use recursive to calc fib sequence: 5\n",
      "use recursive to calc fib sequence: 3\n",
      "use recursive to calc fib sequence: 1\n",
      "use recursive to calc fib sequence: 2\n",
      "use recursive to calc fib sequence: 0\n",
      "use recursive to calc fib sequence: 1\n",
      "use recursive to calc fib sequence: 4\n",
      "use recursive to calc fib sequence: 2\n",
      "use recursive to calc fib sequence: 0\n",
      "use recursive to calc fib sequence: 1\n",
      "use recursive to calc fib sequence: 3\n",
      "use recursive to calc fib sequence: 1\n",
      "use recursive to calc fib sequence: 2\n",
      "use recursive to calc fib sequence: 0\n",
      "use recursive to calc fib sequence: 1\n",
      "use recursive to calc fib sequence: 6\n",
      "use recursive to calc fib sequence: 4\n",
      "use recursive to calc fib sequence: 2\n",
      "use recursive to calc fib sequence: 0\n",
      "use recursive to calc fib sequence: 1\n",
      "use recursive to calc fib sequence: 3\n",
      "use recursive to calc fib sequence: 1\n",
      "use recursive to calc fib sequence: 2\n",
      "use recursive to calc fib sequence: 0\n",
      "use recursive to calc fib sequence: 1\n",
      "use recursive to calc fib sequence: 5\n",
      "use recursive to calc fib sequence: 3\n",
      "use recursive to calc fib sequence: 1\n",
      "use recursive to calc fib sequence: 2\n",
      "use recursive to calc fib sequence: 0\n",
      "use recursive to calc fib sequence: 1\n",
      "use recursive to calc fib sequence: 4\n",
      "use recursive to calc fib sequence: 2\n",
      "use recursive to calc fib sequence: 0\n",
      "use recursive to calc fib sequence: 1\n",
      "use recursive to calc fib sequence: 3\n",
      "use recursive to calc fib sequence: 1\n",
      "use recursive to calc fib sequence: 2\n",
      "use recursive to calc fib sequence: 0\n",
      "use recursive to calc fib sequence: 1\n",
      "55\n"
     ]
    }
   ],
   "source": [
    "print(fib_recursive(10))"
   ]
  },
  {
   "cell_type": "code",
   "execution_count": 128,
   "metadata": {},
   "outputs": [],
   "source": [
    "def fib(f, n):\n",
    "    return f(n)"
   ]
  },
  {
   "cell_type": "code",
   "execution_count": 129,
   "metadata": {},
   "outputs": [
    {
     "name": "stdout",
     "output_type": "stream",
     "text": [
      "use list to calc fib sequence\n"
     ]
    },
    {
     "data": {
      "text/plain": [
       "55"
      ]
     },
     "execution_count": 129,
     "metadata": {},
     "output_type": "execute_result"
    }
   ],
   "source": [
    "fib(fib_list, 10)"
   ]
  },
  {
   "cell_type": "markdown",
   "metadata": {},
   "source": [
    "## Lambda"
   ]
  },
  {
   "cell_type": "code",
   "execution_count": 209,
   "metadata": {},
   "outputs": [
    {
     "data": {
      "text/plain": [
       "26"
      ]
     },
     "execution_count": 209,
     "metadata": {},
     "output_type": "execute_result"
    }
   ],
   "source": [
    "l = lambda x: x**2 + 1\n",
    "l(5)"
   ]
  },
  {
   "cell_type": "code",
   "execution_count": 204,
   "metadata": {},
   "outputs": [],
   "source": [
    "def f(x):\n",
    "    r = x**2 + 1\n",
    "    return r"
   ]
  },
  {
   "cell_type": "code",
   "execution_count": 205,
   "metadata": {},
   "outputs": [
    {
     "data": {
      "text/plain": [
       "26"
      ]
     },
     "execution_count": 205,
     "metadata": {},
     "output_type": "execute_result"
    }
   ],
   "source": [
    "f(5)"
   ]
  },
  {
   "cell_type": "code",
   "execution_count": 231,
   "metadata": {},
   "outputs": [
    {
     "data": {
      "text/plain": [
       "12"
      ]
     },
     "execution_count": 231,
     "metadata": {},
     "output_type": "execute_result"
    }
   ],
   "source": [
    "l2 = lambda x, y: x**2 + y + 5\n",
    "l2(2, 3)"
   ]
  },
  {
   "cell_type": "markdown",
   "metadata": {},
   "source": [
    "## [built-in functions](https://docs.python.org/3/library/functions.html#map)"
   ]
  },
  {
   "cell_type": "markdown",
   "metadata": {},
   "source": [
    "### map"
   ]
  },
  {
   "cell_type": "code",
   "execution_count": 131,
   "metadata": {},
   "outputs": [],
   "source": [
    "numbers = [1, 2, 3, 4, 5]"
   ]
  },
  {
   "cell_type": "code",
   "execution_count": 133,
   "metadata": {},
   "outputs": [
    {
     "data": {
      "text/plain": [
       "[2, 5, 10, 17, 26]"
      ]
     },
     "execution_count": 133,
     "metadata": {},
     "output_type": "execute_result"
    }
   ],
   "source": [
    "l = lambda x: x**2 + 1\n",
    "list(map(l, numbers))"
   ]
  },
  {
   "cell_type": "code",
   "execution_count": 134,
   "metadata": {},
   "outputs": [
    {
     "data": {
      "text/plain": [
       "[2, 9, 28, 65, 126]"
      ]
     },
     "execution_count": 134,
     "metadata": {},
     "output_type": "execute_result"
    }
   ],
   "source": [
    "list(map(lambda x: x**3 + 1, numbers))"
   ]
  },
  {
   "cell_type": "code",
   "execution_count": 135,
   "metadata": {
    "scrolled": true
   },
   "outputs": [
    {
     "data": {
      "text/plain": [
       "[2, 9, 28, 65, 126]"
      ]
     },
     "execution_count": 135,
     "metadata": {},
     "output_type": "execute_result"
    }
   ],
   "source": [
    "[x**3 + 1 for x in numbers]"
   ]
  },
  {
   "cell_type": "markdown",
   "metadata": {},
   "source": [
    "### filter"
   ]
  },
  {
   "cell_type": "code",
   "execution_count": 139,
   "metadata": {},
   "outputs": [
    {
     "data": {
      "text/plain": [
       "[2, 4]"
      ]
     },
     "execution_count": 139,
     "metadata": {},
     "output_type": "execute_result"
    }
   ],
   "source": [
    "list(filter(lambda x: x % 2 == 0, numbers))"
   ]
  },
  {
   "cell_type": "code",
   "execution_count": 141,
   "metadata": {},
   "outputs": [],
   "source": [
    "names = ['alex', 'bob', 'austin', 'angelica', 'charlie']"
   ]
  },
  {
   "cell_type": "code",
   "execution_count": 142,
   "metadata": {},
   "outputs": [
    {
     "data": {
      "text/plain": [
       "['alex', 'austin', 'angelica']"
      ]
     },
     "execution_count": 142,
     "metadata": {},
     "output_type": "execute_result"
    }
   ],
   "source": [
    "list(filter(lambda x: x[0] == 'a', names))"
   ]
  },
  {
   "cell_type": "code",
   "execution_count": 143,
   "metadata": {},
   "outputs": [
    {
     "data": {
      "text/plain": [
       "[5, 17]"
      ]
     },
     "execution_count": 143,
     "metadata": {},
     "output_type": "execute_result"
    }
   ],
   "source": [
    "list(map(\n",
    "        lambda x: x**2 + 1, \n",
    "        list(filter(lambda x: x % 2 == 0, numbers)),\n",
    "     ))"
   ]
  },
  {
   "cell_type": "markdown",
   "metadata": {},
   "source": [
    "### abs, sum, round"
   ]
  },
  {
   "cell_type": "code",
   "execution_count": 226,
   "metadata": {},
   "outputs": [
    {
     "data": {
      "text/plain": [
       "1"
      ]
     },
     "execution_count": 226,
     "metadata": {},
     "output_type": "execute_result"
    }
   ],
   "source": [
    "abs(-1)"
   ]
  },
  {
   "cell_type": "code",
   "execution_count": 227,
   "metadata": {},
   "outputs": [
    {
     "data": {
      "text/plain": [
       "10"
      ]
     },
     "execution_count": 227,
     "metadata": {},
     "output_type": "execute_result"
    }
   ],
   "source": [
    "abs(10)"
   ]
  },
  {
   "cell_type": "code",
   "execution_count": 228,
   "metadata": {
    "scrolled": true
   },
   "outputs": [
    {
     "data": {
      "text/plain": [
       "6"
      ]
     },
     "execution_count": 228,
     "metadata": {},
     "output_type": "execute_result"
    }
   ],
   "source": [
    "sum([1,2,3])"
   ]
  },
  {
   "cell_type": "code",
   "execution_count": 229,
   "metadata": {},
   "outputs": [
    {
     "data": {
      "text/plain": [
       "3.14"
      ]
     },
     "execution_count": 229,
     "metadata": {},
     "output_type": "execute_result"
    }
   ],
   "source": [
    "# by default round to integer, can specify precision\n",
    "round(3.1415926, 2)"
   ]
  },
  {
   "cell_type": "markdown",
   "metadata": {},
   "source": [
    "### min, max"
   ]
  },
  {
   "cell_type": "code",
   "execution_count": 232,
   "metadata": {},
   "outputs": [
    {
     "data": {
      "text/plain": [
       "3"
      ]
     },
     "execution_count": 232,
     "metadata": {},
     "output_type": "execute_result"
    }
   ],
   "source": [
    "max([1,2,3])"
   ]
  },
  {
   "cell_type": "code",
   "execution_count": 233,
   "metadata": {},
   "outputs": [
    {
     "data": {
      "text/plain": [
       "1"
      ]
     },
     "execution_count": 233,
     "metadata": {},
     "output_type": "execute_result"
    }
   ],
   "source": [
    "min((1,2,3))"
   ]
  },
  {
   "cell_type": "code",
   "execution_count": 156,
   "metadata": {},
   "outputs": [],
   "source": [
    "dict_a = {'A': 1, 'B': 20, 'C': 2}"
   ]
  },
  {
   "cell_type": "code",
   "execution_count": 157,
   "metadata": {},
   "outputs": [
    {
     "data": {
      "text/plain": [
       "'C'"
      ]
     },
     "execution_count": 157,
     "metadata": {},
     "output_type": "execute_result"
    }
   ],
   "source": [
    "max(dict_a)"
   ]
  },
  {
   "cell_type": "code",
   "execution_count": 159,
   "metadata": {},
   "outputs": [
    {
     "data": {
      "text/plain": [
       "('B', 20)"
      ]
     },
     "execution_count": 159,
     "metadata": {},
     "output_type": "execute_result"
    }
   ],
   "source": [
    "max(dict_a.items(), key=lambda x: x[1])"
   ]
  },
  {
   "cell_type": "code",
   "execution_count": 234,
   "metadata": {},
   "outputs": [],
   "source": [
    "# given a list of numbers, return the max magnitude \n",
    "def max_magnitude(l):\n",
    "    return max([abs(x) for x in l])"
   ]
  },
  {
   "cell_type": "code",
   "execution_count": 235,
   "metadata": {},
   "outputs": [],
   "source": [
    "max_magnitude = lambda l: max([abs(x) for x in l])"
   ]
  },
  {
   "cell_type": "code",
   "execution_count": 236,
   "metadata": {},
   "outputs": [
    {
     "data": {
      "text/plain": [
       "10"
      ]
     },
     "execution_count": 236,
     "metadata": {},
     "output_type": "execute_result"
    }
   ],
   "source": [
    "max_magnitude([-10, -3, 5, 6])"
   ]
  },
  {
   "cell_type": "markdown",
   "metadata": {},
   "source": [
    "### any, all"
   ]
  },
  {
   "cell_type": "code",
   "execution_count": 237,
   "metadata": {},
   "outputs": [
    {
     "data": {
      "text/plain": [
       "True"
      ]
     },
     "execution_count": 237,
     "metadata": {},
     "output_type": "execute_result"
    }
   ],
   "source": [
    "any([True, True, False])"
   ]
  },
  {
   "cell_type": "code",
   "execution_count": 238,
   "metadata": {},
   "outputs": [
    {
     "data": {
      "text/plain": [
       "False"
      ]
     },
     "execution_count": 238,
     "metadata": {},
     "output_type": "execute_result"
    }
   ],
   "source": [
    "any([False, False, False])"
   ]
  },
  {
   "cell_type": "code",
   "execution_count": 239,
   "metadata": {},
   "outputs": [
    {
     "data": {
      "text/plain": [
       "True"
      ]
     },
     "execution_count": 239,
     "metadata": {},
     "output_type": "execute_result"
    }
   ],
   "source": [
    "all([True, True, True])"
   ]
  },
  {
   "cell_type": "code",
   "execution_count": 240,
   "metadata": {},
   "outputs": [
    {
     "data": {
      "text/plain": [
       "False"
      ]
     },
     "execution_count": 240,
     "metadata": {},
     "output_type": "execute_result"
    }
   ],
   "source": [
    "all([True, True, False])"
   ]
  },
  {
   "cell_type": "code",
   "execution_count": 163,
   "metadata": {},
   "outputs": [],
   "source": [
    "# given a list of ages, all grown ups?\n",
    "def is_all_grownups(ages):\n",
    "    return all(age >= 18 for age in ages)"
   ]
  },
  {
   "cell_type": "code",
   "execution_count": 165,
   "metadata": {},
   "outputs": [],
   "source": [
    "is_all_grownups = lambda ages: all(age >= 18 for age in ages)"
   ]
  },
  {
   "cell_type": "code",
   "execution_count": 166,
   "metadata": {},
   "outputs": [
    {
     "data": {
      "text/plain": [
       "False"
      ]
     },
     "execution_count": 166,
     "metadata": {},
     "output_type": "execute_result"
    }
   ],
   "source": [
    "ages = [10, 12, 20, 24, 30]\n",
    "is_all_grownups(ages)"
   ]
  },
  {
   "cell_type": "markdown",
   "metadata": {},
   "source": [
    "### sorted, reversed"
   ]
  },
  {
   "cell_type": "code",
   "execution_count": 167,
   "metadata": {},
   "outputs": [
    {
     "data": {
      "text/plain": [
       "['alex', 'bob', 'austin', 'angelica', 'charlie']"
      ]
     },
     "execution_count": 167,
     "metadata": {},
     "output_type": "execute_result"
    }
   ],
   "source": [
    "names"
   ]
  },
  {
   "cell_type": "code",
   "execution_count": 168,
   "metadata": {},
   "outputs": [
    {
     "data": {
      "text/plain": [
       "['charlie', 'angelica', 'austin', 'bob', 'alex']"
      ]
     },
     "execution_count": 168,
     "metadata": {},
     "output_type": "execute_result"
    }
   ],
   "source": [
    "list(reversed(names))"
   ]
  },
  {
   "cell_type": "code",
   "execution_count": 169,
   "metadata": {},
   "outputs": [
    {
     "data": {
      "text/plain": [
       "['charlie', 'angelica', 'austin', 'bob', 'alex']"
      ]
     },
     "execution_count": 169,
     "metadata": {},
     "output_type": "execute_result"
    }
   ],
   "source": [
    "names[::-1]"
   ]
  },
  {
   "cell_type": "code",
   "execution_count": 170,
   "metadata": {},
   "outputs": [
    {
     "data": {
      "text/plain": [
       "['alex', 'angelica', 'austin', 'bob', 'charlie']"
      ]
     },
     "execution_count": 170,
     "metadata": {},
     "output_type": "execute_result"
    }
   ],
   "source": [
    "sorted(names)"
   ]
  },
  {
   "cell_type": "code",
   "execution_count": 171,
   "metadata": {},
   "outputs": [
    {
     "data": {
      "text/plain": [
       "['alex', 'bob', 'austin', 'angelica', 'charlie']"
      ]
     },
     "execution_count": 171,
     "metadata": {},
     "output_type": "execute_result"
    }
   ],
   "source": [
    "names"
   ]
  },
  {
   "cell_type": "code",
   "execution_count": 172,
   "metadata": {},
   "outputs": [],
   "source": [
    "names.sort()"
   ]
  },
  {
   "cell_type": "code",
   "execution_count": 173,
   "metadata": {},
   "outputs": [
    {
     "data": {
      "text/plain": [
       "['alex', 'angelica', 'austin', 'bob', 'charlie']"
      ]
     },
     "execution_count": 173,
     "metadata": {},
     "output_type": "execute_result"
    }
   ],
   "source": [
    "names"
   ]
  },
  {
   "cell_type": "markdown",
   "metadata": {},
   "source": [
    "### zip"
   ]
  },
  {
   "cell_type": "code",
   "execution_count": 176,
   "metadata": {},
   "outputs": [],
   "source": [
    "math_scores = [60, 70, 80, 90, 100]\n",
    "music_scores = [95, 96, 97, 98, 99]"
   ]
  },
  {
   "cell_type": "code",
   "execution_count": 177,
   "metadata": {
    "scrolled": true
   },
   "outputs": [
    {
     "data": {
      "text/plain": [
       "[('alex', 60, 95),\n",
       " ('angelica', 70, 96),\n",
       " ('austin', 80, 97),\n",
       " ('bob', 90, 98),\n",
       " ('charlie', 100, 99)]"
      ]
     },
     "execution_count": 177,
     "metadata": {},
     "output_type": "execute_result"
    }
   ],
   "source": [
    "[r for r in zip(names, math_scores, music_scores)]"
   ]
  },
  {
   "cell_type": "code",
   "execution_count": 178,
   "metadata": {},
   "outputs": [
    {
     "data": {
      "text/plain": [
       "[('alex', 77.5),\n",
       " ('angelica', 83.0),\n",
       " ('austin', 88.5),\n",
       " ('bob', 94.0),\n",
       " ('charlie', 99.5)]"
      ]
     },
     "execution_count": 178,
     "metadata": {},
     "output_type": "execute_result"
    }
   ],
   "source": [
    "# average score\n",
    "[(r[0], (r[1] + r[2]) / 2) for r in zip(names, math_scores, music_scores)]"
   ]
  },
  {
   "cell_type": "code",
   "execution_count": 179,
   "metadata": {},
   "outputs": [
    {
     "data": {
      "text/plain": [
       "[('alex', 95), ('angelica', 96), ('austin', 97), ('bob', 98), ('charlie', 100)]"
      ]
     },
     "execution_count": 179,
     "metadata": {},
     "output_type": "execute_result"
    }
   ],
   "source": [
    "# max score\n",
    "[(r[0], max((r[1], r[2]))) for r in zip(names, math_scores, music_scores)]"
   ]
  },
  {
   "cell_type": "code",
   "execution_count": 180,
   "metadata": {},
   "outputs": [
    {
     "data": {
      "text/plain": [
       "[('alex', 95), ('angelica', 96), ('austin', 97), ('bob', 98), ('charlie', 100)]"
      ]
     },
     "execution_count": 180,
     "metadata": {},
     "output_type": "execute_result"
    }
   ],
   "source": [
    "[(name, max([math, music])) for name, math, music in zip(names, math_scores, music_scores)]"
   ]
  },
  {
   "cell_type": "markdown",
   "metadata": {},
   "source": [
    "## Error Handling"
   ]
  },
  {
   "cell_type": "code",
   "execution_count": 184,
   "metadata": {},
   "outputs": [],
   "source": [
    "fruits = ['grape', 'cherry', 'banana', 'apple']"
   ]
  },
  {
   "cell_type": "code",
   "execution_count": 188,
   "metadata": {},
   "outputs": [
    {
     "name": "stdout",
     "output_type": "stream",
     "text": [
      "grape\n",
      "========================================\n",
      "cherry\n",
      "========================================\n",
      "banana\n",
      "========================================\n",
      "apple\n",
      "========================================\n",
      "Already reach the end of the list\n",
      "========================================\n"
     ]
    }
   ],
   "source": [
    "it = iter(fruits)\n",
    "while True:\n",
    "    try:\n",
    "        fruit = next(it)\n",
    "    except StopIteration:\n",
    "        print('Already reach the end of the list')\n",
    "        break\n",
    "    else:   # always execute 'print' or 'return' statements in ELSE block if no error occurs\n",
    "        print(fruit)\n",
    "    finally:\n",
    "        print('=' * 40)"
   ]
  },
  {
   "cell_type": "code",
   "execution_count": 198,
   "metadata": {},
   "outputs": [],
   "source": [
    "def graceful_divide(a, b):\n",
    "    try:\n",
    "        r = a/b\n",
    "    except ZeroDivisionError:\n",
    "        return f\"ERROR: cannot divide by zero. b = {b}\"\n",
    "    except TypeError:\n",
    "        return f\"ERROR: both numerator and denominator have to be numbers. a = {a}, b = {b}\"\n",
    "    else:     # always execute 'print' or 'return' statements in ELSE block if no error occurs\n",
    "        return r\n",
    "    finally:\n",
    "        print('-' * 40)"
   ]
  },
  {
   "cell_type": "code",
   "execution_count": 199,
   "metadata": {},
   "outputs": [
    {
     "name": "stdout",
     "output_type": "stream",
     "text": [
      "----------------------------------------\n",
      "ERROR: both numerator and denominator have to be numbers. a = ['a'], b = ['b']\n",
      "----------------------------------------\n",
      "ERROR: cannot divide by zero. b = 0\n",
      "----------------------------------------\n",
      "3.0\n"
     ]
    }
   ],
   "source": [
    "print(graceful_divide(['a'], ['b']))\n",
    "print(graceful_divide(30, 0))\n",
    "print(graceful_divide(30, 10))"
   ]
  },
  {
   "cell_type": "markdown",
   "metadata": {},
   "source": [
    "## Object Oriented Programming (OOP)"
   ]
  },
  {
   "cell_type": "code",
   "execution_count": 210,
   "metadata": {},
   "outputs": [],
   "source": [
    "class Animal:\n",
    "    def __init__(self, name, age):\n",
    "        self.name = name\n",
    "        self.age = age\n",
    "    \n",
    "    def speak(self):\n",
    "        raise NotImplmentedError('speak() method needs to be implemented')"
   ]
  },
  {
   "cell_type": "code",
   "execution_count": 211,
   "metadata": {},
   "outputs": [],
   "source": [
    "class Dog(Animal):\n",
    "    \n",
    "    TYPE = 'Animal'\n",
    "    \n",
    "    def __init__(self, color, name, age):\n",
    "        super(Dog, self).__init__(name, age)   #call base class Animal\n",
    "        self.color = color\n",
    "        \n",
    "    def speak(self):\n",
    "        print('woof woof woof')\n",
    "        \n",
    "    def sit(self):\n",
    "        print(self.name.title() + ' is now sitting')\n",
    "        \n",
    "    def jump(self):\n",
    "        print(self.name.title() + ' is now jumping')\n",
    "    \n",
    "    def rollOver(self):\n",
    "        print(self.name.title() + ' is now rolling over')\n",
    "        \n",
    "    def time_machine(self):\n",
    "        if self.age >= 1:\n",
    "            self.age -= 1\n",
    "            \n",
    "    def play(self, n1, n2):\n",
    "        if n1 + n2 > 10:\n",
    "            print('too complicated')\n",
    "        else:\n",
    "            n = n1 + n2\n",
    "            i = 0\n",
    "            while i < n:\n",
    "                print('bark')\n",
    "                i += 1\n",
    "                \n",
    "    def get_name(self):\n",
    "        return self.name\n",
    "    \n",
    "    def get_age(self):\n",
    "        return self.age\n",
    "    \n",
    "    def get_type(self):\n",
    "        return self.TYPE"
   ]
  },
  {
   "cell_type": "code",
   "execution_count": 212,
   "metadata": {},
   "outputs": [],
   "source": [
    "myDog = Dog('white', 'bingo', 3)"
   ]
  },
  {
   "cell_type": "code",
   "execution_count": 213,
   "metadata": {},
   "outputs": [
    {
     "name": "stdout",
     "output_type": "stream",
     "text": [
      "woof woof woof\n",
      "Bingo is now rolling over\n",
      "too complicated\n"
     ]
    }
   ],
   "source": [
    "myDog.speak()\n",
    "myDog.rollOver()\n",
    "myDog.play(3, 9)"
   ]
  },
  {
   "cell_type": "code",
   "execution_count": 214,
   "metadata": {},
   "outputs": [],
   "source": [
    "yourDog = Dog('black', 'wang wang', 4)"
   ]
  },
  {
   "cell_type": "code",
   "execution_count": 215,
   "metadata": {},
   "outputs": [
    {
     "name": "stdout",
     "output_type": "stream",
     "text": [
      "4\n",
      "Wang Wang is now sitting\n"
     ]
    }
   ],
   "source": [
    "print(yourDog.get_age())\n",
    "yourDog.sit()"
   ]
  },
  {
   "cell_type": "code",
   "execution_count": 216,
   "metadata": {},
   "outputs": [
    {
     "name": "stdout",
     "output_type": "stream",
     "text": [
      "3\n"
     ]
    }
   ],
   "source": [
    "yourDog.time_machine()\n",
    "print(yourDog.get_age())"
   ]
  },
  {
   "cell_type": "code",
   "execution_count": 218,
   "metadata": {},
   "outputs": [
    {
     "name": "stdout",
     "output_type": "stream",
     "text": [
      "wang wang\n",
      "3\n",
      "black\n"
     ]
    }
   ],
   "source": [
    "print(yourDog.name)\n",
    "print(yourDog.age)\n",
    "print(yourDog.color)"
   ]
  },
  {
   "cell_type": "code",
   "execution_count": 30,
   "metadata": {},
   "outputs": [
    {
     "name": "stdout",
     "output_type": "stream",
     "text": [
      "Animal\n",
      "Animal\n"
     ]
    }
   ],
   "source": [
    "print(Dog.TYPE)\n",
    "print(yourDog.TYPE)"
   ]
  },
  {
   "cell_type": "code",
   "execution_count": 219,
   "metadata": {},
   "outputs": [],
   "source": [
    "class Cat(Animal):\n",
    "    def __init__(self, name, age):\n",
    "        super(Cat, self).__init__(name, age)\n",
    "    \n",
    "    def speak(self):\n",
    "        print('moew moew moew')"
   ]
  },
  {
   "cell_type": "code",
   "execution_count": 220,
   "metadata": {},
   "outputs": [],
   "source": [
    "my_cat = Cat('huahua', 2)"
   ]
  },
  {
   "cell_type": "code",
   "execution_count": 221,
   "metadata": {},
   "outputs": [
    {
     "name": "stdout",
     "output_type": "stream",
     "text": [
      "moew moew moew\n"
     ]
    }
   ],
   "source": [
    "my_cat.speak()"
   ]
  },
  {
   "cell_type": "code",
   "execution_count": 222,
   "metadata": {},
   "outputs": [
    {
     "name": "stdout",
     "output_type": "stream",
     "text": [
      "A Maxine\n",
      "B 29\n",
      "C female\n",
      "D 97\n"
     ]
    },
    {
     "data": {
      "text/plain": [
       "<__main__.D at 0x23d870e1a50>"
      ]
     },
     "execution_count": 222,
     "metadata": {},
     "output_type": "execute_result"
    }
   ],
   "source": [
    "# base class 1\n",
    "class A:\n",
    "    def __init__(self, name):\n",
    "        print('A ' + name)\n",
    "        self.name = name\n",
    "\n",
    "# base class 2\n",
    "class B:\n",
    "    def __init__(self, age):\n",
    "        print('B ' + str(age))\n",
    "        self.age = age\n",
    "\n",
    "# base class 3\n",
    "class C:\n",
    "    def __init__(self, gender):\n",
    "        print('C ' + gender)\n",
    "        self.gender = gender\n",
    "\n",
    "class D(A, B, C):\n",
    "    def __init__(self, score, name, age, gender):\n",
    "        super(D, self).__init__(name)\n",
    "        super(A, self).__init__(age)\n",
    "        super(B, self).__init__(gender)\n",
    "        print('D ' + str(score))\n",
    "        self.score = score\n",
    "\n",
    "person = D(97, 'Maxine', 29, 'female')\n",
    "person"
   ]
  },
  {
   "cell_type": "code",
   "execution_count": 223,
   "metadata": {},
   "outputs": [
    {
     "name": "stdout",
     "output_type": "stream",
     "text": [
      "[<class '__main__.E'>, <class '__main__.C'>, <class '__main__.A'>, <class '__main__.D'>, <class '__main__.B'>, <class 'object'>]\n",
      "(<class '__main__.E'>, <class '__main__.C'>, <class '__main__.A'>, <class '__main__.D'>, <class '__main__.B'>, <class 'object'>)\n"
     ]
    }
   ],
   "source": [
    "class A:\n",
    "    pass\n",
    "\n",
    "class B:\n",
    "    pass\n",
    "\n",
    "class C(A):\n",
    "    pass\n",
    "\n",
    "class D(B):\n",
    "    pass\n",
    "\n",
    "class E(C, D):\n",
    "    pass\n",
    "\n",
    "print(E.mro())\n",
    "print(E.__mro__)"
   ]
  },
  {
   "cell_type": "markdown",
   "metadata": {},
   "source": [
    "## [Regular Expression](https://pythex.org/)"
   ]
  },
  {
   "cell_type": "markdown",
   "metadata": {},
   "source": [
    "A regular expression is simply a sequence of characters that define a pattern.\n",
    "\n",
    "* validate an email\n",
    "* extract data\n",
    "* data wrangling\n",
    "* web scraping\n",
    "* simple parsing"
   ]
  },
  {
   "cell_type": "markdown",
   "metadata": {},
   "source": [
    "#### Regular Expression Examples:\n",
    "\n",
    "- *: 0 or more\n",
    "- +: 1 or more\n",
    "- \\d: 1 digit\n",
    "- \\w: Alphanumeric \\[0-9a-zA-Z\\_\\]\n",
    "- \\b: white space boundary around \\w\n",
    "- |: or\n",
    "- \\\\: escape special characters\n",
    "\n",
    "examples: <br>\n",
    "PATTERN = '0412\\s+345\\s\\*678' &nbsp;&nbsp;&nbsp;MATCH = '0412&nbsp;&nbsp;&nbsp;&nbsp;345678'<br>\n",
    "PATTERN = '\\d{4}\\s+\\d{3}\\s\\*\\d{3}'&nbsp;&nbsp;&nbsp;&nbsp;MATCH = '0412&nbsp;&nbsp;&nbsp;&nbsp;345678'<br>\n",
    "PATTERN = '\\b\\w{4}\\b'&nbsp;&nbsp;&nbsp;&nbsp;MATCH = 'pls **call** me at 0405 613 647'<br>\n",
    "PATTERN = '\\d{4}\\s\\*\\d{3}\\s\\*\\d{3}\\|\\\\w+@\\\\w+\\\\.com&nbsp;&nbsp;&nbsp;&nbsp;MATCH = 'pls call me at **0405 613 647** email to **alex@gmail\\.com**'<br>\n",
    "PATTERN = '\\d{4}\\s\\*\\d{3}\\s\\*\\d{3}|\\[A-Za-z\\\\.\\]+@\\[\\w\\\\-\\]+\\\\.\\[a-z\\]+'&nbsp;&nbsp;&nbsp;&nbsp;MATCH = 'pls call me at **0405 613 647** email **alex.green@some-domain\\.com**'"
   ]
  },
  {
   "cell_type": "markdown",
   "metadata": {},
   "source": [
    "### match\n",
    "\n",
    "If zero or more characters at the beginning of string match the regular expression pattern, return a corresponding match object. Return None if the string does not match the pattern;"
   ]
  },
  {
   "cell_type": "code",
   "execution_count": 224,
   "metadata": {},
   "outputs": [],
   "source": [
    "import re\n",
    "\n",
    "string = 'Regex is awesome'"
   ]
  },
  {
   "cell_type": "code",
   "execution_count": 35,
   "metadata": {},
   "outputs": [
    {
     "name": "stdout",
     "output_type": "stream",
     "text": [
      "Regex\n"
     ]
    }
   ],
   "source": [
    "match1 = re.search(r'regex', string, flags=re.IGNORECASE)\n",
    "if match1 is not None:\n",
    "    print(match1.group())\n",
    "else:\n",
    "    print('No Match')"
   ]
  },
  {
   "cell_type": "code",
   "execution_count": 230,
   "metadata": {},
   "outputs": [
    {
     "name": "stdout",
     "output_type": "stream",
     "text": [
      "No Match\n"
     ]
    }
   ],
   "source": [
    "match2 = re.search(r'\\Aawesome', string, flags=re.IGNORECASE)\n",
    "if match2 is not None:\n",
    "    print(match1.group())\n",
    "else:\n",
    "    print('No Match')"
   ]
  },
  {
   "cell_type": "markdown",
   "metadata": {},
   "source": [
    "### search\n",
    "\n",
    "Scan through string looking for the first location where the regular expression pattern produces a match, and return a corresponding match object. Return None if no position in the string matches the pattern"
   ]
  },
  {
   "cell_type": "code",
   "execution_count": 233,
   "metadata": {},
   "outputs": [
    {
     "data": {
      "text/plain": [
       "['IS', 'is', 'Is', 'is']"
      ]
     },
     "execution_count": 233,
     "metadata": {},
     "output_type": "execute_result"
    }
   ],
   "source": [
    "result1 = re.findall(r'is', 'dslj IS jkjdsis fdIsgdkisljs', flags=re.IGNORECASE)\n",
    "result1"
   ]
  },
  {
   "cell_type": "code",
   "execution_count": 234,
   "metadata": {},
   "outputs": [
    {
     "name": "stdout",
     "output_type": "stream",
     "text": [
      "0405 613 647\n",
      "0405 613 647\n",
      "()\n"
     ]
    }
   ],
   "source": [
    "match3 = re.search('\\d{4}\\s*\\d{3}\\s*\\d{3}', 'call me at 0405 613 647')\n",
    "print(match3.group())\n",
    "print(match3.group(0))\n",
    "print(match3.groups())   # match.groups(): return a tuple of marked groups"
   ]
  },
  {
   "cell_type": "code",
   "execution_count": 235,
   "metadata": {},
   "outputs": [],
   "source": [
    "match4 = re.search('(\\d{4})\\s*(\\d{3})\\s*(\\d{3})', 'call me at 0405 613 647')"
   ]
  },
  {
   "cell_type": "code",
   "execution_count": 236,
   "metadata": {},
   "outputs": [
    {
     "name": "stdout",
     "output_type": "stream",
     "text": [
      "0405 613 647\n",
      "0405 613 647\n"
     ]
    }
   ],
   "source": [
    "print(match4.group(0))\n",
    "print(match4.group())"
   ]
  },
  {
   "cell_type": "code",
   "execution_count": 237,
   "metadata": {},
   "outputs": [
    {
     "data": {
      "text/plain": [
       "('0405', '613', '647')"
      ]
     },
     "execution_count": 237,
     "metadata": {},
     "output_type": "execute_result"
    }
   ],
   "source": [
    "match4.groups()"
   ]
  },
  {
   "cell_type": "code",
   "execution_count": 238,
   "metadata": {},
   "outputs": [
    {
     "name": "stdout",
     "output_type": "stream",
     "text": [
      "0405\n",
      "613\n",
      "647\n"
     ]
    }
   ],
   "source": [
    "print(match4.group(1))\n",
    "print(match4.group(2))\n",
    "print(match4.group(3))"
   ]
  },
  {
   "cell_type": "code",
   "execution_count": 239,
   "metadata": {},
   "outputs": [],
   "source": [
    "match5 = re.search(r'([a-zA-Z\\.]+)@.*', 'alex.green@gmail.com')"
   ]
  },
  {
   "cell_type": "code",
   "execution_count": 240,
   "metadata": {},
   "outputs": [
    {
     "name": "stdout",
     "output_type": "stream",
     "text": [
      "alex.green@gmail.com\n",
      "('alex.green',)\n",
      "alex.green\n"
     ]
    }
   ],
   "source": [
    "print(match5.group())\n",
    "print(match5.groups())\n",
    "print(match5.group(1))"
   ]
  },
  {
   "cell_type": "markdown",
   "metadata": {},
   "source": [
    "### re.split(pattern, string, maxsplit=0, flags=0)\n",
    "Split string by the occurrences of pattern. If capturing parentheses are used in pattern, then the text of all groups in the pattern are also returned as part of the resulting list. If maxsplit is nonzero, at most maxsplit splits occur, and the remainder of the string is returned as the final element of the list."
   ]
  },
  {
   "cell_type": "code",
   "execution_count": 241,
   "metadata": {},
   "outputs": [
    {
     "data": {
      "text/plain": [
       "['machine', 'learning', 'data', 'engineer']"
      ]
     },
     "execution_count": 241,
     "metadata": {},
     "output_type": "execute_result"
    }
   ],
   "source": [
    "re.split(r'\\W+', 'machine, learning, data engineer')"
   ]
  },
  {
   "cell_type": "code",
   "execution_count": 242,
   "metadata": {},
   "outputs": [
    {
     "data": {
      "text/plain": [
       "['machine,', 'learning,', 'data', 'engineer']"
      ]
     },
     "execution_count": 242,
     "metadata": {},
     "output_type": "execute_result"
    }
   ],
   "source": [
    "re.split(r'\\s+', 'machine, learning, data engineer')"
   ]
  },
  {
   "cell_type": "code",
   "execution_count": 243,
   "metadata": {},
   "outputs": [
    {
     "data": {
      "text/plain": [
       "['machine,learning,data', 'engineer']"
      ]
     },
     "execution_count": 243,
     "metadata": {},
     "output_type": "execute_result"
    }
   ],
   "source": [
    "re.split(r'\\s+', 'machine,learning,data engineer')"
   ]
  },
  {
   "cell_type": "markdown",
   "metadata": {},
   "source": [
    "## File IO"
   ]
  },
  {
   "cell_type": "code",
   "execution_count": 244,
   "metadata": {},
   "outputs": [
    {
     "data": {
      "text/plain": [
       "'hello world!\\nsome more content\\npython is interesting'"
      ]
     },
     "execution_count": 244,
     "metadata": {},
     "output_type": "execute_result"
    }
   ],
   "source": [
    "file = open('./data/file.txt')\n",
    "file.read()"
   ]
  },
  {
   "cell_type": "code",
   "execution_count": 245,
   "metadata": {
    "scrolled": true
   },
   "outputs": [
    {
     "data": {
      "text/plain": [
       "''"
      ]
     },
     "execution_count": 245,
     "metadata": {},
     "output_type": "execute_result"
    }
   ],
   "source": [
    "file.read()"
   ]
  },
  {
   "cell_type": "code",
   "execution_count": 246,
   "metadata": {},
   "outputs": [
    {
     "data": {
      "text/plain": [
       "0"
      ]
     },
     "execution_count": 246,
     "metadata": {},
     "output_type": "execute_result"
    }
   ],
   "source": [
    "file.seek(0)"
   ]
  },
  {
   "cell_type": "code",
   "execution_count": 247,
   "metadata": {},
   "outputs": [
    {
     "data": {
      "text/plain": [
       "'hello world!\\n'"
      ]
     },
     "execution_count": 247,
     "metadata": {},
     "output_type": "execute_result"
    }
   ],
   "source": [
    "file.readline()  # read the first line only"
   ]
  },
  {
   "cell_type": "code",
   "execution_count": 248,
   "metadata": {},
   "outputs": [
    {
     "data": {
      "text/plain": [
       "['some more content\\n', 'python is interesting']"
      ]
     },
     "execution_count": 248,
     "metadata": {},
     "output_type": "execute_result"
    }
   ],
   "source": [
    "file.readlines()"
   ]
  },
  {
   "cell_type": "code",
   "execution_count": 249,
   "metadata": {},
   "outputs": [
    {
     "data": {
      "text/plain": [
       "False"
      ]
     },
     "execution_count": 249,
     "metadata": {},
     "output_type": "execute_result"
    }
   ],
   "source": [
    "file.closed   # return boolean"
   ]
  },
  {
   "cell_type": "code",
   "execution_count": 250,
   "metadata": {},
   "outputs": [],
   "source": [
    "file.close()"
   ]
  },
  {
   "cell_type": "code",
   "execution_count": 251,
   "metadata": {},
   "outputs": [
    {
     "data": {
      "text/plain": [
       "True"
      ]
     },
     "execution_count": 251,
     "metadata": {},
     "output_type": "execute_result"
    }
   ],
   "source": [
    "file.closed"
   ]
  },
  {
   "cell_type": "code",
   "execution_count": 252,
   "metadata": {},
   "outputs": [
    {
     "ename": "ValueError",
     "evalue": "I/O operation on closed file.",
     "output_type": "error",
     "traceback": [
      "\u001b[1;31m---------------------------------------------------------------------------\u001b[0m",
      "\u001b[1;31mValueError\u001b[0m                                Traceback (most recent call last)",
      "Cell \u001b[1;32mIn[252], line 1\u001b[0m\n\u001b[1;32m----> 1\u001b[0m file\u001b[38;5;241m.\u001b[39mread()\n",
      "\u001b[1;31mValueError\u001b[0m: I/O operation on closed file."
     ]
    }
   ],
   "source": [
    "file.read()"
   ]
  },
  {
   "cell_type": "code",
   "execution_count": 253,
   "metadata": {},
   "outputs": [],
   "source": [
    "# WTIH block automatically closes file in the end\n",
    "with open('./data/file.txt') as f:\n",
    "    lines = f.readlines()"
   ]
  },
  {
   "cell_type": "code",
   "execution_count": 254,
   "metadata": {},
   "outputs": [
    {
     "data": {
      "text/plain": [
       "['hello world!\\n', 'some more content\\n', 'python is interesting']"
      ]
     },
     "execution_count": 254,
     "metadata": {},
     "output_type": "execute_result"
    }
   ],
   "source": [
    "lines"
   ]
  },
  {
   "cell_type": "code",
   "execution_count": 255,
   "metadata": {},
   "outputs": [
    {
     "data": {
      "text/plain": [
       "True"
      ]
     },
     "execution_count": 255,
     "metadata": {},
     "output_type": "execute_result"
    }
   ],
   "source": [
    "f.closed"
   ]
  },
  {
   "cell_type": "code",
   "execution_count": 256,
   "metadata": {},
   "outputs": [],
   "source": [
    "# write mode, will OVERWRITE\n",
    "with open('./data/hello.txt', 'w') as f:\n",
    "    f.write('greeting!\\n')"
   ]
  },
  {
   "cell_type": "code",
   "execution_count": 257,
   "metadata": {},
   "outputs": [],
   "source": [
    "# append mode, will append at the last\n",
    "with open('./data/hello.txt', 'a') as f:\n",
    "    f.write('good arvo!\\n')"
   ]
  },
  {
   "cell_type": "code",
   "execution_count": 258,
   "metadata": {
    "scrolled": true
   },
   "outputs": [
    {
     "name": "stdout",
     "output_type": "stream",
     "text": [
      "greeting!\n",
      "good arvo!\n",
      "\n"
     ]
    }
   ],
   "source": [
    "with open('./data/hello.txt') as f:\n",
    "    print(f.read())"
   ]
  },
  {
   "cell_type": "code",
   "execution_count": 259,
   "metadata": {},
   "outputs": [
    {
     "name": "stdout",
     "output_type": "stream",
     "text": [
      "OW!eting!\n",
      "good arvo!\n",
      "\n"
     ]
    }
   ],
   "source": [
    "with open('./data/hello.txt', 'r+') as f:\n",
    "    f.write('OW!')\n",
    "    f.seek(0)\n",
    "    print(f.read())"
   ]
  },
  {
   "cell_type": "markdown",
   "metadata": {},
   "source": [
    "## datetime & time"
   ]
  },
  {
   "cell_type": "markdown",
   "metadata": {},
   "source": [
    "### Summary"
   ]
  },
  {
   "cell_type": "markdown",
   "metadata": {},
   "source": [
    "1. time module 更接近操作系统底层，类似于Unix Timestamp. 范围1970 - 2038. \n",
    "2. datetime 在time之上，功能更加丰富灵活，首选"
   ]
  },
  {
   "cell_type": "markdown",
   "metadata": {},
   "source": [
    "### datetime module"
   ]
  },
  {
   "cell_type": "code",
   "execution_count": 260,
   "metadata": {},
   "outputs": [],
   "source": [
    "from datetime import datetime, timedelta"
   ]
  },
  {
   "cell_type": "code",
   "execution_count": 261,
   "metadata": {},
   "outputs": [
    {
     "name": "stdout",
     "output_type": "stream",
     "text": [
      "2024-07-02 00:54:38.882176\n"
     ]
    }
   ],
   "source": [
    "print(datetime.utcnow())"
   ]
  },
  {
   "cell_type": "code",
   "execution_count": 262,
   "metadata": {},
   "outputs": [
    {
     "name": "stdout",
     "output_type": "stream",
     "text": [
      "2024-07-02 10:54:41.819479\n"
     ]
    }
   ],
   "source": [
    "x = datetime.now()\n",
    "print(x)"
   ]
  },
  {
   "cell_type": "code",
   "execution_count": 263,
   "metadata": {},
   "outputs": [
    {
     "name": "stdout",
     "output_type": "stream",
     "text": [
      "2024-7-2 10:54:41.819479\n"
     ]
    }
   ],
   "source": [
    "print(f\"{x.year}-{x.month}-{x.day} {x.hour}:{x.minute}:{x.second}.{x.microsecond}\")"
   ]
  },
  {
   "cell_type": "code",
   "execution_count": 265,
   "metadata": {},
   "outputs": [
    {
     "name": "stdout",
     "output_type": "stream",
     "text": [
      "2024-06-30 17:24:21.819479\n"
     ]
    }
   ],
   "source": [
    "two_days_before = x + timedelta(days=-2) + timedelta(hours=6) + timedelta(minutes=30) + timedelta(seconds=-20)\n",
    "print(two_days_before)"
   ]
  },
  {
   "cell_type": "code",
   "execution_count": 267,
   "metadata": {},
   "outputs": [
    {
     "name": "stdout",
     "output_type": "stream",
     "text": [
      "2025-07-02 10:54:41.819505\n"
     ]
    }
   ],
   "source": [
    "one_year_after = x + timedelta(days=365) + timedelta(microseconds=26)\n",
    "print(one_year_after)"
   ]
  },
  {
   "cell_type": "code",
   "execution_count": 268,
   "metadata": {},
   "outputs": [
    {
     "data": {
      "text/plain": [
       "datetime.timedelta"
      ]
     },
     "execution_count": 268,
     "metadata": {},
     "output_type": "execute_result"
    }
   ],
   "source": [
    "diff = one_year_after - two_days_before\n",
    "type(diff)"
   ]
  },
  {
   "cell_type": "markdown",
   "metadata": {},
   "source": [
    "`datetime.timedelta` only has attributes of `days`, `seconds` and `microseconds`"
   ]
  },
  {
   "cell_type": "code",
   "execution_count": 269,
   "metadata": {},
   "outputs": [
    {
     "name": "stdout",
     "output_type": "stream",
     "text": [
      "366\n",
      "63020\n",
      "26\n"
     ]
    }
   ],
   "source": [
    "print(f\"{diff.days}\")\n",
    "print(f\"{diff.seconds}\")\n",
    "print(f\"{diff.microseconds}\")"
   ]
  },
  {
   "cell_type": "code",
   "execution_count": 270,
   "metadata": {},
   "outputs": [
    {
     "name": "stdout",
     "output_type": "stream",
     "text": [
      "0:00:03.000986\n",
      "3\n",
      "986\n"
     ]
    }
   ],
   "source": [
    "from time import sleep\n",
    "\n",
    "x1 = datetime.now()\n",
    "sleep(3)\n",
    "x2 = datetime.now()\n",
    "print(f'{(x2 - x1)}')\n",
    "print(f'{(x2 - x1).seconds}')\n",
    "print(f'{(x2 - x1).microseconds}')"
   ]
  },
  {
   "cell_type": "code",
   "execution_count": 271,
   "metadata": {},
   "outputs": [
    {
     "name": "stdout",
     "output_type": "stream",
     "text": [
      "2024-07-02\n"
     ]
    }
   ],
   "source": [
    "print(x.date())  # convert datetime to date"
   ]
  },
  {
   "cell_type": "code",
   "execution_count": 272,
   "metadata": {
    "scrolled": true
   },
   "outputs": [
    {
     "name": "stdout",
     "output_type": "stream",
     "text": [
      "10:54:41.819479\n"
     ]
    }
   ],
   "source": [
    "print(x.time())  # convert datetime to time"
   ]
  },
  {
   "cell_type": "code",
   "execution_count": 273,
   "metadata": {},
   "outputs": [
    {
     "name": "stdout",
     "output_type": "stream",
     "text": [
      "Tuesday 2024-07-02 10:54\n"
     ]
    }
   ],
   "source": [
    "# from datetime to string, use dt.strftime(format)\n",
    "print(x.strftime('%A %Y-%m-%d %H:%M'))"
   ]
  },
  {
   "cell_type": "code",
   "execution_count": 274,
   "metadata": {},
   "outputs": [
    {
     "name": "stdout",
     "output_type": "stream",
     "text": [
      "02/07/2024 10:54:41\n"
     ]
    }
   ],
   "source": [
    "print(x.strftime('%d/%m/%Y %H:%M:%S'))"
   ]
  },
  {
   "cell_type": "code",
   "execution_count": 275,
   "metadata": {},
   "outputs": [
    {
     "name": "stdout",
     "output_type": "stream",
     "text": [
      "Tue, Tuesday\n"
     ]
    }
   ],
   "source": [
    "print(x.strftime(\"%a, %A\"))"
   ]
  },
  {
   "cell_type": "markdown",
   "metadata": {},
   "source": [
    "![datetime_format](./pics/datetime-format.png)"
   ]
  },
  {
   "cell_type": "code",
   "execution_count": 276,
   "metadata": {},
   "outputs": [],
   "source": [
    "# from string to datetime, use datetime.strptime(str, format)\n",
    "datetime_str = '04/11/20 16:55:26'\n",
    "datetime_obj = datetime.strptime(datetime_str, '%m/%d/%y %H:%M:%S')"
   ]
  },
  {
   "cell_type": "code",
   "execution_count": 277,
   "metadata": {},
   "outputs": [
    {
     "name": "stdout",
     "output_type": "stream",
     "text": [
      "16\n"
     ]
    }
   ],
   "source": [
    "print(datetime_obj.hour)"
   ]
  },
  {
   "cell_type": "markdown",
   "metadata": {},
   "source": [
    "<hr />"
   ]
  },
  {
   "cell_type": "markdown",
   "metadata": {},
   "source": [
    "### time module"
   ]
  },
  {
   "cell_type": "code",
   "execution_count": 278,
   "metadata": {},
   "outputs": [],
   "source": [
    "from time import time, sleep"
   ]
  },
  {
   "cell_type": "code",
   "execution_count": 279,
   "metadata": {},
   "outputs": [
    {
     "data": {
      "text/plain": [
       "5.001169443130493"
      ]
     },
     "execution_count": 279,
     "metadata": {},
     "output_type": "execute_result"
    }
   ],
   "source": [
    "# current timestamp\n",
    "t0 = time()\n",
    "sleep(5)\n",
    "time() - t0"
   ]
  }
 ],
 "metadata": {
  "kernelspec": {
   "display_name": "Python 3 (ipykernel)",
   "language": "python",
   "name": "python3"
  },
  "language_info": {
   "codemirror_mode": {
    "name": "ipython",
    "version": 3
   },
   "file_extension": ".py",
   "mimetype": "text/x-python",
   "name": "python",
   "nbconvert_exporter": "python",
   "pygments_lexer": "ipython3",
   "version": "3.11.3"
  },
  "toc": {
   "base_numbering": 1,
   "nav_menu": {},
   "number_sections": false,
   "sideBar": true,
   "skip_h1_title": false,
   "title_cell": "Table of Contents",
   "title_sidebar": "Contents",
   "toc_cell": false,
   "toc_position": {},
   "toc_section_display": true,
   "toc_window_display": false
  }
 },
 "nbformat": 4,
 "nbformat_minor": 2
}
