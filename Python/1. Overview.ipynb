{
 "cells": [
  {
   "cell_type": "markdown",
   "metadata": {},
   "source": [
    "# <center>Overview</center>"
   ]
  },
  {
   "cell_type": "markdown",
   "metadata": {},
   "source": [
    "## Target\n",
    "\n",
    "#### How to use Python to do advanced data analytics\n",
    "\n",
    "* Python programming\n",
    "\n",
    "* Data engineering and data science\n",
    "\n",
    "* Algorithms and Mathematical underpinnings\n",
    "\n",
    "* Hands-on sample projects"
   ]
  },
  {
   "cell_type": "markdown",
   "metadata": {},
   "source": [
    "## Priority List\n",
    "\n",
    "#### 1. Python & Jupyter\n",
    "\n",
    "Programming Language and interactive coding environment\n",
    "\n",
    "#### 2. Spark, Pandas\n",
    "\n",
    "Data transformation techniques\n",
    "\n",
    "#### 3. Spark, scikit-learn\n",
    "\n",
    "Modeling or advanced analytics\n",
    "\n",
    "#### 4. Keras & Tensorflow\n",
    "\n",
    "Modeling or advanced analytics\n",
    "\n",
    "#### 5. Matplotlib\n",
    "\n",
    "Plotting library\n",
    "\n",
    "#### 6. Numpy\n",
    "\n",
    "Fundamental package for scientific computing in Python "
   ]
  },
  {
   "cell_type": "markdown",
   "metadata": {},
   "source": [
    "## How to cover and digest so much content in such a short time ?!"
   ]
  },
  {
   "cell_type": "markdown",
   "metadata": {},
   "source": [
    "* Focus on basic concepts\n",
    "* Understanding over memorizing\n",
    "* Repeat & Practise\n",
    "* Google, Stack Overflow, zhihu"
   ]
  },
  {
   "cell_type": "markdown",
   "metadata": {},
   "source": [
    "### What really matters is  HOW WELL YOU UNDERSTAND & HOW FAST YOU LEARN"
   ]
  },
  {
   "cell_type": "markdown",
   "metadata": {},
   "source": [
    "\n"
   ]
  }
 ],
 "metadata": {
  "kernelspec": {
   "display_name": "Python 3",
   "language": "python",
   "name": "python3"
  },
  "language_info": {
   "codemirror_mode": {
    "name": "ipython",
    "version": 3
   },
   "file_extension": ".py",
   "mimetype": "text/x-python",
   "name": "python",
   "nbconvert_exporter": "python",
   "pygments_lexer": "ipython3",
   "version": "3.7.4"
  }
 },
 "nbformat": 4,
 "nbformat_minor": 2
}
